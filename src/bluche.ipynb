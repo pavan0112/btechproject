{
 "cells": [
  {
   "cell_type": "code",
   "execution_count": 1,
   "id": "f455b219",
   "metadata": {},
   "outputs": [
    {
     "name": "stderr",
     "output_type": "stream",
     "text": [
      "2023-04-11 16:32:24.473932: I tensorflow/core/platform/cpu_feature_guard.cc:193] This TensorFlow binary is optimized with oneAPI Deep Neural Network Library (oneDNN) to use the following CPU instructions in performance-critical operations:  AVX2 FMA\n",
      "To enable them in other operations, rebuild TensorFlow with the appropriate compiler flags.\n",
      "2023-04-11 16:32:25.089057: W tensorflow/compiler/xla/stream_executor/platform/default/dso_loader.cc:64] Could not load dynamic library 'libnvinfer.so.7'; dlerror: libnvinfer.so.7: cannot open shared object file: No such file or directory\n",
      "2023-04-11 16:32:25.089110: W tensorflow/compiler/xla/stream_executor/platform/default/dso_loader.cc:64] Could not load dynamic library 'libnvinfer_plugin.so.7'; dlerror: libnvinfer_plugin.so.7: cannot open shared object file: No such file or directory\n",
      "2023-04-11 16:32:25.089116: W tensorflow/compiler/tf2tensorrt/utils/py_utils.cc:38] TF-TRT Warning: Cannot dlopen some TensorRT libraries. If you would like to use Nvidia GPU with TensorRT, please make sure the missing libraries mentioned above are installed properly.\n"
     ]
    },
    {
     "name": "stdout",
     "output_type": "stream",
     "text": [
      "1 Physical GPUs, 1 Logical GPUs\n"
     ]
    },
    {
     "name": "stderr",
     "output_type": "stream",
     "text": [
      "2023-04-11 16:32:25.791172: I tensorflow/compiler/xla/stream_executor/cuda/cuda_gpu_executor.cc:981] successful NUMA node read from SysFS had negative value (-1), but there must be at least one NUMA node, so returning NUMA node zero\n",
      "2023-04-11 16:32:25.816993: I tensorflow/compiler/xla/stream_executor/cuda/cuda_gpu_executor.cc:981] successful NUMA node read from SysFS had negative value (-1), but there must be at least one NUMA node, so returning NUMA node zero\n",
      "2023-04-11 16:32:25.817153: I tensorflow/compiler/xla/stream_executor/cuda/cuda_gpu_executor.cc:981] successful NUMA node read from SysFS had negative value (-1), but there must be at least one NUMA node, so returning NUMA node zero\n",
      "2023-04-11 16:32:25.817725: I tensorflow/core/platform/cpu_feature_guard.cc:193] This TensorFlow binary is optimized with oneAPI Deep Neural Network Library (oneDNN) to use the following CPU instructions in performance-critical operations:  AVX2 FMA\n",
      "To enable them in other operations, rebuild TensorFlow with the appropriate compiler flags.\n",
      "2023-04-11 16:32:25.818217: I tensorflow/compiler/xla/stream_executor/cuda/cuda_gpu_executor.cc:981] successful NUMA node read from SysFS had negative value (-1), but there must be at least one NUMA node, so returning NUMA node zero\n",
      "2023-04-11 16:32:25.818353: I tensorflow/compiler/xla/stream_executor/cuda/cuda_gpu_executor.cc:981] successful NUMA node read from SysFS had negative value (-1), but there must be at least one NUMA node, so returning NUMA node zero\n",
      "2023-04-11 16:32:25.818474: I tensorflow/compiler/xla/stream_executor/cuda/cuda_gpu_executor.cc:981] successful NUMA node read from SysFS had negative value (-1), but there must be at least one NUMA node, so returning NUMA node zero\n",
      "2023-04-11 16:32:26.270196: I tensorflow/compiler/xla/stream_executor/cuda/cuda_gpu_executor.cc:981] successful NUMA node read from SysFS had negative value (-1), but there must be at least one NUMA node, so returning NUMA node zero\n",
      "2023-04-11 16:32:26.270365: I tensorflow/compiler/xla/stream_executor/cuda/cuda_gpu_executor.cc:981] successful NUMA node read from SysFS had negative value (-1), but there must be at least one NUMA node, so returning NUMA node zero\n",
      "2023-04-11 16:32:26.270503: I tensorflow/compiler/xla/stream_executor/cuda/cuda_gpu_executor.cc:981] successful NUMA node read from SysFS had negative value (-1), but there must be at least one NUMA node, so returning NUMA node zero\n",
      "2023-04-11 16:32:26.270609: I tensorflow/core/common_runtime/gpu/gpu_device.cc:1613] Created device /job:localhost/replica:0/task:0/device:GPU:0 with 9377 MB memory:  -> device: 0, name: NVIDIA GeForce RTX 2080 Ti, pci bus id: 0000:01:00.0, compute capability: 7.5\n"
     ]
    }
   ],
   "source": [
    "import tensorflow as tf\n",
    "gpus = tf.config.list_physical_devices('GPU')\n",
    "if gpus:\n",
    "  try:\n",
    "    # Currently, memory growth needs to be the same across GPUs\n",
    "    for gpu in gpus:\n",
    "      tf.config.experimental.set_memory_growth(gpu, True)\n",
    "    logical_gpus = tf.config.list_logical_devices('GPU')\n",
    "    print(len(gpus), \"Physical GPUs,\", len(logical_gpus), \"Logical GPUs\")\n",
    "  except RuntimeError as e:\n",
    "    # Memory growth must be set before GPUs have been initialized\n",
    "    print(e)\n"
   ]
  },
  {
   "cell_type": "code",
   "execution_count": 1,
   "id": "6c45f574",
   "metadata": {},
   "outputs": [
    {
     "data": {
      "text/plain": [
       "'..\\\\data\\\\images\\\\data'"
      ]
     },
     "execution_count": 1,
     "metadata": {},
     "output_type": "execute_result"
    }
   ],
   "source": [
    "import os\n",
    "\n",
    "\n",
    "EPOCHS = 100\n",
    "BATCH_SIZE = 8\n",
    "ARCH = \"bluche\"\n",
    "\n",
    "IMG_SIZE = (128,32, 1)\n",
    "DATA_ROOT_PATH = \"..\\\\data\"\n",
    "IMAGES_PATH = os.path.join(DATA_ROOT_PATH, \"images\", \"data\")\n",
    "IMAGES_PATH"
   ]
  },
  {
   "cell_type": "code",
   "execution_count": 2,
   "id": "f915efde",
   "metadata": {},
   "outputs": [],
   "source": [
    "vocab = None\n",
    "\n",
    "with open(os.path.join(DATA_ROOT_PATH, \"hindi_vocab.txt\"),encoding=\"utf-8\") as f:\n",
    "  vocab = f.readlines()\n",
    "\n",
    "idx_to_vocab = {i:value.strip() for i, value in enumerate(vocab)}\n",
    "vocab_to_idx = {value:key for key, value in idx_to_vocab.items()}"
   ]
  },
  {
   "cell_type": "code",
   "execution_count": 3,
   "id": "113fec85",
   "metadata": {},
   "outputs": [],
   "source": [
    "train_data = None\n",
    "\n",
    "with open(os.path.join(DATA_ROOT_PATH, \"new_train.txt\"), encoding=\"utf-8\") as f:\n",
    "  train_data = f.readlines()"
   ]
  },
  {
   "cell_type": "code",
   "execution_count": 4,
   "id": "3870ebae",
   "metadata": {},
   "outputs": [],
   "source": [
    "valid_data = None\n",
    "\n",
    "with open(os.path.join(DATA_ROOT_PATH, \"new_val.txt\"), encoding=\"utf-8\") as f:\n",
    "  valid_data = f.readlines()"
   ]
  },
  {
   "cell_type": "code",
   "execution_count": 5,
   "id": "01e965cd",
   "metadata": {},
   "outputs": [],
   "source": [
    "test_data = None\n",
    "\n",
    "with open(os.path.join(DATA_ROOT_PATH, \"new_val.txt\"), encoding=\"utf-8\") as f:\n",
    "  test_data = f.readlines()"
   ]
  },
  {
   "cell_type": "code",
   "execution_count": 6,
   "id": "763be9c6",
   "metadata": {},
   "outputs": [],
   "source": [
    "charl = None\n",
    "\n",
    "with open( \"charList.txt\", encoding=\"utf-8\") as f:\n",
    "  charl = f.readlines()"
   ]
  },
  {
   "cell_type": "code",
   "execution_count": 7,
   "id": "4f821b00",
   "metadata": {},
   "outputs": [],
   "source": [
    "charl=charl[0]"
   ]
  },
  {
   "cell_type": "code",
   "execution_count": 9,
   "id": "c8e94fd7",
   "metadata": {},
   "outputs": [],
   "source": [
    "for i in range(4000):\n",
    "    train_data.append(valid_data[i])"
   ]
  },
  {
   "cell_type": "code",
   "execution_count": 10,
   "id": "e1ce84aa",
   "metadata": {},
   "outputs": [
    {
     "data": {
      "text/plain": [
       "73803"
      ]
     },
     "execution_count": 10,
     "metadata": {},
     "output_type": "execute_result"
    }
   ],
   "source": [
    "len(train_data)"
   ]
  },
  {
   "cell_type": "markdown",
   "id": "b68de0b7",
   "metadata": {},
   "source": [
    "# train data labels"
   ]
  },
  {
   "cell_type": "markdown",
   "id": "063b4316",
   "metadata": {},
   "source": [
    "# train data generation"
   ]
  },
  {
   "cell_type": "code",
   "execution_count": 8,
   "id": "05b19bab",
   "metadata": {},
   "outputs": [],
   "source": [
    "import numpy as np\n",
    "from tensorflow.keras.preprocessing.image import load_img, img_to_array\n",
    "import tensorflow as tf\n",
    "from PIL import Image, ImageOps\n",
    "from data import preproc as pp"
   ]
  },
  {
   "cell_type": "code",
   "execution_count": 11,
   "id": "3c682bf3",
   "metadata": {},
   "outputs": [],
   "source": [
    "\n",
    "##label generator\n",
    "def label_g(l):\n",
    "    label=idx_to_vocab[l]\n",
    "    z=[]\n",
    "    for j in range(27):\n",
    "        z.append(0)\n",
    "    for k in range(len(label)):\n",
    "        for r in range(len(charl)):\n",
    "            if label[k]==charl[r]:\n",
    "                z[k]=r\n",
    "    return z   "
   ]
  },
  {
   "cell_type": "code",
   "execution_count": 12,
   "id": "b70735d6",
   "metadata": {},
   "outputs": [],
   "source": [
    "\n",
    "##label generator\n",
    "def label_g1(l):\n",
    "    label=idx_to_vocab[l]\n",
    "    z=[]\n",
    "    for k in range(len(label)):\n",
    "        for r in range(len(charl)):\n",
    "            if label[k]==charl[r]:\n",
    "                z.append(r)\n",
    "    return z   "
   ]
  },
  {
   "cell_type": "code",
   "execution_count": null,
   "id": "8dcde742",
   "metadata": {},
   "outputs": [],
   "source": []
  },
  {
   "cell_type": "code",
   "execution_count": null,
   "id": "64148ee6",
   "metadata": {},
   "outputs": [],
   "source": []
  },
  {
   "cell_type": "code",
   "execution_count": null,
   "id": "859b6a87",
   "metadata": {},
   "outputs": [],
   "source": []
  },
  {
   "cell_type": "code",
   "execution_count": 13,
   "id": "999e70f7",
   "metadata": {},
   "outputs": [
    {
     "data": {
      "text/plain": [
       "array([[0., 0., 0., 0., 0., 0., 0., 0., 0., 0., 0., 0., 0., 0., 0., 0.,\n",
       "        0., 0., 0., 0., 0., 0., 0., 0., 0., 0., 0.],\n",
       "       [0., 0., 0., 0., 0., 0., 0., 0., 0., 0., 0., 0., 0., 0., 0., 0.,\n",
       "        0., 0., 0., 0., 0., 0., 0., 0., 0., 0., 0.],\n",
       "       [0., 0., 0., 0., 0., 0., 0., 0., 0., 0., 0., 0., 0., 0., 0., 0.,\n",
       "        0., 0., 0., 0., 0., 0., 0., 0., 0., 0., 0.],\n",
       "       [0., 0., 0., 0., 0., 0., 0., 0., 0., 0., 0., 0., 0., 0., 0., 0.,\n",
       "        0., 0., 0., 0., 0., 0., 0., 0., 0., 0., 0.],\n",
       "       [0., 0., 0., 0., 0., 0., 0., 0., 0., 0., 0., 0., 0., 0., 0., 0.,\n",
       "        0., 0., 0., 0., 0., 0., 0., 0., 0., 0., 0.],\n",
       "       [0., 0., 0., 0., 0., 0., 0., 0., 0., 0., 0., 0., 0., 0., 0., 0.,\n",
       "        0., 0., 0., 0., 0., 0., 0., 0., 0., 0., 0.],\n",
       "       [0., 0., 0., 0., 0., 0., 0., 0., 0., 0., 0., 0., 0., 0., 0., 0.,\n",
       "        0., 0., 0., 0., 0., 0., 0., 0., 0., 0., 0.],\n",
       "       [0., 0., 0., 0., 0., 0., 0., 0., 0., 0., 0., 0., 0., 0., 0., 0.,\n",
       "        0., 0., 0., 0., 0., 0., 0., 0., 0., 0., 0.]])"
      ]
     },
     "execution_count": 13,
     "metadata": {},
     "output_type": "execute_result"
    }
   ],
   "source": [
    "s=np.zeros((8, 27))\n",
    "s"
   ]
  },
  {
   "cell_type": "code",
   "execution_count": 14,
   "id": "c59e7bc4",
   "metadata": {},
   "outputs": [],
   "source": [
    "import numpy as np\n",
    "from tensorflow.keras.preprocessing.image import load_img, img_to_array\n",
    "import tensorflow as tf\n",
    "from PIL import Image, ImageOps\n",
    "from data import preproc as pp\n",
    "import cv2\n",
    "\n",
    "class DataGen(tf.keras.utils.Sequence):\n",
    "    def __init__(self, data, img_size, batch_size, mode=\"TRAIN\"):\n",
    "        self.data = data\n",
    "        self.img_size = img_size\n",
    "        self.batch_size = batch_size\n",
    "        self.mode = mode\n",
    "        \n",
    "    def __getitem__(self, i):\n",
    "        start = i * self.batch_size\n",
    "        end = (i+1) * self.batch_size\n",
    "        batch_images = np.zeros((self.batch_size, self.img_size[0], self.img_size[1], 1))\n",
    "        batch_labels = np.zeros((self.batch_size, 27))\n",
    "        #batch_labels =[[],[],[],[],[],[],[],[]]\n",
    "        \n",
    "        for ii, df_index in enumerate(range(start, end)):\n",
    "            curr_data = self.data[ii].split()\n",
    "            curr_img_path = curr_data[0]\n",
    "            #curr_label = idx_to_vocab[int(curr_data[1])]\n",
    "            curr_label = label_g(int(curr_data[1]))\n",
    "\n",
    "            curr_img_path = \"/\".join(curr_img_path.split(\"/\")[2:])\n",
    "            curr_img_path = os.path.join(IMAGES_PATH, curr_img_path)\n",
    "\n",
    "            \n",
    "            curr_img = pp.preprocess(curr_img_path, self.img_size)\n",
    "            curr_img=cv2.adaptiveThreshold(curr_img, 255, cv2.ADAPTIVE_THRESH_GAUSSIAN_C,cv2.THRESH_BINARY, 199, 5)\n",
    "            #curr_img = tf.image.resize(curr_img, (self.img_size[0], self.img_size[1]), method=\"nearest\")\n",
    "            #curr_img = curr_img.numpy().reshape((self.img_size[0], self.img_size[1],1))\n",
    "            batch_images[ii, :, :,0] = curr_img \n",
    "            batch_labels[ii,:] = curr_label\n",
    "                    \n",
    "        if self.mode == \"TRAIN\":\n",
    "          return batch_images, batch_labels\n",
    "        else:\n",
    "          return batch_images\n",
    "        \n",
    "    def __len__(self):\n",
    "      return len(self.data) // self.batch_size"
   ]
  },
  {
   "cell_type": "code",
   "execution_count": 15,
   "id": "6191b856",
   "metadata": {},
   "outputs": [],
   "source": [
    "train_datagen = DataGen(train_data, IMG_SIZE, 8)"
   ]
  },
  {
   "cell_type": "code",
   "execution_count": 16,
   "id": "e09feef8",
   "metadata": {},
   "outputs": [],
   "source": [
    "valid_datagen=DataGen(valid_data, IMG_SIZE, 8)"
   ]
  },
  {
   "cell_type": "code",
   "execution_count": 17,
   "id": "7f42974b",
   "metadata": {},
   "outputs": [],
   "source": [
    "test_datagen = DataGen(test_data, IMG_SIZE, 10000)"
   ]
  },
  {
   "cell_type": "markdown",
   "id": "3413c386",
   "metadata": {},
   "source": [
    "# model\n"
   ]
  },
  {
   "cell_type": "code",
   "execution_count": 18,
   "id": "47721ed6",
   "metadata": {},
   "outputs": [],
   "source": [
    "import numpy as np\n",
    "import tensorflow as tf\n",
    "from tensorflow.keras import backend as K\n",
    "from tensorflow.keras import Model\n",
    "from tensorflow.keras.constraints import MaxNorm\n",
    "\n",
    "from network.layers import FullGatedConv2D, GatedConv2D, OctConv2D\n",
    "from tensorflow.keras.layers import Conv2D, Bidirectional, LSTM, GRU, Dense\n",
    "from tensorflow.keras.layers import Dropout, BatchNormalization, LeakyReLU, PReLU\n",
    "from tensorflow.keras.layers import Input, Add, Activation, Lambda, MaxPooling2D, Reshape"
   ]
  },
  {
   "cell_type": "code",
   "execution_count": 19,
   "id": "b515e23a",
   "metadata": {},
   "outputs": [],
   "source": [
    "from network.model import HTRModel\n",
    "\n",
    "# create and compile HTRModel\n",
    "model = HTRModel(architecture=ARCH,\n",
    "                 input_size=IMG_SIZE,\n",
    "                 vocab_size=110,\n",
    "                 beam_width=10,\n",
    "                 stop_tolerance=20,\n",
    "                 reduce_tolerance=15,\n",
    "                 reduce_factor=0.1)\n",
    "\n",
    "model.compile(learning_rate=0.001)"
   ]
  },
  {
   "cell_type": "code",
   "execution_count": 20,
   "id": "996b6975",
   "metadata": {},
   "outputs": [
    {
     "name": "stdout",
     "output_type": "stream",
     "text": [
      "Epoch 1/100\n",
      "   9/9225 [..............................] - ETA: 39:17 - loss: 36.5831"
     ]
    },
    {
     "name": "stderr",
     "output_type": "stream",
     "text": [
      "\n",
      "KeyboardInterrupt\n",
      "\n"
     ]
    }
   ],
   "source": [
    "model.fit(x=train_datagen,\n",
    "          validation_data=valid_datagen,\n",
    "              epochs=EPOCHS,\n",
    "              verbose=1)"
   ]
  },
  {
   "cell_type": "code",
   "execution_count": null,
   "id": "993b3bb9",
   "metadata": {},
   "outputs": [],
   "source": []
  },
  {
   "cell_type": "code",
   "execution_count": null,
   "id": "126c6ca4",
   "metadata": {},
   "outputs": [],
   "source": []
  },
  {
   "cell_type": "code",
   "execution_count": null,
   "id": "e03140a5",
   "metadata": {},
   "outputs": [],
   "source": []
  },
  {
   "cell_type": "code",
   "execution_count": null,
   "id": "fe49570b",
   "metadata": {},
   "outputs": [],
   "source": []
  },
  {
   "cell_type": "code",
   "execution_count": null,
   "id": "7854b4ce",
   "metadata": {},
   "outputs": [],
   "source": []
  },
  {
   "cell_type": "code",
   "execution_count": null,
   "id": "6eebe162",
   "metadata": {},
   "outputs": [],
   "source": []
  },
  {
   "cell_type": "code",
   "execution_count": null,
   "id": "6498775b",
   "metadata": {},
   "outputs": [],
   "source": [
    "curr_data = test_data[56].split()\n",
    "curr_img_path = curr_data[0]\n",
    "\n",
    "\n",
    "curr_img_path = \"/\".join(curr_img_path.split(\"/\")[2:])\n",
    "curr_img_path = os.path.join(IMAGES_PATH, curr_img_path)\n",
    "curr_img = pp1.preprocess(curr_img_path, IMG_SIZE)"
   ]
  },
  {
   "cell_type": "code",
   "execution_count": 233,
   "id": "2770d364",
   "metadata": {},
   "outputs": [
    {
     "data": {
      "text/plain": [
       "(1, 128, 32)"
      ]
     },
     "execution_count": 233,
     "metadata": {},
     "output_type": "execute_result"
    }
   ],
   "source": [
    "curr_img1.shape"
   ]
  },
  {
   "cell_type": "code",
   "execution_count": 61,
   "id": "673ed047",
   "metadata": {},
   "outputs": [],
   "source": [
    "curr_img1 = np.expand_dims(curr_img, 0)"
   ]
  },
  {
   "cell_type": "code",
   "execution_count": 62,
   "id": "20ccbec9",
   "metadata": {},
   "outputs": [
    {
     "data": {
      "text/plain": [
       "([array([[56, 61, 62, 21,  3, 23]])], [array([0.32158688], dtype=float32)])"
      ]
     },
     "execution_count": 62,
     "metadata": {},
     "output_type": "execute_result"
    }
   ],
   "source": [
    "model.predict(curr_img1)"
   ]
  },
  {
   "cell_type": "code",
   "execution_count": 63,
   "id": "4a61f842",
   "metadata": {},
   "outputs": [
    {
     "name": "stdout",
     "output_type": "stream",
     "text": [
      "स\n",
      "ि\n",
      "ी\n",
      "क\n",
      "ं\n",
      "ग\n"
     ]
    }
   ],
   "source": [
    "print(charl[56])\n",
    "print(charl[61])\n",
    "print(charl[62])\n",
    "print(charl[21])\n",
    "print(charl[3])\n",
    "print(charl[23])"
   ]
  },
  {
   "cell_type": "code",
   "execution_count": 64,
   "id": "141eb53b",
   "metadata": {},
   "outputs": [
    {
     "data": {
      "text/plain": [
       "<matplotlib.image.AxesImage at 0x7f81bf4e85b0>"
      ]
     },
     "execution_count": 64,
     "metadata": {},
     "output_type": "execute_result"
    },
    {
     "data": {
      "image/png": "[encoded data removed]",
      "text/plain": [
       "<Figure size 432x288 with 1 Axes>"
      ]
     },
     "metadata": {
      "needs_background": "light"
     },
     "output_type": "display_data"
    }
   ],
   "source": [
    "plt.imshow(curr_img)"
   ]
  },
  {
   "cell_type": "code",
   "execution_count": 26,
   "id": "a91dc951",
   "metadata": {},
   "outputs": [
    {
     "name": "stdout",
     "output_type": "stream",
     "text": [
      "ह\n",
      "ा\n",
      "ं\n",
      "ग\n",
      "क\n",
      "ा\n",
      "ं\n",
      "ग\n"
     ]
    }
   ],
   "source": [
    "print(charl[57])\n",
    "print(charl[60])\n",
    "print(charl[3])\n",
    "print(charl[23])\n",
    "print(charl[21])\n",
    "print(charl[60])\n",
    "print(charl[3])\n",
    "print(charl[23])"
   ]
  },
  {
   "cell_type": "code",
   "execution_count": 117,
   "id": "535e27ab",
   "metadata": {},
   "outputs": [
    {
     "ename": "ValueError",
     "evalue": "could not broadcast input array from shape (6,) into shape (27,)",
     "output_type": "error",
     "traceback": [
      "\u001b[0;31m---------------------------------------------------------------------------\u001b[0m",
      "\u001b[0;31mValueError\u001b[0m                                Traceback (most recent call last)",
      "Input \u001b[0;32mIn [117]\u001b[0m, in \u001b[0;36m<cell line: 1>\u001b[0;34m()\u001b[0m\n\u001b[0;32m----> 1\u001b[0m xt\u001b[38;5;241m=\u001b[39m\u001b[43mtest_datagen\u001b[49m\u001b[43m[\u001b[49m\u001b[38;5;241;43m0\u001b[39;49m\u001b[43m]\u001b[49m[\u001b[38;5;241m0\u001b[39m]\n\u001b[1;32m      2\u001b[0m yt\u001b[38;5;241m=\u001b[39mtest_datagen[\u001b[38;5;241m0\u001b[39m][\u001b[38;5;241m1\u001b[39m]\n",
      "Input \u001b[0;32mIn [115]\u001b[0m, in \u001b[0;36mDataGen1.__getitem__\u001b[0;34m(self, i)\u001b[0m\n\u001b[1;32m     45\u001b[0m     \u001b[38;5;66;03m#curr_img = tf.image.resize(curr_img, (self.img_size[0], self.img_size[1]), method=\"nearest\")\u001b[39;00m\n\u001b[1;32m     46\u001b[0m     \u001b[38;5;66;03m#curr_img = curr_img.numpy().reshape((self.img_size[0], self.img_size[1],1))\u001b[39;00m\n\u001b[1;32m     47\u001b[0m     batch_images[ii, :, :,\u001b[38;5;241m0\u001b[39m] \u001b[38;5;241m=\u001b[39m curr_img \n\u001b[0;32m---> 48\u001b[0m     batch_labels[ii,:] \u001b[38;5;241m=\u001b[39m curr_label\n\u001b[1;32m     50\u001b[0m \u001b[38;5;28;01mif\u001b[39;00m \u001b[38;5;28mself\u001b[39m\u001b[38;5;241m.\u001b[39mmode \u001b[38;5;241m==\u001b[39m \u001b[38;5;124m\"\u001b[39m\u001b[38;5;124mTRAIN\u001b[39m\u001b[38;5;124m\"\u001b[39m:\n\u001b[1;32m     51\u001b[0m   \u001b[38;5;28;01mreturn\u001b[39;00m batch_images, batch_labels\n",
      "\u001b[0;31mValueError\u001b[0m: could not broadcast input array from shape (6,) into shape (27,)"
     ]
    }
   ],
   "source": [
    "xt=test_datagen[0][0]\n",
    "yt=test_datagen[0][1]"
   ]
  },
  {
   "cell_type": "code",
   "execution_count": 84,
   "id": "46062c13",
   "metadata": {},
   "outputs": [
    {
     "name": "stdout",
     "output_type": "stream",
     "text": [
      "Model Predict\n",
      "1/1 [==============================] - 2s 2s/step\n",
      "CTC Decode\n",
      "1/1 [==============================] - 84s 84s/step\n"
     ]
    }
   ],
   "source": [
    "predicts, _ = model.predict(x=xt,\n",
    "                            ctc_decode=True,\n",
    "                            verbose=1)"
   ]
  },
  {
   "cell_type": "code",
   "execution_count": 96,
   "id": "31bfff8e",
   "metadata": {},
   "outputs": [
    {
     "data": {
      "text/plain": [
       "1"
      ]
     },
     "execution_count": 96,
     "metadata": {},
     "output_type": "execute_result"
    }
   ],
   "source": [
    "len(predicts[0])"
   ]
  },
  {
   "cell_type": "code",
   "execution_count": 100,
   "id": "a7f9ef1a",
   "metadata": {},
   "outputs": [
    {
     "data": {
      "text/plain": [
       "[26, 61, 50, 74, 21, 60]"
      ]
     },
     "execution_count": 100,
     "metadata": {},
     "output_type": "execute_result"
    }
   ],
   "source": [
    "predicts[1][0]"
   ]
  },
  {
   "cell_type": "code",
   "execution_count": 101,
   "id": "9e88242f",
   "metadata": {},
   "outputs": [],
   "source": [
    "def convert(predicts):\n",
    "    a=[]\n",
    "    b=[]\n",
    "    for i in range(len(predicts)):\n",
    "        b=[]\n",
    "        for j in range(len(predicts[i][0])):\n",
    "            b.append(charl[predicts[i][0][j]])\n",
    "        a.append(b)\n",
    "    return a"
   ]
  },
  {
   "cell_type": "code",
   "execution_count": 132,
   "id": "af1d19d5",
   "metadata": {},
   "outputs": [],
   "source": [
    "def convert1(predicts):\n",
    "    a=[]\n",
    "    b=[]\n",
    "    for i in range(len(predicts)):\n",
    "        b=[]\n",
    "        for j in range(len(predicts[i])):\n",
    "            b.append(charl[int(predicts[i][j])])\n",
    "        a.append(b)\n",
    "    return a"
   ]
  },
  {
   "cell_type": "code",
   "execution_count": 122,
   "id": "754b41fa",
   "metadata": {},
   "outputs": [],
   "source": [
    "def trim(yt):\n",
    "    yt1=[]\n",
    "    for i in range(len(yt)):\n",
    "        k=0\n",
    "        for j in range(26,0,-1):\n",
    "            if yt[i][j]!=0:\n",
    "                yt1.append(yt[i][0:j+1])\n",
    "                k=1\n",
    "                break\n",
    "        if k==0:\n",
    "            yt1.append([0])\n",
    "    return yt1"
   ]
  },
  {
   "cell_type": "code",
   "execution_count": 123,
   "id": "302c3f95",
   "metadata": {},
   "outputs": [],
   "source": [
    "yt1=trim(yt)"
   ]
  },
  {
   "cell_type": "code",
   "execution_count": 126,
   "id": "c4c9021a",
   "metadata": {},
   "outputs": [
    {
     "data": {
      "text/plain": [
       "6"
      ]
     },
     "execution_count": 126,
     "metadata": {},
     "output_type": "execute_result"
    }
   ],
   "source": [
    "len(yt1[0])"
   ]
  },
  {
   "cell_type": "code",
   "execution_count": 125,
   "id": "c47b0cb3",
   "metadata": {},
   "outputs": [
    {
     "data": {
      "text/plain": [
       "27"
      ]
     },
     "execution_count": 125,
     "metadata": {},
     "output_type": "execute_result"
    }
   ],
   "source": [
    "len(yt[0])"
   ]
  },
  {
   "cell_type": "code",
   "execution_count": 131,
   "id": "a0fee033",
   "metadata": {},
   "outputs": [
    {
     "data": {
      "text/plain": [
       "60.0"
      ]
     },
     "execution_count": 131,
     "metadata": {},
     "output_type": "execute_result"
    }
   ],
   "source": [
    "yt1[0][1]"
   ]
  },
  {
   "cell_type": "code",
   "execution_count": 102,
   "id": "b7b28b98",
   "metadata": {},
   "outputs": [],
   "source": [
    "predicts1=convert(predicts)"
   ]
  },
  {
   "cell_type": "code",
   "execution_count": 133,
   "id": "caf6fecc",
   "metadata": {},
   "outputs": [],
   "source": [
    "gt=convert1(yt1)"
   ]
  },
  {
   "cell_type": "code",
   "execution_count": 139,
   "id": "013ec780",
   "metadata": {},
   "outputs": [],
   "source": [
    "from data import evaluation"
   ]
  },
  {
   "cell_type": "code",
   "execution_count": 145,
   "id": "3c3cd9e0",
   "metadata": {},
   "outputs": [],
   "source": [
    "\n",
    "import string\n",
    "import unicodedata\n",
    "import editdistance\n",
    "import numpy as np\n",
    "\n",
    "\n",
    "def ocr_metrics(predicts, ground_truth, norm_accentuation=False, norm_punctuation=False):\n",
    "    \"\"\"Calculate Character Error Rate (CER), Word Error Rate (WER) and Sequence Error Rate (SER)\"\"\"\n",
    "\n",
    "    if len(predicts) == 0 or len(ground_truth) == 0:\n",
    "        return (1, 1, 1)\n",
    "\n",
    "    cer, wer, ser = [], [], []\n",
    "\n",
    "    for (pd, gt) in zip(predicts, ground_truth):\n",
    "        '''pd, gt = pd.lower(), gt.lower()\n",
    "\n",
    "        if norm_accentuation:\n",
    "            pd = unicodedata.normalize(\"NFKD\", pd).encode(\"ASCII\", \"ignore\").decode(\"ASCII\")\n",
    "            gt = unicodedata.normalize(\"NFKD\", gt).encode(\"ASCII\", \"ignore\").decode(\"ASCII\")\n",
    "\n",
    "        if norm_punctuation:\n",
    "            pd = pd.translate(str.maketrans(\"\", \"\", string.punctuation))\n",
    "            gt = gt.translate(str.maketrans(\"\", \"\", string.punctuation))\n",
    "\t'''\n",
    "        pd_cer, gt_cer = list(pd), list(gt)\n",
    "        dist = editdistance.eval(pd_cer, gt_cer)\n",
    "        cer.append(dist / (max(len(pd_cer), len(gt_cer))))\n",
    "'''\n",
    "        pd_wer, gt_wer = pd, gt\n",
    "        dist = editdistance.eval(pd_wer, gt_wer)\n",
    "        wer.append(dist / (max(len(pd_wer), len(gt_wer))))\n",
    "        \n",
    "        pd_ser, gt_ser = [pd], [gt]\n",
    "        dist = editdistance.eval(pd_ser, gt_ser)\n",
    "        ser.append(dist / (max(len(pd_ser), len(gt_ser))))\n",
    "        '''\n",
    "    metrics = [cer, wer]\n",
    "    metrics = np.mean(metrics, axis=1)\n",
    "\n",
    "    return metrics"
   ]
  },
  {
   "cell_type": "code",
   "execution_count": 146,
   "id": "33e23217",
   "metadata": {},
   "outputs": [
    {
     "name": "stdout",
     "output_type": "stream",
     "text": [
      "Calculate Character Error Rate 0.914447951099767, Word Error Rate 0.914447951099767 \n"
     ]
    }
   ],
   "source": [
    "evaluate = ocr_metrics(predicts=predicts1,\n",
    "                                  ground_truth=gt,)\n",
    " \n",
    "print(\"Calculate Character Error Rate {} \".format(evaluate[0],))"
   ]
  },
  {
   "cell_type": "code",
   "execution_count": 104,
   "id": "95e140a1",
   "metadata": {},
   "outputs": [
    {
     "data": {
      "text/plain": [
       "['व', 'न', 'क', 'ि', 'ा']"
      ]
     },
     "execution_count": 104,
     "metadata": {},
     "output_type": "execute_result"
    }
   ],
   "source": [
    "predicts1[0]"
   ]
  },
  {
   "cell_type": "code",
   "execution_count": null,
   "id": "4d38494d",
   "metadata": {},
   "outputs": [],
   "source": []
  },
  {
   "cell_type": "code",
   "execution_count": null,
   "id": "7e688e75",
   "metadata": {},
   "outputs": [],
   "source": []
  },
  {
   "cell_type": "code",
   "execution_count": null,
   "id": "b6964ed6",
   "metadata": {},
   "outputs": [],
   "source": []
  },
  {
   "cell_type": "code",
   "execution_count": null,
   "id": "0ab4d1fc",
   "metadata": {},
   "outputs": [],
   "source": []
  },
  {
   "cell_type": "markdown",
   "id": "c29b4459",
   "metadata": {},
   "source": [
    "# charlist generation\n"
   ]
  },
  {
   "cell_type": "code",
   "execution_count": null,
   "id": "fb4cc6ec",
   "metadata": {},
   "outputs": [],
   "source": []
  },
  {
   "cell_type": "code",
   "execution_count": null,
   "id": "e979413d",
   "metadata": {},
   "outputs": [],
   "source": []
  },
  {
   "cell_type": "code",
   "execution_count": null,
   "id": "3df3eaea",
   "metadata": {},
   "outputs": [],
   "source": []
  },
  {
   "cell_type": "code",
   "execution_count": null,
   "id": "cf895ebd",
   "metadata": {},
   "outputs": [],
   "source": []
  },
  {
   "cell_type": "code",
   "execution_count": null,
   "id": "19835df7",
   "metadata": {},
   "outputs": [],
   "source": []
  }
 ],
 "metadata": {
  "kernelspec": {
   "display_name": "Python 3 (ipykernel)",
   "language": "python",
   "name": "python3"
  },
  "language_info": {
   "codemirror_mode": {
    "name": "ipython",
    "version": 3
   },
   "file_extension": ".py",
   "mimetype": "text/x-python",
   "name": "python",
   "nbconvert_exporter": "python",
   "pygments_lexer": "ipython3",
   "version": "3.10.9"
  }
 },
 "nbformat": 4,
 "nbformat_minor": 5
}
