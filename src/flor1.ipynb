{
 "cells": [
  {
   "cell_type": "code",
   "execution_count": null,
   "id": "f455b219",
   "metadata": {},
   "outputs": [],
   "source": [
    "import tensorflow as tf\n",
    "gpus = tf.config.list_physical_devices('GPU')\n",
    "if gpus:\n",
    "  try:\n",
    "    # Currently, memory growth needs to be the same across GPUs\n",
    "    for gpu in gpus:\n",
    "      tf.config.experimental.set_memory_growth(gpu, True)\n",
    "    logical_gpus = tf.config.list_logical_devices('GPU')\n",
    "    print(len(gpus), \"Physical GPUs,\", len(logical_gpus), \"Logical GPUs\")\n",
    "  except RuntimeError as e:\n",
    "    # Memory growth must be set before GPUs have been initialized\n",
    "    print(e)\n"
   ]
  },
  {
   "cell_type": "code",
   "execution_count": 2,
   "id": "6c45f574",
   "metadata": {},
   "outputs": [
    {
     "data": {
      "text/plain": [
       "'..\\\\data\\\\images\\\\data'"
      ]
     },
     "execution_count": 2,
     "metadata": {},
     "output_type": "execute_result"
    }
   ],
   "source": [
    "import os\n",
    "\n",
    "\n",
    "EPOCHS = 100\n",
    "BATCH_SIZE = 8\n",
    "ARCH = \"flor\"\n",
    "\n",
    "IMG_SIZE = (128,32, 1)\n",
    "DATA_ROOT_PATH = \"..\\\\data\"\n",
    "IMAGES_PATH = os.path.join(DATA_ROOT_PATH, \"images\", \"data\")\n",
    "IMAGES_PATH"
   ]
  },
  {
   "cell_type": "code",
   "execution_count": 3,
   "id": "f915efde",
   "metadata": {},
   "outputs": [],
   "source": [
    "vocab = None\n",
    "\n",
    "with open(os.path.join(DATA_ROOT_PATH, \"hindi_vocab.txt\"),encoding=\"utf-8\") as f:\n",
    "  vocab = f.readlines()\n",
    "\n",
    "idx_to_vocab = {i:value.strip() for i, value in enumerate(vocab)}\n",
    "vocab_to_idx = {value:key for key, value in idx_to_vocab.items()}"
   ]
  },
  {
   "cell_type": "code",
   "execution_count": 5,
   "id": "263e298d",
   "metadata": {},
   "outputs": [],
   "source": [
    "s=idx_to_vocab[89]"
   ]
  },
  {
   "cell_type": "code",
   "execution_count": 7,
   "id": "139e9136",
   "metadata": {},
   "outputs": [
    {
     "name": "stdout",
     "output_type": "stream",
     "text": [
      "उ\n",
      "त\n",
      "्\n",
      "क\n",
      "्\n",
      "र\n",
      "ष\n",
      "्\n",
      "ट\n"
     ]
    }
   ],
   "source": [
    "for i in range(len(s)):\n",
    "    print(s[i])"
   ]
  },
  {
   "cell_type": "code",
   "execution_count": 3,
   "id": "113fec85",
   "metadata": {},
   "outputs": [],
   "source": [
    "train_data = None\n",
    "\n",
    "with open(os.path.join(DATA_ROOT_PATH, \"new_train.txt\"), encoding=\"utf-8\") as f:\n",
    "  train_data = f.readlines()"
   ]
  },
  {
   "cell_type": "code",
   "execution_count": 4,
   "id": "3870ebae",
   "metadata": {},
   "outputs": [],
   "source": [
    "valid_data = None\n",
    "\n",
    "with open(os.path.join(DATA_ROOT_PATH, \"new_val.txt\"), encoding=\"utf-8\") as f:\n",
    "  valid_data = f.readlines()"
   ]
  },
  {
   "cell_type": "code",
   "execution_count": 5,
   "id": "01e965cd",
   "metadata": {},
   "outputs": [],
   "source": [
    "test_data = None\n",
    "\n",
    "with open(os.path.join(DATA_ROOT_PATH, \"new_val.txt\"), encoding=\"utf-8\") as f:\n",
    "  test_data = f.readlines()"
   ]
  },
  {
   "cell_type": "code",
   "execution_count": 6,
   "id": "763be9c6",
   "metadata": {},
   "outputs": [],
   "source": [
    "charl = None\n",
    "\n",
    "with open( \"charList.txt\", encoding=\"utf-8\") as f:\n",
    "  charl = f.readlines()\n",
    "charl = charl[0]"
   ]
  },
  {
   "cell_type": "markdown",
   "id": "b68de0b7",
   "metadata": {},
   "source": [
    "# train data labels"
   ]
  },
  {
   "cell_type": "markdown",
   "id": "063b4316",
   "metadata": {},
   "source": [
    "# train data generation"
   ]
  },
  {
   "cell_type": "code",
   "execution_count": 7,
   "id": "05b19bab",
   "metadata": {},
   "outputs": [],
   "source": [
    "import numpy as np\n",
    "from tensorflow.keras.preprocessing.image import load_img, img_to_array\n",
    "import tensorflow as tf\n",
    "from PIL import Image, ImageOps\n",
    "from data import preproc1 as pp1"
   ]
  },
  {
   "cell_type": "code",
   "execution_count": 8,
   "id": "3c682bf3",
   "metadata": {},
   "outputs": [],
   "source": [
    "\n",
    "##label generator\n",
    "def label_g(l):\n",
    "    label=idx_to_vocab[l]\n",
    "    z=[]\n",
    "    for j in range(27):\n",
    "        z.append(0)\n",
    "    for k in range(len(label)):\n",
    "        for r in range(len(charl)):\n",
    "            if label[k]==charl[r]:\n",
    "                z[k]=r\n",
    "    return z   "
   ]
  },
  {
   "cell_type": "code",
   "execution_count": 9,
   "id": "b70735d6",
   "metadata": {},
   "outputs": [],
   "source": [
    "\n",
    "##label generator\n",
    "def label_g1(l):\n",
    "    label=idx_to_vocab[l]\n",
    "    z=[]\n",
    "    for k in range(len(label)):\n",
    "        for r in range(len(charl)):\n",
    "            if label[k]==charl[r]:\n",
    "                z.append(r)\n",
    "                \n",
    "    return z   "
   ]
  },
  {
   "cell_type": "code",
   "execution_count": null,
   "id": "b8e146dd",
   "metadata": {},
   "outputs": [],
   "source": []
  },
  {
   "cell_type": "code",
   "execution_count": 10,
   "id": "999e70f7",
   "metadata": {},
   "outputs": [
    {
     "data": {
      "text/plain": [
       "array([[0., 0., 0., 0., 0., 0., 0., 0., 0., 0., 0., 0., 0., 0., 0., 0.,\n",
       "        0., 0., 0., 0., 0., 0., 0., 0., 0., 0., 0.],\n",
       "       [0., 0., 0., 0., 0., 0., 0., 0., 0., 0., 0., 0., 0., 0., 0., 0.,\n",
       "        0., 0., 0., 0., 0., 0., 0., 0., 0., 0., 0.],\n",
       "       [0., 0., 0., 0., 0., 0., 0., 0., 0., 0., 0., 0., 0., 0., 0., 0.,\n",
       "        0., 0., 0., 0., 0., 0., 0., 0., 0., 0., 0.],\n",
       "       [0., 0., 0., 0., 0., 0., 0., 0., 0., 0., 0., 0., 0., 0., 0., 0.,\n",
       "        0., 0., 0., 0., 0., 0., 0., 0., 0., 0., 0.],\n",
       "       [0., 0., 0., 0., 0., 0., 0., 0., 0., 0., 0., 0., 0., 0., 0., 0.,\n",
       "        0., 0., 0., 0., 0., 0., 0., 0., 0., 0., 0.],\n",
       "       [0., 0., 0., 0., 0., 0., 0., 0., 0., 0., 0., 0., 0., 0., 0., 0.,\n",
       "        0., 0., 0., 0., 0., 0., 0., 0., 0., 0., 0.],\n",
       "       [0., 0., 0., 0., 0., 0., 0., 0., 0., 0., 0., 0., 0., 0., 0., 0.,\n",
       "        0., 0., 0., 0., 0., 0., 0., 0., 0., 0., 0.],\n",
       "       [0., 0., 0., 0., 0., 0., 0., 0., 0., 0., 0., 0., 0., 0., 0., 0.,\n",
       "        0., 0., 0., 0., 0., 0., 0., 0., 0., 0., 0.]])"
      ]
     },
     "execution_count": 10,
     "metadata": {},
     "output_type": "execute_result"
    }
   ],
   "source": [
    "s=np.zeros((8, 27))\n",
    "s"
   ]
  },
  {
   "cell_type": "code",
   "execution_count": 11,
   "id": "c59e7bc4",
   "metadata": {},
   "outputs": [],
   "source": [
    "import numpy as np\n",
    "from tensorflow.keras.preprocessing.image import ImageDataGenerator\n",
    "import tensorflow as tf\n",
    "from PIL import Image, ImageOps\n",
    "from data import preproc as pp\n",
    "import cv2\n",
    "\n",
    "class DataGen(tf.keras.utils.Sequence):\n",
    "    def __init__(self, data, img_size, batch_size, mode=\"TRAIN\"):\n",
    "        self.data = data\n",
    "        self.img_size = img_size\n",
    "        self.batch_size = batch_size\n",
    "        self.mode = mode\n",
    "        self.augmenter = ImageDataGenerator(\n",
    "            rotation_range=10,\n",
    "            zoom_range=0.1,\n",
    "            width_shift_range=0.1,\n",
    "            height_shift_range=0.1,\n",
    "            shear_range=0.1,\n",
    "            horizontal_flip=True,\n",
    "            vertical_flip=False,\n",
    "            fill_mode=\"nearest\"\n",
    "        )\n",
    "        \n",
    "    def __getitem__(self, i):\n",
    "        start = i * self.batch_size\n",
    "        end = (i+1) * self.batch_size\n",
    "        batch_images = np.zeros((self.batch_size, self.img_size[0], self.img_size[1], 1))\n",
    "        batch_labels = np.zeros((self.batch_size, 27))\n",
    "   \n",
    "        \n",
    "        for ii, df_index in enumerate(range(start, end)):\n",
    "            curr_data = self.data[ii].split()\n",
    "            curr_img_path = curr_data[0]\n",
    "          \n",
    "            curr_label = label_g(int(curr_data[1]))\n",
    "\n",
    "            curr_img_path = \"/\".join(curr_img_path.split(\"/\")[2:])\n",
    "            curr_img_path = os.path.join(IMAGES_PATH, curr_img_path)\n",
    "\n",
    "            \n",
    "            curr_img = pp1.preprocess(curr_img_path, self.img_size)\n",
    "            curr_img=cv2.adaptiveThreshold(curr_img, 255, cv2.ADAPTIVE_THRESH_GAUSSIAN_C,cv2.THRESH_BINARY, 199, 5)\n",
    "            \n",
    "            # Apply data augmentation\n",
    "            if self.mode == \"TRAIN\":\n",
    "                curr_img = self.augmenter.random_transform(curr_img)\n",
    "            \n",
    "            batch_images[ii, :, :,0] = curr_img \n",
    "            batch_labels[ii,:] = curr_label\n",
    "                    \n",
    "        if self.mode == \"TRAIN\":\n",
    "          return batch_images, batch_labels\n",
    "        else:\n",
    "          return batch_images\n",
    "        \n",
    "    def __len__(self):\n",
    "      return len(self.data) // self.batch_size\n"
   ]
  },
  {
   "cell_type": "code",
   "execution_count": 12,
   "id": "6191b856",
   "metadata": {},
   "outputs": [],
   "source": [
    "train_datagen = DataGen(train_data, IMG_SIZE, 8)"
   ]
  },
  {
   "cell_type": "code",
   "execution_count": null,
   "id": "7f42974b",
   "metadata": {},
   "outputs": [],
   "source": [
    "test_datagen = DataGen(test_data, IMG_SIZE, 10000)"
   ]
  },
  {
   "cell_type": "code",
   "execution_count": null,
   "id": "9e2c2b16",
   "metadata": {},
   "outputs": [],
   "source": []
  },
  {
   "cell_type": "markdown",
   "id": "3413c386",
   "metadata": {},
   "source": [
    "# model\n"
   ]
  },
  {
   "cell_type": "code",
   "execution_count": 13,
   "id": "47721ed6",
   "metadata": {},
   "outputs": [],
   "source": [
    "import numpy as np\n",
    "import tensorflow as tf\n",
    "from tensorflow.keras import backend as K\n",
    "from tensorflow.keras import Model\n",
    "from tensorflow.keras.constraints import MaxNorm\n",
    "\n",
    "from network.layers import FullGatedConv2D, GatedConv2D, OctConv2D\n",
    "from tensorflow.keras.layers import Conv2D, Bidirectional, LSTM, GRU, Dense\n",
    "from tensorflow.keras.layers import Dropout, BatchNormalization, LeakyReLU, PReLU\n",
    "from tensorflow.keras.layers import Input, Add, Activation, Lambda, MaxPooling2D, Reshape"
   ]
  },
  {
   "cell_type": "code",
   "execution_count": 16,
   "id": "b515e23a",
   "metadata": {},
   "outputs": [],
   "source": [
    "from network.model1 import HTRModel\n",
    "\n",
    "# create and compile HTRModel\n",
    "model = HTRModel(architecture=ARCH,\n",
    "                 input_size=IMG_SIZE,\n",
    "                 vocab_size=110,\n",
    "                 beam_width=10,\n",
    "                 stop_tolerance=20,\n",
    "                 reduce_tolerance=15,\n",
    "                 reduce_factor=0.1)\n",
    "\n",
    "model.compile(learning_rate=0.001)"
   ]
  },
  {
   "cell_type": "code",
   "execution_count": 17,
   "id": "996b6975",
   "metadata": {},
   "outputs": [
    {
     "ename": "ValueError",
     "evalue": "Input arrays must be multi-channel 2D images.",
     "output_type": "error",
     "traceback": [
      "\u001b[1;31m---------------------------------------------------------------------------\u001b[0m",
      "\u001b[1;31mValueError\u001b[0m                                Traceback (most recent call last)",
      "Cell \u001b[1;32mIn[17], line 1\u001b[0m\n\u001b[1;32m----> 1\u001b[0m \u001b[43mmodel\u001b[49m\u001b[38;5;241;43m.\u001b[39;49m\u001b[43mfit\u001b[49m\u001b[43m(\u001b[49m\u001b[43mx\u001b[49m\u001b[38;5;241;43m=\u001b[39;49m\u001b[43mtrain_datagen\u001b[49m\u001b[43m,\u001b[49m\n\u001b[0;32m      2\u001b[0m \u001b[43m              \u001b[49m\u001b[43mepochs\u001b[49m\u001b[38;5;241;43m=\u001b[39;49m\u001b[38;5;241;43m1\u001b[39;49m\u001b[43m,\u001b[49m\n\u001b[0;32m      3\u001b[0m \u001b[43m              \u001b[49m\u001b[43mverbose\u001b[49m\u001b[38;5;241;43m=\u001b[39;49m\u001b[38;5;241;43m1\u001b[39;49m\u001b[43m)\u001b[49m\n",
      "File \u001b[1;32m~\\Documents\\4 th yr\\btechp\\ocr\\src\\network\\model1.py:195\u001b[0m, in \u001b[0;36mHTRModel.fit\u001b[1;34m(self, x, y, batch_size, epochs, verbose, callbacks, validation_split, validation_data, shuffle, class_weight, sample_weight, initial_epoch, steps_per_epoch, validation_steps, validation_freq, max_queue_size, workers, use_multiprocessing, **kwargs)\u001b[0m\n\u001b[0;32m    192\u001b[0m \u001b[38;5;28;01mif\u001b[39;00m callbacks \u001b[38;5;129;01mand\u001b[39;00m \u001b[38;5;28mself\u001b[39m\u001b[38;5;241m.\u001b[39mlearning_schedule:\n\u001b[0;32m    193\u001b[0m     callbacks \u001b[38;5;241m=\u001b[39m [x \u001b[38;5;28;01mfor\u001b[39;00m x \u001b[38;5;129;01min\u001b[39;00m callbacks \u001b[38;5;28;01mif\u001b[39;00m \u001b[38;5;129;01mnot\u001b[39;00m \u001b[38;5;28misinstance\u001b[39m(x, ReduceLROnPlateau)]\n\u001b[1;32m--> 195\u001b[0m out \u001b[38;5;241m=\u001b[39m \u001b[38;5;28mself\u001b[39m\u001b[38;5;241m.\u001b[39mmodel\u001b[38;5;241m.\u001b[39mfit(x\u001b[38;5;241m=\u001b[39mx, y\u001b[38;5;241m=\u001b[39my, batch_size\u001b[38;5;241m=\u001b[39mbatch_size, epochs\u001b[38;5;241m=\u001b[39mepochs, verbose\u001b[38;5;241m=\u001b[39mverbose,\n\u001b[0;32m    196\u001b[0m                      callbacks\u001b[38;5;241m=\u001b[39mcallbacks, validation_split\u001b[38;5;241m=\u001b[39mvalidation_split,\n\u001b[0;32m    197\u001b[0m                      validation_data\u001b[38;5;241m=\u001b[39mvalidation_data, shuffle\u001b[38;5;241m=\u001b[39mshuffle,\n\u001b[0;32m    198\u001b[0m                      class_weight\u001b[38;5;241m=\u001b[39mclass_weight, sample_weight\u001b[38;5;241m=\u001b[39msample_weight,\n\u001b[0;32m    199\u001b[0m                      initial_epoch\u001b[38;5;241m=\u001b[39minitial_epoch, steps_per_epoch\u001b[38;5;241m=\u001b[39msteps_per_epoch,\n\u001b[0;32m    200\u001b[0m                      validation_steps\u001b[38;5;241m=\u001b[39mvalidation_steps, validation_freq\u001b[38;5;241m=\u001b[39mvalidation_freq,\n\u001b[0;32m    201\u001b[0m                      max_queue_size\u001b[38;5;241m=\u001b[39mmax_queue_size, workers\u001b[38;5;241m=\u001b[39mworkers,\n\u001b[0;32m    202\u001b[0m                      use_multiprocessing\u001b[38;5;241m=\u001b[39muse_multiprocessing, \u001b[38;5;241m*\u001b[39m\u001b[38;5;241m*\u001b[39mkwargs)\n\u001b[0;32m    203\u001b[0m \u001b[38;5;28;01mreturn\u001b[39;00m out\n",
      "File \u001b[1;32m~\\anaconda3\\envs\\pavan\\lib\\site-packages\\keras\\utils\\traceback_utils.py:70\u001b[0m, in \u001b[0;36mfilter_traceback.<locals>.error_handler\u001b[1;34m(*args, **kwargs)\u001b[0m\n\u001b[0;32m     67\u001b[0m     filtered_tb \u001b[38;5;241m=\u001b[39m _process_traceback_frames(e\u001b[38;5;241m.\u001b[39m__traceback__)\n\u001b[0;32m     68\u001b[0m     \u001b[38;5;66;03m# To get the full stack trace, call:\u001b[39;00m\n\u001b[0;32m     69\u001b[0m     \u001b[38;5;66;03m# `tf.debugging.disable_traceback_filtering()`\u001b[39;00m\n\u001b[1;32m---> 70\u001b[0m     \u001b[38;5;28;01mraise\u001b[39;00m e\u001b[38;5;241m.\u001b[39mwith_traceback(filtered_tb) \u001b[38;5;28;01mfrom\u001b[39;00m \u001b[38;5;28mNone\u001b[39m\n\u001b[0;32m     71\u001b[0m \u001b[38;5;28;01mfinally\u001b[39;00m:\n\u001b[0;32m     72\u001b[0m     \u001b[38;5;28;01mdel\u001b[39;00m filtered_tb\n",
      "Cell \u001b[1;32mIn[11], line 47\u001b[0m, in \u001b[0;36mDataGen.__getitem__\u001b[1;34m(self, i)\u001b[0m\n\u001b[0;32m     45\u001b[0m \u001b[38;5;66;03m# Apply data augmentation\u001b[39;00m\n\u001b[0;32m     46\u001b[0m \u001b[38;5;28;01mif\u001b[39;00m \u001b[38;5;28mself\u001b[39m\u001b[38;5;241m.\u001b[39mmode \u001b[38;5;241m==\u001b[39m \u001b[38;5;124m\"\u001b[39m\u001b[38;5;124mTRAIN\u001b[39m\u001b[38;5;124m\"\u001b[39m:\n\u001b[1;32m---> 47\u001b[0m     curr_img \u001b[38;5;241m=\u001b[39m \u001b[38;5;28;43mself\u001b[39;49m\u001b[38;5;241;43m.\u001b[39;49m\u001b[43maugmenter\u001b[49m\u001b[38;5;241;43m.\u001b[39;49m\u001b[43mrandom_transform\u001b[49m\u001b[43m(\u001b[49m\u001b[43mcurr_img\u001b[49m\u001b[43m)\u001b[49m\n\u001b[0;32m     49\u001b[0m batch_images[ii, :, :,\u001b[38;5;241m0\u001b[39m] \u001b[38;5;241m=\u001b[39m curr_img \n\u001b[0;32m     50\u001b[0m batch_labels[ii,:] \u001b[38;5;241m=\u001b[39m curr_label\n",
      "\u001b[1;31mValueError\u001b[0m: Input arrays must be multi-channel 2D images."
     ]
    }
   ],
   "source": [
    "model.fit(x=train_datagen,\n",
    "              epochs=1,\n",
    "              verbose=1)"
   ]
  },
  {
   "cell_type": "code",
   "execution_count": null,
   "id": "0e35679a",
   "metadata": {},
   "outputs": [],
   "source": [
    "from network.model import HTRModel\n",
    "model.save_model('1.h5')"
   ]
  },
  {
   "cell_type": "code",
   "execution_count": null,
   "id": "3265ab20",
   "metadata": {},
   "outputs": [],
   "source": [
    "\n",
    "import cv2\n",
    "import numpy as np\n",
    "import matplotlib.pyplot as plt\n",
    "def preprocess(img, input_size):\n",
    "    \"\"\"Make the process with the `input_size` to the scale resize\"\"\"\n",
    "\n",
    "    def imread(path):\n",
    "        img = cv2.imread(path, cv2.IMREAD_GRAYSCALE)\n",
    "        u, i = np.unique(np.array(img).flatten(), return_inverse=True)\n",
    "        background = int(u[np.argmax(np.bincount(i))])\n",
    "        # plt.imshow(img)\n",
    "        return img, background\n",
    "\n",
    "    if isinstance(img, str):\n",
    "        img, bg = imread(img)\n",
    "\n",
    "    if isinstance(img, tuple):\n",
    "        image, boundbox = img\n",
    "        img, bg = imread(image)\n",
    "\n",
    "        for i in range(len(boundbox)):\n",
    "            if isinstance(boundbox[i], float):\n",
    "                total = len(img) if i < 2 else len(img[0])\n",
    "                boundbox[i] = int(total * boundbox[i])\n",
    "            else:\n",
    "                boundbox[i] = int(boundbox[i])\n",
    "\n",
    "        img = np.asarray(img[boundbox[0]:boundbox[1], boundbox[2]:boundbox[3]], dtype=np.uint8)\n",
    "    print(input_size)\n",
    "    wt, ht = input_size[:-1]\n",
    "    h, w = np.asarray(img).shape\n",
    "    f = max((w / wt),(h / ht) )\n",
    "\n",
    "    new_size = (max(min(wt, int(w / f)), 1), max(min(ht, int(h / f)), 1))\n",
    "\n",
    "    img = cv2.resize(img, new_size, interpolation=cv2.INTER_AREA)\n",
    "\n",
    "    target = np.ones([ht, wt], dtype=np.uint8) * bg\n",
    "    target[0:new_size[1], 0:new_size[0]] = img\n",
    "    img = target\n",
    "    plt.imshow(img)\n",
    "    return img\n",
    "\n",
    "curr_data = test_data[56].split()\n",
    "curr_img_path = curr_data[0]\n",
    "\n",
    "\n",
    "curr_img_path = \"/\".join(curr_img_path.split(\"/\")[2:])\n",
    "curr_img_path = os.path.join(IMAGES_PATH, curr_img_path)\n",
    "curr_img = preprocess(curr_img_path, IMG_SIZE)"
   ]
  },
  {
   "cell_type": "code",
   "execution_count": null,
   "id": "94590bda",
   "metadata": {},
   "outputs": [],
   "source": [
    "curr_img_path"
   ]
  },
  {
   "cell_type": "code",
   "execution_count": null,
   "id": "f98d4c2a",
   "metadata": {},
   "outputs": [],
   "source": [
    "plt.imshow(curr_img)"
   ]
  },
  {
   "cell_type": "code",
   "execution_count": null,
   "id": "673ed047",
   "metadata": {},
   "outputs": [],
   "source": [
    "curr_img1 = np.expand_dims(curr_img, 0)"
   ]
  },
  {
   "cell_type": "code",
   "execution_count": null,
   "id": "20ccbec9",
   "metadata": {},
   "outputs": [],
   "source": [
    "model.predict(curr_img1)"
   ]
  },
  {
   "cell_type": "code",
   "execution_count": null,
   "id": "4a61f842",
   "metadata": {},
   "outputs": [],
   "source": [
    "print(charl[6])\n",
    "print(charl[47])\n",
    "print(charl[33])\n",
    "print(charl[62])\n",
    "print(charl[40])\n",
    "print(charl[23])"
   ]
  },
  {
   "cell_type": "code",
   "execution_count": null,
   "id": "6cf2dd17",
   "metadata": {},
   "outputs": [],
   "source": [
    "import matplotlib.pyplot as plt"
   ]
  },
  {
   "cell_type": "code",
   "execution_count": null,
   "id": "141eb53b",
   "metadata": {},
   "outputs": [],
   "source": [
    "plt.imshow(curr_img)"
   ]
  },
  {
   "cell_type": "code",
   "execution_count": null,
   "id": "a91dc951",
   "metadata": {},
   "outputs": [],
   "source": [
    "print(charl[57])\n",
    "print(charl[60])\n",
    "print(charl[3])\n",
    "print(charl[23])\n",
    "print(charl[21])\n",
    "print(charl[60])\n",
    "print(charl[3])\n",
    "print(charl[23])"
   ]
  },
  {
   "cell_type": "code",
   "execution_count": null,
   "id": "535e27ab",
   "metadata": {},
   "outputs": [],
   "source": [
    "xt=test_datagen[0][0]\n",
    "yt=test_datagen[0][1]"
   ]
  },
  {
   "cell_type": "code",
   "execution_count": null,
   "id": "46062c13",
   "metadata": {},
   "outputs": [],
   "source": [
    "predicts, _ = model.predict(x=xt,\n",
    "                            ctc_decode=True,\n",
    "                            verbose=1)"
   ]
  },
  {
   "cell_type": "code",
   "execution_count": null,
   "id": "31bfff8e",
   "metadata": {},
   "outputs": [],
   "source": [
    "len(predicts[0])"
   ]
  },
  {
   "cell_type": "code",
   "execution_count": null,
   "id": "a7f9ef1a",
   "metadata": {},
   "outputs": [],
   "source": [
    "predicts[1][0]"
   ]
  },
  {
   "cell_type": "code",
   "execution_count": null,
   "id": "9e88242f",
   "metadata": {},
   "outputs": [],
   "source": [
    "def convert(predicts):\n",
    "    a=[]\n",
    "    b=[]\n",
    "    for i in range(len(predicts)):\n",
    "        b=[]\n",
    "        for j in range(len(predicts[i][0])):\n",
    "            b.append(charl[predicts[i][0][j]])\n",
    "        a.append(b)\n",
    "    return a"
   ]
  },
  {
   "cell_type": "code",
   "execution_count": null,
   "id": "af1d19d5",
   "metadata": {},
   "outputs": [],
   "source": [
    "def convert1(predicts):\n",
    "    a=[]\n",
    "    b=[]\n",
    "    for i in range(len(predicts)):\n",
    "        b=[]\n",
    "        for j in range(len(predicts[i])):\n",
    "            b.append(charl[int(predicts[i][j])])\n",
    "        a.append(b)\n",
    "    return a"
   ]
  },
  {
   "cell_type": "code",
   "execution_count": null,
   "id": "754b41fa",
   "metadata": {},
   "outputs": [],
   "source": [
    "def trim(yt):\n",
    "    yt1=[]\n",
    "    for i in range(len(yt)):\n",
    "        k=0\n",
    "        for j in range(26,0,-1):\n",
    "            if yt[i][j]!=0:\n",
    "                yt1.append(yt[i][0:j+1])\n",
    "                k=1\n",
    "                break\n",
    "        if k==0:\n",
    "            yt1.append([0])\n",
    "    return yt1"
   ]
  },
  {
   "cell_type": "code",
   "execution_count": null,
   "id": "302c3f95",
   "metadata": {},
   "outputs": [],
   "source": [
    "yt1=trim(yt)"
   ]
  },
  {
   "cell_type": "code",
   "execution_count": null,
   "id": "c4c9021a",
   "metadata": {},
   "outputs": [],
   "source": [
    "len(yt1[0])"
   ]
  },
  {
   "cell_type": "code",
   "execution_count": null,
   "id": "c47b0cb3",
   "metadata": {},
   "outputs": [],
   "source": [
    "len(yt[0])"
   ]
  },
  {
   "cell_type": "code",
   "execution_count": null,
   "id": "a0fee033",
   "metadata": {},
   "outputs": [],
   "source": [
    "yt1[0][1]"
   ]
  },
  {
   "cell_type": "code",
   "execution_count": null,
   "id": "b7b28b98",
   "metadata": {},
   "outputs": [],
   "source": [
    "predicts1=convert(predicts)"
   ]
  },
  {
   "cell_type": "code",
   "execution_count": null,
   "id": "caf6fecc",
   "metadata": {},
   "outputs": [],
   "source": [
    "gt=convert1(yt1)"
   ]
  },
  {
   "cell_type": "code",
   "execution_count": null,
   "id": "013ec780",
   "metadata": {},
   "outputs": [],
   "source": [
    "from data import evaluation"
   ]
  },
  {
   "cell_type": "code",
   "execution_count": null,
   "id": "3c3cd9e0",
   "metadata": {},
   "outputs": [],
   "source": [
    "\n",
    "import string\n",
    "import unicodedata\n",
    "import editdistance\n",
    "import numpy as np\n",
    "\n",
    "\n",
    "def ocr_metrics(predicts, ground_truth, norm_accentuation=False, norm_punctuation=False):\n",
    "    \"\"\"Calculate Character Error Rate (CER), Word Error Rate (WER) and Sequence Error Rate (SER)\"\"\"\n",
    "\n",
    "    if len(predicts) == 0 or len(ground_truth) == 0:\n",
    "        return (1, 1, 1)\n",
    "\n",
    "    cer, wer, ser = [], [], []\n",
    "\n",
    "    for (pd, gt) in zip(predicts, ground_truth):\n",
    "        '''pd, gt = pd.lower(), gt.lower()\n",
    "\n",
    "        if norm_accentuation:\n",
    "            pd = unicodedata.normalize(\"NFKD\", pd).encode(\"ASCII\", \"ignore\").decode(\"ASCII\")\n",
    "            gt = unicodedata.normalize(\"NFKD\", gt).encode(\"ASCII\", \"ignore\").decode(\"ASCII\")\n",
    "\n",
    "        if norm_punctuation:\n",
    "            pd = pd.translate(str.maketrans(\"\", \"\", string.punctuation))\n",
    "            gt = gt.translate(str.maketrans(\"\", \"\", string.punctuation))\n",
    "\t'''\n",
    "        pd_cer, gt_cer = list(pd), list(gt)\n",
    "        dist = editdistance.eval(pd_cer, gt_cer)\n",
    "        cer.append(dist / (max(len(pd_cer), len(gt_cer))))\n",
    "'''\n",
    "        pd_wer, gt_wer = pd, gt\n",
    "        dist = editdistance.eval(pd_wer, gt_wer)\n",
    "        wer.append(dist / (max(len(pd_wer), len(gt_wer))))\n",
    "        \n",
    "        pd_ser, gt_ser = [pd], [gt]\n",
    "        dist = editdistance.eval(pd_ser, gt_ser)\n",
    "        ser.append(dist / (max(len(pd_ser), len(gt_ser))))\n",
    "        '''\n",
    "    metrics = [cer, wer]\n",
    "    metrics = np.mean(metrics, axis=1)\n",
    "\n",
    "    return metrics"
   ]
  },
  {
   "cell_type": "code",
   "execution_count": null,
   "id": "33e23217",
   "metadata": {},
   "outputs": [],
   "source": [
    "evaluate = ocr_metrics(predicts=predicts1,\n",
    "                                  ground_truth=gt,)\n",
    " \n",
    "print(\"Calculate Character Error Rate {} \".format(evaluate[0],))"
   ]
  },
  {
   "cell_type": "code",
   "execution_count": null,
   "id": "95e140a1",
   "metadata": {},
   "outputs": [],
   "source": [
    "predicts1[0]"
   ]
  },
  {
   "cell_type": "code",
   "execution_count": null,
   "id": "4d38494d",
   "metadata": {},
   "outputs": [],
   "source": []
  },
  {
   "cell_type": "code",
   "execution_count": null,
   "id": "7e688e75",
   "metadata": {},
   "outputs": [],
   "source": []
  },
  {
   "cell_type": "code",
   "execution_count": null,
   "id": "b6964ed6",
   "metadata": {},
   "outputs": [],
   "source": []
  },
  {
   "cell_type": "code",
   "execution_count": null,
   "id": "0ab4d1fc",
   "metadata": {},
   "outputs": [],
   "source": []
  },
  {
   "cell_type": "markdown",
   "id": "c29b4459",
   "metadata": {},
   "source": [
    "# charlist generation\n"
   ]
  },
  {
   "cell_type": "code",
   "execution_count": null,
   "id": "fb4cc6ec",
   "metadata": {},
   "outputs": [],
   "source": []
  },
  {
   "cell_type": "code",
   "execution_count": null,
   "id": "e979413d",
   "metadata": {},
   "outputs": [],
   "source": []
  },
  {
   "cell_type": "code",
   "execution_count": null,
   "id": "3df3eaea",
   "metadata": {},
   "outputs": [],
   "source": []
  },
  {
   "cell_type": "code",
   "execution_count": null,
   "id": "cf895ebd",
   "metadata": {},
   "outputs": [],
   "source": []
  },
  {
   "cell_type": "code",
   "execution_count": null,
   "id": "19835df7",
   "metadata": {},
   "outputs": [],
   "source": []
  }
 ],
 "metadata": {
  "kernelspec": {
   "display_name": "Python 3 (ipykernel)",
   "language": "python",
   "name": "python3"
  },
  "language_info": {
   "codemirror_mode": {
    "name": "ipython",
    "version": 3
   },
   "file_extension": ".py",
   "mimetype": "text/x-python",
   "name": "python",
   "nbconvert_exporter": "python",
   "pygments_lexer": "ipython3",
   "version": "3.10.9"
  }
 },
 "nbformat": 4,
 "nbformat_minor": 5
}
