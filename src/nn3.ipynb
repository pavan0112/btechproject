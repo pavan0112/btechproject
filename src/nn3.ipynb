{
 "cells": [
  {
   "cell_type": "code",
   "execution_count": 1,
   "id": "f455b219",
   "metadata": {},
   "outputs": [
    {
     "name": "stderr",
     "output_type": "stream",
     "text": [
      "2023-04-11 16:32:24.473932: I tensorflow/core/platform/cpu_feature_guard.cc:193] This TensorFlow binary is optimized with oneAPI Deep Neural Network Library (oneDNN) to use the following CPU instructions in performance-critical operations:  AVX2 FMA\n",
      "To enable them in other operations, rebuild TensorFlow with the appropriate compiler flags.\n",
      "2023-04-11 16:32:25.089057: W tensorflow/compiler/xla/stream_executor/platform/default/dso_loader.cc:64] Could not load dynamic library 'libnvinfer.so.7'; dlerror: libnvinfer.so.7: cannot open shared object file: No such file or directory\n",
      "2023-04-11 16:32:25.089110: W tensorflow/compiler/xla/stream_executor/platform/default/dso_loader.cc:64] Could not load dynamic library 'libnvinfer_plugin.so.7'; dlerror: libnvinfer_plugin.so.7: cannot open shared object file: No such file or directory\n",
      "2023-04-11 16:32:25.089116: W tensorflow/compiler/tf2tensorrt/utils/py_utils.cc:38] TF-TRT Warning: Cannot dlopen some TensorRT libraries. If you would like to use Nvidia GPU with TensorRT, please make sure the missing libraries mentioned above are installed properly.\n"
     ]
    },
    {
     "name": "stdout",
     "output_type": "stream",
     "text": [
      "1 Physical GPUs, 1 Logical GPUs\n"
     ]
    },
    {
     "name": "stderr",
     "output_type": "stream",
     "text": [
      "2023-04-11 16:32:25.791172: I tensorflow/compiler/xla/stream_executor/cuda/cuda_gpu_executor.cc:981] successful NUMA node read from SysFS had negative value (-1), but there must be at least one NUMA node, so returning NUMA node zero\n",
      "2023-04-11 16:32:25.816993: I tensorflow/compiler/xla/stream_executor/cuda/cuda_gpu_executor.cc:981] successful NUMA node read from SysFS had negative value (-1), but there must be at least one NUMA node, so returning NUMA node zero\n",
      "2023-04-11 16:32:25.817153: I tensorflow/compiler/xla/stream_executor/cuda/cuda_gpu_executor.cc:981] successful NUMA node read from SysFS had negative value (-1), but there must be at least one NUMA node, so returning NUMA node zero\n",
      "2023-04-11 16:32:25.817725: I tensorflow/core/platform/cpu_feature_guard.cc:193] This TensorFlow binary is optimized with oneAPI Deep Neural Network Library (oneDNN) to use the following CPU instructions in performance-critical operations:  AVX2 FMA\n",
      "To enable them in other operations, rebuild TensorFlow with the appropriate compiler flags.\n",
      "2023-04-11 16:32:25.818217: I tensorflow/compiler/xla/stream_executor/cuda/cuda_gpu_executor.cc:981] successful NUMA node read from SysFS had negative value (-1), but there must be at least one NUMA node, so returning NUMA node zero\n",
      "2023-04-11 16:32:25.818353: I tensorflow/compiler/xla/stream_executor/cuda/cuda_gpu_executor.cc:981] successful NUMA node read from SysFS had negative value (-1), but there must be at least one NUMA node, so returning NUMA node zero\n",
      "2023-04-11 16:32:25.818474: I tensorflow/compiler/xla/stream_executor/cuda/cuda_gpu_executor.cc:981] successful NUMA node read from SysFS had negative value (-1), but there must be at least one NUMA node, so returning NUMA node zero\n",
      "2023-04-11 16:32:26.270196: I tensorflow/compiler/xla/stream_executor/cuda/cuda_gpu_executor.cc:981] successful NUMA node read from SysFS had negative value (-1), but there must be at least one NUMA node, so returning NUMA node zero\n",
      "2023-04-11 16:32:26.270365: I tensorflow/compiler/xla/stream_executor/cuda/cuda_gpu_executor.cc:981] successful NUMA node read from SysFS had negative value (-1), but there must be at least one NUMA node, so returning NUMA node zero\n",
      "2023-04-11 16:32:26.270503: I tensorflow/compiler/xla/stream_executor/cuda/cuda_gpu_executor.cc:981] successful NUMA node read from SysFS had negative value (-1), but there must be at least one NUMA node, so returning NUMA node zero\n",
      "2023-04-11 16:32:26.270609: I tensorflow/core/common_runtime/gpu/gpu_device.cc:1613] Created device /job:localhost/replica:0/task:0/device:GPU:0 with 9377 MB memory:  -> device: 0, name: NVIDIA GeForce RTX 2080 Ti, pci bus id: 0000:01:00.0, compute capability: 7.5\n"
     ]
    }
   ],
   "source": [
    "import tensorflow as tf\n",
    "gpus = tf.config.list_physical_devices('GPU')\n",
    "if gpus:\n",
    "  try:\n",
    "    # Currently, memory growth needs to be the same across GPUs\n",
    "    for gpu in gpus:\n",
    "      tf.config.experimental.set_memory_growth(gpu, True)\n",
    "    logical_gpus = tf.config.list_logical_devices('GPU')\n",
    "    print(len(gpus), \"Physical GPUs,\", len(logical_gpus), \"Logical GPUs\")\n",
    "  except RuntimeError as e:\n",
    "    # Memory growth must be set before GPUs have been initialized\n",
    "    print(e)\n"
   ]
  },
  {
   "cell_type": "code",
   "execution_count": 2,
   "id": "6c45f574",
   "metadata": {},
   "outputs": [
    {
     "data": {
      "text/plain": [
       "'../data/images/data'"
      ]
     },
     "execution_count": 2,
     "metadata": {},
     "output_type": "execute_result"
    }
   ],
   "source": [
    "import os\n",
    "\n",
    "\n",
    "EPOCHS = 100\n",
    "BATCH_SIZE = 8\n",
    "ARCH = \"flor\"\n",
    "\n",
    "IMG_SIZE = (128,32, 1)\n",
    "DATA_ROOT_PATH = \"../data\"\n",
    "IMAGES_PATH = os.path.join(DATA_ROOT_PATH, \"images\", \"data\")\n",
    "IMAGES_PATH"
   ]
  },
  {
   "cell_type": "code",
   "execution_count": 151,
   "id": "1507a8d0",
   "metadata": {},
   "outputs": [
    {
     "data": {
      "text/plain": [
       "<matplotlib.image.AxesImage at 0x7f81b53985b0>"
      ]
     },
     "execution_count": 151,
     "metadata": {},
     "output_type": "execute_result"
    },
    {
     "data": {
      "image/png": "[encoded data removed]",
      "text/plain": [
       "<Figure size 432x288 with 1 Axes>"
      ]
     },
     "metadata": {
      "needs_background": "light"
     },
     "output_type": "display_data"
    }
   ],
   "source": [
    "plt.imshow(curr_img)"
   ]
  },
  {
   "cell_type": "code",
   "execution_count": 159,
   "id": "f915efde",
   "metadata": {},
   "outputs": [],
   "source": [
    "vocab = None\n",
    "\n",
    "with open(os.path.join(DATA_ROOT_PATH, \"hindi_vocab.txt\"),encoding=\"utf-8\") as f:\n",
    "  vocab = f.readlines()\n",
    "\n",
    "idx_to_vocab = {i:value.strip() for i, value in enumerate(vocab)}\n",
    "vocab_to_idx = {value:key for key, value in idx_to_vocab.items()}"
   ]
  },
  {
   "cell_type": "code",
   "execution_count": 4,
   "id": "113fec85",
   "metadata": {},
   "outputs": [],
   "source": [
    "train_data = None\n",
    "\n",
    "with open(os.path.join(DATA_ROOT_PATH, \"new_train.txt\"), encoding=\"utf-8\") as f:\n",
    "  train_data = f.readlines()"
   ]
  },
  {
   "cell_type": "code",
   "execution_count": 5,
   "id": "3870ebae",
   "metadata": {},
   "outputs": [],
   "source": [
    "valid_data = None\n",
    "\n",
    "with open(os.path.join(DATA_ROOT_PATH, \"new_val.txt\"), encoding=\"utf-8\") as f:\n",
    "  valid_data = f.readlines()"
   ]
  },
  {
   "cell_type": "code",
   "execution_count": 6,
   "id": "01e965cd",
   "metadata": {},
   "outputs": [],
   "source": [
    "test_data = None\n",
    "\n",
    "with open(os.path.join(DATA_ROOT_PATH, \"new_val.txt\"), encoding=\"utf-8\") as f:\n",
    "  test_data = f.readlines()"
   ]
  },
  {
   "cell_type": "code",
   "execution_count": 7,
   "id": "763be9c6",
   "metadata": {},
   "outputs": [],
   "source": [
    "charl = None\n",
    "\n",
    "with open( \"charList.txt\", encoding=\"utf-8\") as f:\n",
    "  charl = f.readlines()"
   ]
  },
  {
   "cell_type": "code",
   "execution_count": 8,
   "id": "5a89c0ff",
   "metadata": {},
   "outputs": [],
   "source": [
    "charl=charl[0]"
   ]
  },
  {
   "cell_type": "code",
   "execution_count": 93,
   "id": "21d6473d",
   "metadata": {},
   "outputs": [
    {
     "data": {
      "text/plain": [
       "'श'"
      ]
     },
     "execution_count": 93,
     "metadata": {},
     "output_type": "execute_result"
    }
   ],
   "source": [
    "charl[54]"
   ]
  },
  {
   "cell_type": "code",
   "execution_count": 72,
   "id": "a489f3cb",
   "metadata": {},
   "outputs": [
    {
     "data": {
      "text/plain": [
       "12713"
      ]
     },
     "execution_count": 72,
     "metadata": {},
     "output_type": "execute_result"
    }
   ],
   "source": [
    "len(test_data)"
   ]
  },
  {
   "cell_type": "code",
   "execution_count": null,
   "id": "99e13b84",
   "metadata": {},
   "outputs": [],
   "source": [
    "len(vocab)"
   ]
  },
  {
   "cell_type": "code",
   "execution_count": null,
   "id": "a6d3e247",
   "metadata": {},
   "outputs": [],
   "source": [
    "m=0\n",
    "for i in range(len(vocab)):\n",
    "    s=idx_to_vocab[i]\n",
    "    m=max(m,len(s))\n",
    "m"
   ]
  },
  {
   "cell_type": "code",
   "execution_count": null,
   "id": "0489e39c",
   "metadata": {},
   "outputs": [],
   "source": [
    "len(train_data)"
   ]
  },
  {
   "cell_type": "code",
   "execution_count": null,
   "id": "cf3ddc26",
   "metadata": {},
   "outputs": [],
   "source": [
    "train_data=train_data[:30000]"
   ]
  },
  {
   "cell_type": "code",
   "execution_count": null,
   "id": "c273af3d",
   "metadata": {},
   "outputs": [],
   "source": [
    "#not needed\n",
    "len(d)"
   ]
  },
  {
   "cell_type": "code",
   "execution_count": null,
   "id": "e4763fda",
   "metadata": {},
   "outputs": [],
   "source": [
    "#not needed\n",
    "d=[]\n",
    "path_to_label={}\n",
    "for i in range(len(train_data)):\n",
    "    label=train_data[i].split()\n",
    "    curr_img_path = label[0]\n",
    "    curr_img_path = \"\\\\\".join(curr_img_path.split(\"/\")[2:])\n",
    "    curr_img_path = os.path.join(IMAGES_PATH, curr_img_path)\n",
    "    if os.path.exists(curr_img_path):\n",
    "        d.append(curr_img_path)\n",
    "        path_to_label[curr_img_path]=int(label[1])"
   ]
  },
  {
   "cell_type": "markdown",
   "id": "b68de0b7",
   "metadata": {},
   "source": [
    "# train data labels"
   ]
  },
  {
   "cell_type": "code",
   "execution_count": null,
   "id": "5d8fcafe",
   "metadata": {},
   "outputs": [],
   "source": [
    "#not needed\n",
    "train_data_labels=[]\n",
    "for i in range(len(train_data)):\n",
    "    z=[]\n",
    "    for j in range(27):\n",
    "        z.append(0)\n",
    "    \n",
    "    label=train_data[i].split()\n",
    "    curr_img_path = label[0]\n",
    "    curr_img_path = \"\\\\\".join(curr_img_path.split(\"/\")[2:])\n",
    "    curr_img_path = os.path.join(IMAGES_PATH, curr_img_path)\n",
    "    if os.path.exists(curr_img_path):\n",
    "        label=idx_to_vocab[int(label[1])]\n",
    "        for k in range(len(label)):\n",
    "            for r in range(len(charl)):\n",
    "                if label[k]==charl[r]:\n",
    "                    z[k]=r\n",
    "        train_data_labels.append(z)"
   ]
  },
  {
   "cell_type": "code",
   "execution_count": null,
   "id": "147b6146",
   "metadata": {},
   "outputs": [],
   "source": [
    "#not needed\n",
    "len(train_data_labels)"
   ]
  },
  {
   "cell_type": "code",
   "execution_count": null,
   "id": "11fd14b1",
   "metadata": {},
   "outputs": [],
   "source": [
    "#not needed\n",
    "train_data_labels[0]"
   ]
  },
  {
   "cell_type": "markdown",
   "id": "063b4316",
   "metadata": {},
   "source": [
    "# train data generation"
   ]
  },
  {
   "cell_type": "code",
   "execution_count": null,
   "id": "5a750b08",
   "metadata": {},
   "outputs": [],
   "source": [
    "#not needed\n",
    "curr_img_path = curr_data[0]\n",
    "curr_label = vocab_to_idx[curr_data[1]]\n",
    "\n",
    "curr_img_path = \"\\\\\".join(curr_img_path.split(\"/\")[2:])\n",
    "curr_img_path = os.path.join(IMAGES_PATH, curr_img_path)"
   ]
  },
  {
   "cell_type": "code",
   "execution_count": 21,
   "id": "e449d710",
   "metadata": {},
   "outputs": [],
   "source": [
    "import sys\n",
    "import matplotlib.pyplot as plt\n",
    "import numpy as np\n",
    "from PIL import Image as im\n",
    "from scipy.ndimage import interpolation as inter\n",
    "\n",
    "def find_score(arr, angle):\n",
    "    data = inter.rotate(arr, angle, reshape=False, order=0)\n",
    "    hist = np.sum(data, axis=1)\n",
    "    score = np.sum((hist[1:] - hist[:-1]) ** 2)\n",
    "    return hist, score\n",
    "def skew_c(input_file):\n",
    "    img = im.open(input_file)\n",
    "    # convert to binary\n",
    "    wd, ht = img.size\n",
    "    pix = np.array(img.convert('1').getdata(), np.uint8)\n",
    "    bin_img = 1 - (pix.reshape((ht, wd)) / 255.0)\n",
    "    plt.imshow(bin_img, cmap='gray')\n",
    "    #plt.savefig('binary.png')\n",
    "    delta = 1\n",
    "    limit = 5\n",
    "    angles = np.arange(-limit, limit+delta, delta)\n",
    "    scores = []\n",
    "    for angle in angles:\n",
    "        hist, score = find_score(bin_img, angle)\n",
    "        scores.append(score)\n",
    "    best_score = max(scores)\n",
    "    best_angle = angles[scores.index(best_score)]\n",
    "    #print('Best angle: {}'.formate(best_angle))\n",
    "    # correct skew\n",
    "    data = inter.rotate(bin_img, best_angle, reshape=False, order=0)\n",
    "    img = im.fromarray((255 * data).astype(\"uint8\")).convert(\"RGB\")\n",
    "    return img"
   ]
  },
  {
   "cell_type": "code",
   "execution_count": 9,
   "id": "05b19bab",
   "metadata": {},
   "outputs": [],
   "source": [
    "import numpy as np\n",
    "from tensorflow.keras.preprocessing.image import load_img, img_to_array\n",
    "import tensorflow as tf\n",
    "from PIL import Image, ImageOps\n",
    "from data import preproc as pp"
   ]
  },
  {
   "cell_type": "code",
   "execution_count": null,
   "id": "5f946576",
   "metadata": {},
   "outputs": [],
   "source": [
    "#not needed\n",
    "t_data=[]\n",
    "for i in range(len(train_data)):\n",
    "    curr_data=train_data[i].split()\n",
    "    curr_img_path = curr_data[0]\n",
    "    curr_img_path = \"\\\\\".join(curr_img_path.split(\"/\")[2:])\n",
    "    curr_img_path = os.path.join(IMAGES_PATH, curr_img_path)\n",
    "    if os.path.exists(curr_img_path):\n",
    "        curr_img=skew_c(curr_img_path)\n",
    "        curr_img = ImageOps.grayscale(curr_img)\n",
    "        curr_img = pp.preprocess(curr_img_path,IMG_SIZE )\n",
    "        t_data.append(curr_img)"
   ]
  },
  {
   "cell_type": "code",
   "execution_count": 10,
   "id": "3c682bf3",
   "metadata": {},
   "outputs": [],
   "source": [
    "\n",
    "##label generator\n",
    "def label_g(l):\n",
    "    label=idx_to_vocab[l]\n",
    "    z=[]\n",
    "    for j in range(27):\n",
    "        z.append(0)\n",
    "    for k in range(len(label)):\n",
    "        for r in range(len(charl)):\n",
    "            if label[k]==charl[r]:\n",
    "                z[k]=r\n",
    "    return z   "
   ]
  },
  {
   "cell_type": "code",
   "execution_count": 114,
   "id": "b70735d6",
   "metadata": {},
   "outputs": [],
   "source": [
    "\n",
    "##label generator\n",
    "def label_g1(l):\n",
    "    label=idx_to_vocab[l]\n",
    "    z=[]\n",
    "    for k in range(len(label)):\n",
    "        for r in range(len(charl)):\n",
    "            if label[k]==charl[r]:\n",
    "                z.append(r)\n",
    "    return z   "
   ]
  },
  {
   "cell_type": "code",
   "execution_count": null,
   "id": "41fef447",
   "metadata": {},
   "outputs": [],
   "source": [
    "#not needed\n",
    "def preprocess1(curr_img_path):\n",
    "    img=tf.io.read_file(curr_img_path)\n",
    "    path=os.path.abspath(img)\n",
    "    print(path)\n",
    "    curr_img=skew_c(img)\n",
    "    curr_img = ImageOps.grayscale(curr_img)\n",
    "    curr_img = pp.preprocess(curr_img_path,IMG_SIZE )\n",
    "    plt.imshow(curr_img, cmap='gray')\n",
    "    \n",
    "    #label=label_g(path_to_label[curr_img_path])\n",
    "    return curr_img"
   ]
  },
  {
   "cell_type": "code",
   "execution_count": null,
   "id": "0a2a97b5",
   "metadata": {},
   "outputs": [],
   "source": []
  },
  {
   "cell_type": "code",
   "execution_count": null,
   "id": "8dcde742",
   "metadata": {},
   "outputs": [],
   "source": []
  },
  {
   "cell_type": "code",
   "execution_count": null,
   "id": "64148ee6",
   "metadata": {},
   "outputs": [],
   "source": []
  },
  {
   "cell_type": "code",
   "execution_count": null,
   "id": "859b6a87",
   "metadata": {},
   "outputs": [],
   "source": []
  },
  {
   "cell_type": "code",
   "execution_count": null,
   "id": "999e70f7",
   "metadata": {},
   "outputs": [],
   "source": [
    "s=np.zeros((8, 27))\n",
    "s"
   ]
  },
  {
   "cell_type": "code",
   "execution_count": 11,
   "id": "c59e7bc4",
   "metadata": {},
   "outputs": [],
   "source": [
    "import numpy as np\n",
    "from tensorflow.keras.preprocessing.image import load_img, img_to_array\n",
    "import tensorflow as tf\n",
    "from PIL import Image, ImageOps\n",
    "from data import preproc as pp\n",
    "\n",
    "class DataGen(tf.keras.utils.Sequence):\n",
    "    def __init__(self, data, img_size, batch_size, mode=\"TRAIN\"):\n",
    "        self.data = data\n",
    "        self.img_size = img_size\n",
    "        self.batch_size = batch_size\n",
    "        self.mode = mode\n",
    "        \n",
    "    def __getitem__(self, i):\n",
    "        start = i * self.batch_size\n",
    "        end = (i+1) * self.batch_size\n",
    "        batch_images = np.zeros((self.batch_size, self.img_size[0], self.img_size[1], 1))\n",
    "        batch_labels = np.zeros((self.batch_size, 27))\n",
    "        #batch_labels =[[],[],[],[],[],[],[],[]]\n",
    "        \n",
    "        for ii, df_index in enumerate(range(start, end)):\n",
    "            curr_data = self.data[ii].split()\n",
    "            curr_img_path = curr_data[0]\n",
    "            #curr_label = idx_to_vocab[int(curr_data[1])]\n",
    "            curr_label = label_g(int(curr_data[1]))\n",
    "\n",
    "            curr_img_path = \"/\".join(curr_img_path.split(\"/\")[2:])\n",
    "            curr_img_path = os.path.join(IMAGES_PATH, curr_img_path)\n",
    "\n",
    "            curr_img = Image.open(curr_img_path)\n",
    "            #curr_img = tf.image.resize(curr_img, (self.img_size[0], self.img_size[1]), method=\"nearest\")\n",
    "            #curr_img = skew_c(curr_img_path)\n",
    "            curr_img = ImageOps.grayscale(curr_img)\n",
    "            #curr_img = tf.image.resize(curr_img, (self.img_size[0], self.img_size[1]), method=\"nearest\")\n",
    "            #delta_width = self.img_size[1] - curr_img.width\n",
    "            #delta_height = self.img_size[0] - curr_img.height\n",
    "            #pad_width = delta_width // 2\n",
    "            #pad_height = delta_height // 2\n",
    "            #padding = (pad_width, pad_height, delta_width - pad_width, delta_height - pad_height)\n",
    "            #curr_img = ImageOps.expand(curr_img, padding)\n",
    "            \n",
    "            curr_img = img_to_array(curr_img)\n",
    "            img_shape = curr_img.shape\n",
    "            curr_img = pp1.preprocess(curr_img_path, self.img_size)\n",
    "            curr_img=cv2.adaptiveThreshold(curr_img, 255, cv2.ADAPTIVE_THRESH_GAUSSIAN_C,cv2.THRESH_BINARY, 199, 5)\n",
    "            #curr_img = tf.image.resize(curr_img, (self.img_size[0], self.img_size[1]), method=\"nearest\")\n",
    "            #curr_img = curr_img.numpy().reshape((self.img_size[0], self.img_size[1],1))\n",
    "            batch_images[ii, :, :,0] = curr_img \n",
    "            batch_labels[ii,:] = curr_label\n",
    "                    \n",
    "        if self.mode == \"TRAIN\":\n",
    "          return batch_images, batch_labels\n",
    "        else:\n",
    "          return batch_images\n",
    "        \n",
    "    def __len__(self):\n",
    "      return len(self.data) // self.batch_size"
   ]
  },
  {
   "cell_type": "code",
   "execution_count": 115,
   "id": "f51e5991",
   "metadata": {},
   "outputs": [],
   "source": [
    "import numpy as np\n",
    "from tensorflow.keras.preprocessing.image import load_img, img_to_array\n",
    "import tensorflow as tf\n",
    "from PIL import Image, ImageOps\n",
    "from data import preproc as pp\n",
    "\n",
    "class DataGen1(tf.keras.utils.Sequence):\n",
    "    def __init__(self, data, img_size, batch_size, mode=\"TRAIN\"):\n",
    "        self.data = data\n",
    "        self.img_size = img_size\n",
    "        self.batch_size = batch_size\n",
    "        self.mode = mode\n",
    "        \n",
    "    def __getitem__(self, i):\n",
    "        start = i * self.batch_size\n",
    "        end = (i+1) * self.batch_size\n",
    "        batch_images = np.zeros((self.batch_size, self.img_size[0], self.img_size[1], 1))\n",
    "        batch_labels = np.zeros((self.batch_size, 27))\n",
    "        #batch_labels =[[],[],[],[],[],[],[],[]]\n",
    "        \n",
    "        for ii, df_index in enumerate(range(start, end)):\n",
    "            curr_data = self.data[ii].split()\n",
    "            curr_img_path = curr_data[0]\n",
    "            #curr_label = idx_to_vocab[int(curr_data[1])]\n",
    "            curr_label = label_g1(int(curr_data[1]))\n",
    "\n",
    "            curr_img_path = \"/\".join(curr_img_path.split(\"/\")[2:])\n",
    "            curr_img_path = os.path.join(IMAGES_PATH, curr_img_path)\n",
    "\n",
    "            curr_img = Image.open(curr_img_path)\n",
    "            #curr_img = tf.image.resize(curr_img, (self.img_size[0], self.img_size[1]), method=\"nearest\")\n",
    "            #curr_img = skew_c(curr_img_path)\n",
    "            curr_img = ImageOps.grayscale(curr_img)\n",
    "            #curr_img = tf.image.resize(curr_img, (self.img_size[0], self.img_size[1]), method=\"nearest\")\n",
    "            #delta_width = self.img_size[1] - curr_img.width\n",
    "            #delta_height = self.img_size[0] - curr_img.height\n",
    "            #pad_width = delta_width // 2\n",
    "            #pad_height = delta_height // 2\n",
    "            #padding = (pad_width, pad_height, delta_width - pad_width, delta_height - pad_height)\n",
    "            #curr_img = ImageOps.expand(curr_img, padding)\n",
    "            \n",
    "            curr_img = img_to_array(curr_img)\n",
    "            img_shape = curr_img.shape\n",
    "            curr_img = pp.preprocess(curr_img_path, self.img_size)\n",
    "            #curr_img = tf.image.resize(curr_img, (self.img_size[0], self.img_size[1]), method=\"nearest\")\n",
    "            #curr_img = curr_img.numpy().reshape((self.img_size[0], self.img_size[1],1))\n",
    "            batch_images[ii, :, :,0] = curr_img \n",
    "            batch_labels[ii,:] = curr_label\n",
    "                    \n",
    "        if self.mode == \"TRAIN\":\n",
    "          return batch_images, batch_labels\n",
    "        else:\n",
    "          return batch_images\n",
    "        \n",
    "    def __len__(self):\n",
    "      return len(self.data) // self.batch_size"
   ]
  },
  {
   "cell_type": "code",
   "execution_count": 12,
   "id": "6191b856",
   "metadata": {},
   "outputs": [],
   "source": [
    "train_datagen = DataGen(train_data, IMG_SIZE, 8)"
   ]
  },
  {
   "cell_type": "code",
   "execution_count": 118,
   "id": "7f42974b",
   "metadata": {},
   "outputs": [],
   "source": [
    "test_datagen = DataGen(test_data, IMG_SIZE, 10000)"
   ]
  },
  {
   "cell_type": "markdown",
   "id": "3413c386",
   "metadata": {},
   "source": [
    "# model\n"
   ]
  },
  {
   "cell_type": "code",
   "execution_count": 14,
   "id": "47721ed6",
   "metadata": {},
   "outputs": [],
   "source": [
    "import numpy as np\n",
    "import tensorflow as tf\n",
    "from tensorflow.keras import backend as K\n",
    "from tensorflow.keras import Model\n",
    "from tensorflow.keras.constraints import MaxNorm\n",
    "\n",
    "from network.layers import FullGatedConv2D, GatedConv2D, OctConv2D\n",
    "from tensorflow.keras.layers import Conv2D, Bidirectional, LSTM, GRU, Dense\n",
    "from tensorflow.keras.layers import Dropout, BatchNormalization, LeakyReLU, PReLU\n",
    "from tensorflow.keras.layers import Input, Add, Activation, Lambda, MaxPooling2D, Reshape"
   ]
  },
  {
   "cell_type": "code",
   "execution_count": 15,
   "id": "b515e23a",
   "metadata": {},
   "outputs": [],
   "source": [
    "from network.model import HTRModel\n",
    "\n",
    "# create and compile HTRModel\n",
    "model = HTRModel(architecture=ARCH,\n",
    "                 input_size=IMG_SIZE,\n",
    "                 vocab_size=110,\n",
    "                 beam_width=10,\n",
    "                 stop_tolerance=20,\n",
    "                 reduce_tolerance=15,\n",
    "                 reduce_factor=0.1)\n",
    "\n",
    "model.compile(learning_rate=0.001)"
   ]
  },
  {
   "cell_type": "code",
   "execution_count": 16,
   "id": "996b6975",
   "metadata": {},
   "outputs": [
    {
     "name": "stdout",
     "output_type": "stream",
     "text": [
      "Epoch 1/100\n"
     ]
    },
    {
     "name": "stderr",
     "output_type": "stream",
     "text": [
      "2023-04-11 16:33:01.764259: E tensorflow/core/grappler/optimizers/meta_optimizer.cc:954] layout failed: INVALID_ARGUMENT: Size of values 0 does not match size of permutation 4 @ fanin shape inmodel/dropout/dropout/SelectV2-2-TransposeNHWCToNCHW-LayoutOptimizer\n",
      "2023-04-11 16:33:03.023514: I tensorflow/compiler/xla/stream_executor/cuda/cuda_dnn.cc:428] Loaded cuDNN version 8400\n",
      "2023-04-11 16:33:03.509525: W tensorflow/compiler/xla/stream_executor/gpu/asm_compiler.cc:115] *** WARNING *** You are using ptxas 10.1.243, which is older than 11.1. ptxas before 11.1 is known to miscompile XLA code, leading to incorrect results or invalid-address errors.\n",
      "\n",
      "You may not need to update to CUDA 11.1; cherry-picking the ptxas binary is often sufficient.\n",
      "2023-04-11 16:33:03.790027: I tensorflow/compiler/xla/service/service.cc:173] XLA service 0x7f80b368bbe0 initialized for platform CUDA (this does not guarantee that XLA will be used). Devices:\n",
      "2023-04-11 16:33:03.790046: I tensorflow/compiler/xla/service/service.cc:181]   StreamExecutor device (0): NVIDIA GeForce RTX 2080 Ti, Compute Capability 7.5\n",
      "2023-04-11 16:33:03.792905: I tensorflow/compiler/mlir/tensorflow/utils/dump_mlir_util.cc:268] disabling MLIR crash reproducer, set env var `MLIR_CRASH_REPRODUCER_DIRECTORY` to enable.\n",
      "2023-04-11 16:33:03.834618: W tensorflow/compiler/xla/stream_executor/gpu/asm_compiler.cc:115] *** WARNING *** You are using ptxas 10.1.243, which is older than 11.1. ptxas before 11.1 is known to miscompile XLA code, leading to incorrect results or invalid-address errors.\n",
      "\n",
      "You may not need to update to CUDA 11.1; cherry-picking the ptxas binary is often sufficient.\n",
      "2023-04-11 16:33:03.860969: I tensorflow/compiler/jit/xla_compilation_cache.cc:477] Compiled cluster using XLA!  This line is logged at most once for the lifetime of the process.\n",
      "2023-04-11 16:33:03.900048: W tensorflow/compiler/xla/stream_executor/gpu/asm_compiler.cc:115] *** WARNING *** You are using ptxas 10.1.243, which is older than 11.1. ptxas before 11.1 is known to miscompile XLA code, leading to incorrect results or invalid-address errors.\n",
      "\n",
      "You may not need to update to CUDA 11.1; cherry-picking the ptxas binary is often sufficient.\n",
      "2023-04-11 16:33:04.078811: W tensorflow/compiler/xla/stream_executor/gpu/asm_compiler.cc:115] *** WARNING *** You are using ptxas 10.1.243, which is older than 11.1. ptxas before 11.1 is known to miscompile XLA code, leading to incorrect results or invalid-address errors.\n",
      "\n",
      "You may not need to update to CUDA 11.1; cherry-picking the ptxas binary is often sufficient.\n",
      "2023-04-11 16:33:04.079964: W tensorflow/compiler/xla/stream_executor/gpu/asm_compiler.cc:115] *** WARNING *** You are using ptxas 10.1.243, which is older than 11.1. ptxas before 11.1 is known to miscompile XLA code, leading to incorrect results or invalid-address errors.\n",
      "\n",
      "You may not need to update to CUDA 11.1; cherry-picking the ptxas binary is often sufficient.\n",
      "2023-04-11 16:33:04.100580: W tensorflow/compiler/xla/stream_executor/gpu/asm_compiler.cc:115] *** WARNING *** You are using ptxas 10.1.243, which is older than 11.1. ptxas before 11.1 is known to miscompile XLA code, leading to incorrect results or invalid-address errors.\n",
      "\n",
      "You may not need to update to CUDA 11.1; cherry-picking the ptxas binary is often sufficient.\n",
      "2023-04-11 16:33:04.105718: W tensorflow/compiler/xla/stream_executor/gpu/asm_compiler.cc:115] *** WARNING *** You are using ptxas 10.1.243, which is older than 11.1. ptxas before 11.1 is known to miscompile XLA code, leading to incorrect results or invalid-address errors.\n",
      "\n",
      "You may not need to update to CUDA 11.1; cherry-picking the ptxas binary is often sufficient.\n",
      "2023-04-11 16:33:04.173649: W tensorflow/compiler/xla/stream_executor/gpu/asm_compiler.cc:115] *** WARNING *** You are using ptxas 10.1.243, which is older than 11.1. ptxas before 11.1 is known to miscompile XLA code, leading to incorrect results or invalid-address errors.\n",
      "\n",
      "You may not need to update to CUDA 11.1; cherry-picking the ptxas binary is often sufficient.\n",
      "2023-04-11 16:33:04.292794: W tensorflow/compiler/xla/stream_executor/gpu/asm_compiler.cc:115] *** WARNING *** You are using ptxas 10.1.243, which is older than 11.1. ptxas before 11.1 is known to miscompile XLA code, leading to incorrect results or invalid-address errors.\n",
      "\n",
      "You may not need to update to CUDA 11.1; cherry-picking the ptxas binary is often sufficient.\n",
      "2023-04-11 16:33:04.334889: W tensorflow/compiler/xla/stream_executor/gpu/asm_compiler.cc:115] *** WARNING *** You are using ptxas 10.1.243, which is older than 11.1. ptxas before 11.1 is known to miscompile XLA code, leading to incorrect results or invalid-address errors.\n",
      "\n",
      "You may not need to update to CUDA 11.1; cherry-picking the ptxas binary is often sufficient.\n",
      "2023-04-11 16:33:04.608274: W tensorflow/compiler/xla/stream_executor/gpu/asm_compiler.cc:115] *** WARNING *** You are using ptxas 10.1.243, which is older than 11.1. ptxas before 11.1 is known to miscompile XLA code, leading to incorrect results or invalid-address errors.\n",
      "\n",
      "You may not need to update to CUDA 11.1; cherry-picking the ptxas binary is often sufficient.\n",
      "2023-04-11 16:33:04.724454: W tensorflow/compiler/xla/stream_executor/gpu/asm_compiler.cc:115] *** WARNING *** You are using ptxas 10.1.243, which is older than 11.1. ptxas before 11.1 is known to miscompile XLA code, leading to incorrect results or invalid-address errors.\n",
      "\n",
      "You may not need to update to CUDA 11.1; cherry-picking the ptxas binary is often sufficient.\n",
      "2023-04-11 16:33:04.790366: W tensorflow/compiler/xla/stream_executor/gpu/asm_compiler.cc:115] *** WARNING *** You are using ptxas 10.1.243, which is older than 11.1. ptxas before 11.1 is known to miscompile XLA code, leading to incorrect results or invalid-address errors.\n",
      "\n",
      "You may not need to update to CUDA 11.1; cherry-picking the ptxas binary is often sufficient.\n",
      "2023-04-11 16:33:04.858589: W tensorflow/compiler/xla/stream_executor/gpu/asm_compiler.cc:115] *** WARNING *** You are using ptxas 10.1.243, which is older than 11.1. ptxas before 11.1 is known to miscompile XLA code, leading to incorrect results or invalid-address errors.\n",
      "\n",
      "You may not need to update to CUDA 11.1; cherry-picking the ptxas binary is often sufficient.\n",
      "2023-04-11 16:33:05.014726: W tensorflow/compiler/xla/stream_executor/gpu/asm_compiler.cc:115] *** WARNING *** You are using ptxas 10.1.243, which is older than 11.1. ptxas before 11.1 is known to miscompile XLA code, leading to incorrect results or invalid-address errors.\n",
      "\n",
      "You may not need to update to CUDA 11.1; cherry-picking the ptxas binary is often sufficient.\n",
      "2023-04-11 16:33:05.136347: W tensorflow/compiler/xla/stream_executor/gpu/asm_compiler.cc:115] *** WARNING *** You are using ptxas 10.1.243, which is older than 11.1. ptxas before 11.1 is known to miscompile XLA code, leading to incorrect results or invalid-address errors.\n",
      "\n",
      "You may not need to update to CUDA 11.1; cherry-picking the ptxas binary is often sufficient.\n",
      "2023-04-11 16:33:05.203282: W tensorflow/compiler/xla/stream_executor/gpu/asm_compiler.cc:115] *** WARNING *** You are using ptxas 10.1.243, which is older than 11.1. ptxas before 11.1 is known to miscompile XLA code, leading to incorrect results or invalid-address errors.\n",
      "\n",
      "You may not need to update to CUDA 11.1; cherry-picking the ptxas binary is often sufficient.\n",
      "2023-04-11 16:33:05.270428: W tensorflow/compiler/xla/stream_executor/gpu/asm_compiler.cc:115] *** WARNING *** You are using ptxas 10.1.243, which is older than 11.1. ptxas before 11.1 is known to miscompile XLA code, leading to incorrect results or invalid-address errors.\n",
      "\n",
      "You may not need to update to CUDA 11.1; cherry-picking the ptxas binary is often sufficient.\n",
      "2023-04-11 16:33:05.429920: W tensorflow/compiler/xla/stream_executor/gpu/asm_compiler.cc:115] *** WARNING *** You are using ptxas 10.1.243, which is older than 11.1. ptxas before 11.1 is known to miscompile XLA code, leading to incorrect results or invalid-address errors.\n",
      "\n",
      "You may not need to update to CUDA 11.1; cherry-picking the ptxas binary is often sufficient.\n",
      "2023-04-11 16:33:05.549799: W tensorflow/compiler/xla/stream_executor/gpu/asm_compiler.cc:115] *** WARNING *** You are using ptxas 10.1.243, which is older than 11.1. ptxas before 11.1 is known to miscompile XLA code, leading to incorrect results or invalid-address errors.\n",
      "\n",
      "You may not need to update to CUDA 11.1; cherry-picking the ptxas binary is often sufficient.\n",
      "2023-04-11 16:33:05.616635: W tensorflow/compiler/xla/stream_executor/gpu/asm_compiler.cc:115] *** WARNING *** You are using ptxas 10.1.243, which is older than 11.1. ptxas before 11.1 is known to miscompile XLA code, leading to incorrect results or invalid-address errors.\n",
      "\n",
      "You may not need to update to CUDA 11.1; cherry-picking the ptxas binary is often sufficient.\n"
     ]
    },
    {
     "name": "stderr",
     "output_type": "stream",
     "text": [
      "2023-04-11 16:33:05.685835: W tensorflow/compiler/xla/stream_executor/gpu/asm_compiler.cc:115] *** WARNING *** You are using ptxas 10.1.243, which is older than 11.1. ptxas before 11.1 is known to miscompile XLA code, leading to incorrect results or invalid-address errors.\n",
      "\n",
      "You may not need to update to CUDA 11.1; cherry-picking the ptxas binary is often sufficient.\n",
      "2023-04-11 16:33:06.021583: W tensorflow/compiler/xla/stream_executor/gpu/asm_compiler.cc:115] *** WARNING *** You are using ptxas 10.1.243, which is older than 11.1. ptxas before 11.1 is known to miscompile XLA code, leading to incorrect results or invalid-address errors.\n",
      "\n",
      "You may not need to update to CUDA 11.1; cherry-picking the ptxas binary is often sufficient.\n",
      "2023-04-11 16:33:06.187697: W tensorflow/compiler/xla/stream_executor/gpu/asm_compiler.cc:115] *** WARNING *** You are using ptxas 10.1.243, which is older than 11.1. ptxas before 11.1 is known to miscompile XLA code, leading to incorrect results or invalid-address errors.\n",
      "\n",
      "You may not need to update to CUDA 11.1; cherry-picking the ptxas binary is often sufficient.\n",
      "2023-04-11 16:33:06.378656: W tensorflow/compiler/xla/stream_executor/gpu/asm_compiler.cc:115] *** WARNING *** You are using ptxas 10.1.243, which is older than 11.1. ptxas before 11.1 is known to miscompile XLA code, leading to incorrect results or invalid-address errors.\n",
      "\n",
      "You may not need to update to CUDA 11.1; cherry-picking the ptxas binary is often sufficient.\n",
      "2023-04-11 16:33:06.529026: W tensorflow/compiler/xla/stream_executor/gpu/asm_compiler.cc:115] *** WARNING *** You are using ptxas 10.1.243, which is older than 11.1. ptxas before 11.1 is known to miscompile XLA code, leading to incorrect results or invalid-address errors.\n",
      "\n",
      "You may not need to update to CUDA 11.1; cherry-picking the ptxas binary is often sufficient.\n"
     ]
    },
    {
     "name": "stdout",
     "output_type": "stream",
     "text": [
      "8725/8725 [==============================] - 711s 80ms/step - loss: 1.4069\n",
      "Epoch 2/100\n",
      "8725/8725 [==============================] - 702s 80ms/step - loss: 9.4220e-04\n",
      "Epoch 3/100\n",
      "8725/8725 [==============================] - 700s 80ms/step - loss: 2.2053e-04\n",
      "Epoch 4/100\n",
      "8725/8725 [==============================] - 702s 80ms/step - loss: 3.6818e-04\n",
      "Epoch 5/100\n",
      "8725/8725 [==============================] - 701s 80ms/step - loss: 2.5295e-04\n",
      "Epoch 6/100\n",
      "8725/8725 [==============================] - 701s 80ms/step - loss: 1.8604e-04\n",
      "Epoch 7/100\n",
      "8725/8725 [==============================] - 700s 80ms/step - loss: 2.0390e-04\n",
      "Epoch 8/100\n",
      "8725/8725 [==============================] - 701s 80ms/step - loss: 1.8401e-04\n",
      "Epoch 9/100\n",
      "8725/8725 [==============================] - 699s 80ms/step - loss: 2.1060e-04\n",
      "Epoch 10/100\n",
      "8725/8725 [==============================] - 701s 80ms/step - loss: 1.8292e-04\n",
      "Epoch 11/100\n",
      "8725/8725 [==============================] - 700s 80ms/step - loss: 1.8158e-04\n",
      "Epoch 12/100\n",
      "8725/8725 [==============================] - 702s 80ms/step - loss: 1.8101e-04\n",
      "Epoch 13/100\n",
      "8725/8725 [==============================] - 702s 80ms/step - loss: 1.8083e-04\n",
      "Epoch 14/100\n",
      "8725/8725 [==============================] - 702s 80ms/step - loss: 1.8047e-04\n",
      "Epoch 15/100\n",
      "8725/8725 [==============================] - 701s 80ms/step - loss: 1.8632e-04\n",
      "Epoch 16/100\n",
      "8725/8725 [==============================] - 701s 80ms/step - loss: 1.8051e-04\n",
      "Epoch 17/100\n",
      "8725/8725 [==============================] - 699s 80ms/step - loss: 1.8005e-04\n",
      "Epoch 18/100\n",
      "8725/8725 [==============================] - 701s 80ms/step - loss: 1.7983e-04\n",
      "Epoch 19/100\n",
      "8725/8725 [==============================] - 700s 80ms/step - loss: 1.8084e-04\n",
      "Epoch 20/100\n",
      "8725/8725 [==============================] - 701s 80ms/step - loss: 1.7960e-04\n",
      "Epoch 21/100\n",
      "8725/8725 [==============================] - 700s 80ms/step - loss: 1.7952e-04\n",
      "Epoch 22/100\n",
      "8725/8725 [==============================] - 700s 80ms/step - loss: 1.7932e-04\n",
      "Epoch 23/100\n",
      "8725/8725 [==============================] - 701s 80ms/step - loss: 1.8101e-04\n",
      "Epoch 24/100\n",
      "8725/8725 [==============================] - 701s 80ms/step - loss: 1.7942e-04\n",
      "Epoch 25/100\n",
      "8725/8725 [==============================] - 701s 80ms/step - loss: 1.7932e-04\n",
      "Epoch 26/100\n",
      "8725/8725 [==============================] - 701s 80ms/step - loss: 1.7946e-04\n",
      "Epoch 27/100\n",
      "8725/8725 [==============================] - 701s 80ms/step - loss: 1.7932e-04\n",
      "Epoch 28/100\n",
      "8725/8725 [==============================] - 701s 80ms/step - loss: 1.7942e-04\n",
      "Epoch 29/100\n",
      "8725/8725 [==============================] - 702s 80ms/step - loss: 1.7908e-04\n",
      "Epoch 30/100\n",
      "8725/8725 [==============================] - 701s 80ms/step - loss: 1.7886e-04\n",
      "Epoch 31/100\n",
      "8725/8725 [==============================] - 699s 80ms/step - loss: 1.7885e-04\n",
      "Epoch 32/100\n",
      "8725/8725 [==============================] - 702s 80ms/step - loss: 1.7876e-04\n",
      "Epoch 33/100\n",
      "8725/8725 [==============================] - 702s 80ms/step - loss: 1.7921e-04\n",
      "Epoch 34/100\n",
      "8725/8725 [==============================] - 701s 80ms/step - loss: 1.7874e-04\n",
      "Epoch 35/100\n",
      "8725/8725 [==============================] - 700s 80ms/step - loss: 1.7874e-04\n",
      "Epoch 36/100\n",
      "8725/8725 [==============================] - 701s 80ms/step - loss: 1.7868e-04\n",
      "Epoch 37/100\n",
      "8725/8725 [==============================] - 702s 80ms/step - loss: 1.7876e-04\n",
      "Epoch 38/100\n",
      "8725/8725 [==============================] - 700s 80ms/step - loss: 1.7877e-04\n",
      "Epoch 39/100\n",
      "8725/8725 [==============================] - 700s 80ms/step - loss: 1.7859e-04\n",
      "Epoch 40/100\n",
      "8725/8725 [==============================] - 702s 80ms/step - loss: 1.7852e-04\n",
      "Epoch 41/100\n",
      "8725/8725 [==============================] - 702s 80ms/step - loss: 1.7850e-04\n",
      "Epoch 42/100\n",
      "8725/8725 [==============================] - 701s 80ms/step - loss: 1.7845e-04\n",
      "Epoch 43/100\n",
      "8725/8725 [==============================] - 700s 80ms/step - loss: 1.7847e-04\n",
      "Epoch 44/100\n",
      "8725/8725 [==============================] - 700s 80ms/step - loss: 1.7840e-04\n",
      "Epoch 45/100\n",
      "8725/8725 [==============================] - 698s 80ms/step - loss: 1.7851e-04\n",
      "Epoch 46/100\n",
      "8725/8725 [==============================] - 700s 80ms/step - loss: 1.7856e-04\n",
      "Epoch 47/100\n",
      "8725/8725 [==============================] - 699s 80ms/step - loss: 1.7841e-04\n",
      "Epoch 48/100\n",
      "8725/8725 [==============================] - 700s 80ms/step - loss: 1.7840e-04\n",
      "Epoch 49/100\n",
      "8725/8725 [==============================] - 701s 80ms/step - loss: 1.7840e-04\n",
      "Epoch 50/100\n",
      "8725/8725 [==============================] - 699s 80ms/step - loss: 1.7836e-04\n",
      "Epoch 51/100\n",
      "8725/8725 [==============================] - 700s 80ms/step - loss: 1.7837e-04\n",
      "Epoch 52/100\n",
      "8725/8725 [==============================] - 701s 80ms/step - loss: 1.7839e-04\n",
      "Epoch 53/100\n",
      "8725/8725 [==============================] - 701s 80ms/step - loss: 1.7838e-04\n",
      "Epoch 54/100\n",
      "8725/8725 [==============================] - 699s 80ms/step - loss: 1.7829e-04\n",
      "Epoch 55/100\n",
      "8725/8725 [==============================] - 700s 80ms/step - loss: 1.7838e-04\n",
      "Epoch 56/100\n",
      "8725/8725 [==============================] - 699s 80ms/step - loss: 1.7830e-04\n",
      "Epoch 57/100\n",
      "8725/8725 [==============================] - 700s 80ms/step - loss: 1.7827e-04\n",
      "Epoch 58/100\n",
      "8725/8725 [==============================] - 700s 80ms/step - loss: 1.7827e-04\n",
      "Epoch 59/100\n",
      "8725/8725 [==============================] - 699s 80ms/step - loss: 1.7827e-04\n",
      "Epoch 60/100\n",
      "8725/8725 [==============================] - 700s 80ms/step - loss: 1.7823e-04\n",
      "Epoch 61/100\n",
      "8725/8725 [==============================] - 700s 80ms/step - loss: 1.7824e-04\n",
      "Epoch 62/100\n",
      "8725/8725 [==============================] - 700s 80ms/step - loss: 1.7825e-04\n",
      "Epoch 63/100\n",
      "8725/8725 [==============================] - 700s 80ms/step - loss: 1.7824e-04\n",
      "Epoch 64/100\n",
      "8725/8725 [==============================] - 700s 80ms/step - loss: 1.7830e-04\n",
      "Epoch 65/100\n",
      "8725/8725 [==============================] - 700s 80ms/step - loss: 1.7826e-04\n",
      "Epoch 66/100\n",
      "8725/8725 [==============================] - 699s 80ms/step - loss: 1.7825e-04\n",
      "Epoch 67/100\n",
      "8725/8725 [==============================] - 699s 80ms/step - loss: 1.7830e-04\n",
      "Epoch 68/100\n",
      "8725/8725 [==============================] - 700s 80ms/step - loss: 1.7823e-04\n",
      "Epoch 69/100\n",
      "8725/8725 [==============================] - 699s 80ms/step - loss: 1.7821e-04\n",
      "Epoch 70/100\n",
      "8725/8725 [==============================] - 702s 80ms/step - loss: 1.7819e-04\n",
      "Epoch 71/100\n",
      "8725/8725 [==============================] - 700s 80ms/step - loss: 1.8259e-04\n",
      "Epoch 72/100\n",
      "8725/8725 [==============================] - 701s 80ms/step - loss: 1.7838e-04\n",
      "Epoch 73/100\n",
      "8725/8725 [==============================] - 699s 80ms/step - loss: 1.7827e-04\n",
      "Epoch 74/100\n",
      "8725/8725 [==============================] - 701s 80ms/step - loss: 1.7835e-04\n",
      "Epoch 75/100\n",
      "8725/8725 [==============================] - 700s 80ms/step - loss: 1.7938e-04\n",
      "Epoch 76/100\n",
      "8725/8725 [==============================] - 701s 80ms/step - loss: 1.7837e-04\n",
      "Epoch 77/100\n",
      "8725/8725 [==============================] - 699s 80ms/step - loss: 1.7905e-04\n",
      "Epoch 78/100\n",
      "8725/8725 [==============================] - 700s 80ms/step - loss: 1.7847e-04\n",
      "Epoch 79/100\n",
      "8725/8725 [==============================] - 701s 80ms/step - loss: 1.7824e-04\n",
      "Epoch 80/100\n",
      "8725/8725 [==============================] - 701s 80ms/step - loss: 1.7821e-04\n",
      "Epoch 81/100\n",
      "8725/8725 [==============================] - 700s 80ms/step - loss: 1.7821e-04\n",
      "Epoch 82/100\n",
      "8725/8725 [==============================] - 701s 80ms/step - loss: 1.7823e-04\n",
      "Epoch 83/100\n",
      "8725/8725 [==============================] - 700s 80ms/step - loss: 1.7824e-04\n",
      "Epoch 84/100\n",
      "8725/8725 [==============================] - 701s 80ms/step - loss: 1.7820e-04\n",
      "Epoch 85/100\n",
      "8725/8725 [==============================] - 700s 80ms/step - loss: 1.7816e-04\n",
      "Epoch 86/100\n",
      "8725/8725 [==============================] - 701s 80ms/step - loss: 1.7937e-04\n",
      "Epoch 87/100\n",
      "8725/8725 [==============================] - 700s 80ms/step - loss: 1.7834e-04\n",
      "Epoch 88/100\n",
      "8725/8725 [==============================] - 701s 80ms/step - loss: 1.7820e-04\n",
      "Epoch 89/100\n",
      "8725/8725 [==============================] - 701s 80ms/step - loss: 1.7819e-04\n",
      "Epoch 90/100\n",
      "8725/8725 [==============================] - 699s 80ms/step - loss: 1.7820e-04\n",
      "Epoch 91/100\n",
      "8725/8725 [==============================] - 700s 80ms/step - loss: 1.7889e-04\n",
      "Epoch 92/100\n",
      "8725/8725 [==============================] - 700s 80ms/step - loss: 1.7821e-04\n",
      "Epoch 93/100\n",
      "8725/8725 [==============================] - 703s 81ms/step - loss: 1.7818e-04\n",
      "Epoch 94/100\n",
      "8725/8725 [==============================] - 714s 82ms/step - loss: 1.7816e-04\n",
      "Epoch 95/100\n",
      "8725/8725 [==============================] - 709s 81ms/step - loss: 1.7818e-04\n",
      "Epoch 96/100\n",
      "8725/8725 [==============================] - 694s 80ms/step - loss: 1.7828e-04\n",
      "Epoch 97/100\n",
      "8725/8725 [==============================] - 694s 80ms/step - loss: 1.7821e-04\n",
      "Epoch 98/100\n",
      "8725/8725 [==============================] - 696s 80ms/step - loss: 1.7817e-04\n",
      "Epoch 99/100\n",
      "8725/8725 [==============================] - 694s 80ms/step - loss: 1.7811e-04\n",
      "Epoch 100/100\n",
      "8725/8725 [==============================] - 695s 80ms/step - loss: 1.7818e-04\n"
     ]
    },
    {
     "data": {
      "text/plain": [
       "<keras.callbacks.History at 0x7f81e8cf2520>"
      ]
     },
     "execution_count": 16,
     "metadata": {},
     "output_type": "execute_result"
    }
   ],
   "source": [
    "model.fit(x=train_datagen,\n",
    "              epochs=EPOCHS,\n",
    "              verbose=1)"
   ]
  },
  {
   "cell_type": "code",
   "execution_count": null,
   "id": "993b3bb9",
   "metadata": {},
   "outputs": [],
   "source": []
  },
  {
   "cell_type": "code",
   "execution_count": null,
   "id": "126c6ca4",
   "metadata": {},
   "outputs": [],
   "source": []
  },
  {
   "cell_type": "code",
   "execution_count": 237,
   "id": "c0590b9c",
   "metadata": {},
   "outputs": [],
   "source": [
    "import joblib"
   ]
  },
  {
   "cell_type": "code",
   "execution_count": 238,
   "id": "70d0d019",
   "metadata": {},
   "outputs": [
    {
     "name": "stdout",
     "output_type": "stream",
     "text": [
      "Keras weights file (<HDF5 file \"variables.h5\" (mode r+)>) saving:\n",
      "...layers\n",
      "......batch_normalization\n",
      ".........vars\n",
      "............0\n",
      "............1\n",
      "............2\n",
      "............3\n",
      "............4\n",
      "............5\n",
      "............6\n",
      "......batch_normalization_1\n",
      ".........vars\n",
      "............0\n",
      "............1\n",
      "............2\n",
      "............3\n",
      "............4\n",
      "............5\n",
      "............6\n",
      "......batch_normalization_2\n",
      ".........vars\n",
      "............0\n",
      "............1\n",
      "............2\n",
      "............3\n",
      "............4\n",
      "............5\n",
      "............6\n",
      "......batch_normalization_3\n",
      ".........vars\n",
      "............0\n",
      "............1\n",
      "............2\n",
      "............3\n",
      "............4\n",
      "............5\n",
      "............6\n",
      "......batch_normalization_4\n",
      ".........vars\n",
      "............0\n",
      "............1\n",
      "............2\n",
      "............3\n",
      "............4\n",
      "............5\n",
      "............6\n",
      "......batch_normalization_5\n",
      ".........vars\n",
      "............0\n",
      "............1\n",
      "............2\n",
      "............3\n",
      "............4\n",
      "............5\n",
      "............6\n",
      "......bidirectional\n",
      ".........backward_layer\n",
      "............cell\n",
      "...............vars\n",
      "..................0\n",
      "..................1\n",
      "..................2\n",
      "............vars\n",
      ".........forward_layer\n",
      "............cell\n",
      "...............vars\n",
      "..................0\n",
      "..................1\n",
      "..................2\n",
      "............vars\n",
      ".........layer\n",
      "............cell\n",
      "...............vars\n",
      "............vars\n",
      ".........vars\n",
      "......bidirectional_1\n",
      ".........backward_layer\n",
      "............cell\n",
      "...............vars\n",
      "..................0\n",
      "..................1\n",
      "..................2\n",
      "............vars\n",
      ".........forward_layer\n",
      "............cell\n",
      "...............vars\n",
      "..................0\n",
      "..................1\n",
      "..................2\n",
      "............vars\n",
      ".........layer\n",
      "............cell\n",
      "...............vars\n",
      "............vars\n",
      ".........vars\n",
      "......conv2d\n",
      ".........vars\n",
      "............0\n",
      "............1\n",
      "......conv2d_1\n",
      ".........vars\n",
      "............0\n",
      "............1\n",
      "......conv2d_2\n",
      ".........vars\n",
      "............0\n",
      "............1\n",
      "......conv2d_3\n",
      ".........vars\n",
      "............0\n",
      "............1\n",
      "......conv2d_4\n",
      ".........vars\n",
      "............0\n",
      "............1\n",
      "......conv2d_5\n",
      ".........vars\n",
      "............0\n",
      "............1\n",
      "......dense\n",
      ".........vars\n",
      "............0\n",
      "............1\n",
      "......dense_1\n",
      ".........vars\n",
      "............0\n",
      "............1\n",
      "......dropout\n",
      ".........vars\n",
      "......dropout_1\n",
      ".........vars\n",
      "......dropout_2\n",
      ".........vars\n",
      "......full_gated_conv2d\n",
      ".........vars\n",
      "............0\n",
      "............1\n",
      "......full_gated_conv2d_1\n",
      ".........vars\n",
      "............0\n",
      "............1\n",
      "......full_gated_conv2d_2\n",
      ".........vars\n",
      "............0\n",
      "............1\n",
      "......full_gated_conv2d_3\n",
      ".........vars\n",
      "............0\n",
      "............1\n",
      "......full_gated_conv2d_4\n",
      ".........vars\n",
      "............0\n",
      "............1\n",
      "......input_layer\n",
      ".........vars\n",
      "......p_re_lu\n",
      ".........vars\n",
      "............0\n",
      "......p_re_lu_1\n",
      ".........vars\n",
      "............0\n",
      "......p_re_lu_2\n",
      ".........vars\n",
      "............0\n",
      "......p_re_lu_3\n",
      ".........vars\n",
      "............0\n",
      "......p_re_lu_4\n",
      ".........vars\n",
      "............0\n",
      "......p_re_lu_5\n",
      ".........vars\n",
      "............0\n",
      "......reshape\n",
      ".........vars\n",
      "...metrics\n",
      "......mean\n",
      ".........vars\n",
      "............0\n",
      "............1\n",
      "...optimizer\n",
      "......vars\n",
      ".........0\n",
      ".........1\n",
      ".........10\n",
      ".........11\n",
      ".........12\n",
      ".........13\n",
      ".........14\n",
      ".........15\n",
      ".........16\n",
      ".........17\n",
      ".........18\n",
      ".........19\n",
      ".........2\n",
      ".........20\n",
      ".........21\n",
      ".........22\n",
      ".........23\n",
      ".........24\n",
      ".........25\n",
      ".........26\n",
      ".........27\n",
      ".........28\n",
      ".........29\n",
      ".........3\n",
      ".........30\n",
      ".........31\n",
      ".........32\n",
      ".........33\n",
      ".........34\n",
      ".........35\n",
      ".........36\n",
      ".........37\n",
      ".........38\n",
      ".........39\n",
      ".........4\n",
      ".........40\n",
      ".........41\n",
      ".........42\n",
      ".........43\n",
      ".........44\n",
      ".........45\n",
      ".........46\n",
      ".........47\n",
      ".........48\n",
      ".........49\n",
      ".........5\n",
      ".........50\n",
      ".........51\n",
      ".........52\n",
      ".........53\n",
      ".........54\n",
      ".........55\n",
      ".........56\n",
      ".........6\n",
      ".........7\n",
      ".........8\n",
      ".........9\n",
      "...vars\n",
      "Keras model archive saving:\n",
      "File Name                                             Modified             Size\n",
      "metadata.json                                  2023-04-14 16:09:58           64\n",
      "variables.h5                                   2023-04-14 16:09:59      2695880\n",
      "config.json                                    2023-04-14 16:09:58        18567\n"
     ]
    },
    {
     "data": {
      "text/plain": [
       "['c1model.pkl']"
      ]
     },
     "execution_count": 238,
     "metadata": {},
     "output_type": "execute_result"
    }
   ],
   "source": [
    "joblib.dump(model,'c1model.pkl')"
   ]
  },
  {
   "cell_type": "code",
   "execution_count": 240,
   "id": "ef5e707f",
   "metadata": {},
   "outputs": [
    {
     "name": "stdout",
     "output_type": "stream",
     "text": [
      "Keras model archive loading:\n",
      "File Name                                             Modified             Size\n",
      "metadata.json                                  2023-04-14 16:09:58           64\n",
      "variables.h5                                   2023-04-14 16:09:58      2695880\n",
      "config.json                                    2023-04-14 16:09:58        18567\n"
     ]
    },
    {
     "ename": "ValueError",
     "evalue": "Unknown layer: 'FullGatedConv2D'. Please ensure you are using a `keras.utils.custom_object_scope` and that this object is included in the scope. See https://www.tensorflow.org/guide/keras/save_and_serialize#registering_the_custom_object for details.",
     "output_type": "error",
     "traceback": [
      "\u001b[0;31m---------------------------------------------------------------------------\u001b[0m",
      "\u001b[0;31mValueError\u001b[0m                                Traceback (most recent call last)",
      "Input \u001b[0;32mIn [240]\u001b[0m, in \u001b[0;36m<cell line: 1>\u001b[0;34m()\u001b[0m\n\u001b[0;32m----> 1\u001b[0m ner\u001b[38;5;241m=\u001b[39m\u001b[43mjoblib\u001b[49m\u001b[38;5;241;43m.\u001b[39;49m\u001b[43mload\u001b[49m\u001b[43m(\u001b[49m\u001b[38;5;124;43m'\u001b[39;49m\u001b[38;5;124;43mc1model.pkl\u001b[39;49m\u001b[38;5;124;43m'\u001b[39;49m\u001b[43m)\u001b[49m\n",
      "File \u001b[0;32m~/.local/lib/python3.8/site-packages/joblib/numpy_pickle.py:658\u001b[0m, in \u001b[0;36mload\u001b[0;34m(filename, mmap_mode)\u001b[0m\n\u001b[1;32m    652\u001b[0m             \u001b[38;5;28;01mif\u001b[39;00m \u001b[38;5;28misinstance\u001b[39m(fobj, \u001b[38;5;28mstr\u001b[39m):\n\u001b[1;32m    653\u001b[0m                 \u001b[38;5;66;03m# if the returned file object is a string, this means we\u001b[39;00m\n\u001b[1;32m    654\u001b[0m                 \u001b[38;5;66;03m# try to load a pickle file generated with an version of\u001b[39;00m\n\u001b[1;32m    655\u001b[0m                 \u001b[38;5;66;03m# Joblib so we load it with joblib compatibility function.\u001b[39;00m\n\u001b[1;32m    656\u001b[0m                 \u001b[38;5;28;01mreturn\u001b[39;00m load_compatibility(fobj)\n\u001b[0;32m--> 658\u001b[0m             obj \u001b[38;5;241m=\u001b[39m \u001b[43m_unpickle\u001b[49m\u001b[43m(\u001b[49m\u001b[43mfobj\u001b[49m\u001b[43m,\u001b[49m\u001b[43m \u001b[49m\u001b[43mfilename\u001b[49m\u001b[43m,\u001b[49m\u001b[43m \u001b[49m\u001b[43mmmap_mode\u001b[49m\u001b[43m)\u001b[49m\n\u001b[1;32m    659\u001b[0m \u001b[38;5;28;01mreturn\u001b[39;00m obj\n",
      "File \u001b[0;32m~/.local/lib/python3.8/site-packages/joblib/numpy_pickle.py:577\u001b[0m, in \u001b[0;36m_unpickle\u001b[0;34m(fobj, filename, mmap_mode)\u001b[0m\n\u001b[1;32m    575\u001b[0m obj \u001b[38;5;241m=\u001b[39m \u001b[38;5;28;01mNone\u001b[39;00m\n\u001b[1;32m    576\u001b[0m \u001b[38;5;28;01mtry\u001b[39;00m:\n\u001b[0;32m--> 577\u001b[0m     obj \u001b[38;5;241m=\u001b[39m \u001b[43munpickler\u001b[49m\u001b[38;5;241;43m.\u001b[39;49m\u001b[43mload\u001b[49m\u001b[43m(\u001b[49m\u001b[43m)\u001b[49m\n\u001b[1;32m    578\u001b[0m     \u001b[38;5;28;01mif\u001b[39;00m unpickler\u001b[38;5;241m.\u001b[39mcompat_mode:\n\u001b[1;32m    579\u001b[0m         warnings\u001b[38;5;241m.\u001b[39mwarn(\u001b[38;5;124m\"\u001b[39m\u001b[38;5;124mThe file \u001b[39m\u001b[38;5;124m'\u001b[39m\u001b[38;5;132;01m%s\u001b[39;00m\u001b[38;5;124m'\u001b[39m\u001b[38;5;124m has been generated with a \u001b[39m\u001b[38;5;124m\"\u001b[39m\n\u001b[1;32m    580\u001b[0m                       \u001b[38;5;124m\"\u001b[39m\u001b[38;5;124mjoblib version less than 0.10. \u001b[39m\u001b[38;5;124m\"\u001b[39m\n\u001b[1;32m    581\u001b[0m                       \u001b[38;5;124m\"\u001b[39m\u001b[38;5;124mPlease regenerate this pickle file.\u001b[39m\u001b[38;5;124m\"\u001b[39m\n\u001b[1;32m    582\u001b[0m                       \u001b[38;5;241m%\u001b[39m filename,\n\u001b[1;32m    583\u001b[0m                       \u001b[38;5;167;01mDeprecationWarning\u001b[39;00m, stacklevel\u001b[38;5;241m=\u001b[39m\u001b[38;5;241m3\u001b[39m)\n",
      "File \u001b[0;32m~/anaconda3/envs/htr2/lib/python3.8/pickle.py:1212\u001b[0m, in \u001b[0;36m_Unpickler.load\u001b[0;34m(self)\u001b[0m\n\u001b[1;32m   1210\u001b[0m             \u001b[38;5;28;01mraise\u001b[39;00m \u001b[38;5;167;01mEOFError\u001b[39;00m\n\u001b[1;32m   1211\u001b[0m         \u001b[38;5;28;01massert\u001b[39;00m \u001b[38;5;28misinstance\u001b[39m(key, bytes_types)\n\u001b[0;32m-> 1212\u001b[0m         \u001b[43mdispatch\u001b[49m\u001b[43m[\u001b[49m\u001b[43mkey\u001b[49m\u001b[43m[\u001b[49m\u001b[38;5;241;43m0\u001b[39;49m\u001b[43m]\u001b[49m\u001b[43m]\u001b[49m\u001b[43m(\u001b[49m\u001b[38;5;28;43mself\u001b[39;49m\u001b[43m)\u001b[49m\n\u001b[1;32m   1213\u001b[0m \u001b[38;5;28;01mexcept\u001b[39;00m _Stop \u001b[38;5;28;01mas\u001b[39;00m stopinst:\n\u001b[1;32m   1214\u001b[0m     \u001b[38;5;28;01mreturn\u001b[39;00m stopinst\u001b[38;5;241m.\u001b[39mvalue\n",
      "File \u001b[0;32m~/anaconda3/envs/htr2/lib/python3.8/pickle.py:1589\u001b[0m, in \u001b[0;36m_Unpickler.load_reduce\u001b[0;34m(self)\u001b[0m\n\u001b[1;32m   1587\u001b[0m args \u001b[38;5;241m=\u001b[39m stack\u001b[38;5;241m.\u001b[39mpop()\n\u001b[1;32m   1588\u001b[0m func \u001b[38;5;241m=\u001b[39m stack[\u001b[38;5;241m-\u001b[39m\u001b[38;5;241m1\u001b[39m]\n\u001b[0;32m-> 1589\u001b[0m stack[\u001b[38;5;241m-\u001b[39m\u001b[38;5;241m1\u001b[39m] \u001b[38;5;241m=\u001b[39m \u001b[43mfunc\u001b[49m\u001b[43m(\u001b[49m\u001b[38;5;241;43m*\u001b[39;49m\u001b[43margs\u001b[49m\u001b[43m)\u001b[49m\n",
      "File \u001b[0;32m~/.local/lib/python3.8/site-packages/keras/saving/pickle_utils.py:48\u001b[0m, in \u001b[0;36mdeserialize_model_from_bytecode\u001b[0;34m(serialized_model)\u001b[0m\n\u001b[1;32m     46\u001b[0m     model \u001b[38;5;241m=\u001b[39m saving_lib\u001b[38;5;241m.\u001b[39mload_model(filepath)\n\u001b[1;32m     47\u001b[0m \u001b[38;5;28;01mexcept\u001b[39;00m \u001b[38;5;167;01mException\u001b[39;00m \u001b[38;5;28;01mas\u001b[39;00m e:\n\u001b[0;32m---> 48\u001b[0m     \u001b[38;5;28;01mraise\u001b[39;00m e\n\u001b[1;32m     49\u001b[0m \u001b[38;5;28;01melse\u001b[39;00m:\n\u001b[1;32m     50\u001b[0m     \u001b[38;5;28;01mreturn\u001b[39;00m model\n",
      "File \u001b[0;32m~/.local/lib/python3.8/site-packages/keras/saving/pickle_utils.py:46\u001b[0m, in \u001b[0;36mdeserialize_model_from_bytecode\u001b[0;34m(serialized_model)\u001b[0m\n\u001b[1;32m     40\u001b[0m         f\u001b[38;5;241m.\u001b[39mwrite(serialized_model)\n\u001b[1;32m     41\u001b[0m     \u001b[38;5;66;03m# When loading, direct import will work for most custom objects\u001b[39;00m\n\u001b[1;32m     42\u001b[0m     \u001b[38;5;66;03m# though it will require get_config() to be implemented.\u001b[39;00m\n\u001b[1;32m     43\u001b[0m     \u001b[38;5;66;03m# Some custom objects (e.g. an activation in a Dense layer,\u001b[39;00m\n\u001b[1;32m     44\u001b[0m     \u001b[38;5;66;03m# serialized as a string by Dense.get_config()) will require\u001b[39;00m\n\u001b[1;32m     45\u001b[0m     \u001b[38;5;66;03m# a custom_object_scope.\u001b[39;00m\n\u001b[0;32m---> 46\u001b[0m     model \u001b[38;5;241m=\u001b[39m \u001b[43msaving_lib\u001b[49m\u001b[38;5;241;43m.\u001b[39;49m\u001b[43mload_model\u001b[49m\u001b[43m(\u001b[49m\u001b[43mfilepath\u001b[49m\u001b[43m)\u001b[49m\n\u001b[1;32m     47\u001b[0m \u001b[38;5;28;01mexcept\u001b[39;00m \u001b[38;5;167;01mException\u001b[39;00m \u001b[38;5;28;01mas\u001b[39;00m e:\n\u001b[1;32m     48\u001b[0m     \u001b[38;5;28;01mraise\u001b[39;00m e\n",
      "File \u001b[0;32m~/.local/lib/python3.8/site-packages/keras/saving/experimental/saving_lib.py:196\u001b[0m, in \u001b[0;36mload_model\u001b[0;34m(filepath, custom_objects)\u001b[0m\n\u001b[1;32m    194\u001b[0m     h5_file\u001b[38;5;241m.\u001b[39mclose()\n\u001b[1;32m    195\u001b[0m \u001b[38;5;28;01mexcept\u001b[39;00m \u001b[38;5;167;01mException\u001b[39;00m \u001b[38;5;28;01mas\u001b[39;00m e:\n\u001b[0;32m--> 196\u001b[0m     \u001b[38;5;28;01mraise\u001b[39;00m e\n\u001b[1;32m    197\u001b[0m \u001b[38;5;28;01melse\u001b[39;00m:\n\u001b[1;32m    198\u001b[0m     \u001b[38;5;28;01mreturn\u001b[39;00m model\n",
      "File \u001b[0;32m~/.local/lib/python3.8/site-packages/keras/saving/experimental/saving_lib.py:183\u001b[0m, in \u001b[0;36mload_model\u001b[0;34m(filepath, custom_objects)\u001b[0m\n\u001b[1;32m    181\u001b[0m config_dict \u001b[38;5;241m=\u001b[39m json\u001b[38;5;241m.\u001b[39mloads(config_json)\n\u001b[1;32m    182\u001b[0m \u001b[38;5;66;03m# Construct the model from the configuration file in the archive.\u001b[39;00m\n\u001b[0;32m--> 183\u001b[0m model \u001b[38;5;241m=\u001b[39m \u001b[43mdeserialize_keras_object\u001b[49m\u001b[43m(\u001b[49m\u001b[43mconfig_dict\u001b[49m\u001b[43m,\u001b[49m\u001b[43m \u001b[49m\u001b[43mcustom_objects\u001b[49m\u001b[43m)\u001b[49m\n\u001b[1;32m    184\u001b[0m h5_file \u001b[38;5;241m=\u001b[39m h5py\u001b[38;5;241m.\u001b[39mFile(tf\u001b[38;5;241m.\u001b[39mio\u001b[38;5;241m.\u001b[39mgfile\u001b[38;5;241m.\u001b[39mjoin(temp_path, _VARS_FNAME), \u001b[38;5;124m\"\u001b[39m\u001b[38;5;124mr\u001b[39m\u001b[38;5;124m\"\u001b[39m)\n\u001b[1;32m    185\u001b[0m _print_h5_file(h5_file, action\u001b[38;5;241m=\u001b[39m\u001b[38;5;124m\"\u001b[39m\u001b[38;5;124mloading\u001b[39m\u001b[38;5;124m\"\u001b[39m)\n",
      "File \u001b[0;32m~/.local/lib/python3.8/site-packages/keras/saving/experimental/serialization_lib.py:318\u001b[0m, in \u001b[0;36mdeserialize_keras_object\u001b[0;34m(config, custom_objects)\u001b[0m\n\u001b[1;32m    315\u001b[0m \u001b[38;5;66;03m# Instantiate the class from its config inside a custom object scope\u001b[39;00m\n\u001b[1;32m    316\u001b[0m \u001b[38;5;66;03m# so that we can catch any custom objects that the config refers to.\u001b[39;00m\n\u001b[1;32m    317\u001b[0m \u001b[38;5;28;01mwith\u001b[39;00m object_registration\u001b[38;5;241m.\u001b[39mcustom_object_scope(custom_objects):\n\u001b[0;32m--> 318\u001b[0m     \u001b[38;5;28;01mreturn\u001b[39;00m \u001b[38;5;28;43mcls\u001b[39;49m\u001b[38;5;241;43m.\u001b[39;49m\u001b[43mfrom_config\u001b[49m\u001b[43m(\u001b[49m\u001b[43minner_config\u001b[49m\u001b[43m)\u001b[49m\n",
      "File \u001b[0;32m~/.local/lib/python3.8/site-packages/keras/engine/training.py:3114\u001b[0m, in \u001b[0;36mModel.from_config\u001b[0;34m(cls, config, custom_objects)\u001b[0m\n\u001b[1;32m   3107\u001b[0m functional_model_keys \u001b[38;5;241m=\u001b[39m [\n\u001b[1;32m   3108\u001b[0m     \u001b[38;5;124m\"\u001b[39m\u001b[38;5;124mname\u001b[39m\u001b[38;5;124m\"\u001b[39m,\n\u001b[1;32m   3109\u001b[0m     \u001b[38;5;124m\"\u001b[39m\u001b[38;5;124mlayers\u001b[39m\u001b[38;5;124m\"\u001b[39m,\n\u001b[1;32m   3110\u001b[0m     \u001b[38;5;124m\"\u001b[39m\u001b[38;5;124minput_layers\u001b[39m\u001b[38;5;124m\"\u001b[39m,\n\u001b[1;32m   3111\u001b[0m     \u001b[38;5;124m\"\u001b[39m\u001b[38;5;124moutput_layers\u001b[39m\u001b[38;5;124m\"\u001b[39m,\n\u001b[1;32m   3112\u001b[0m ]\n\u001b[1;32m   3113\u001b[0m \u001b[38;5;28;01mif\u001b[39;00m \u001b[38;5;28mall\u001b[39m(key \u001b[38;5;129;01min\u001b[39;00m config \u001b[38;5;28;01mfor\u001b[39;00m key \u001b[38;5;129;01min\u001b[39;00m functional_model_keys):\n\u001b[0;32m-> 3114\u001b[0m     inputs, outputs, layers \u001b[38;5;241m=\u001b[39m \u001b[43mfunctional\u001b[49m\u001b[38;5;241;43m.\u001b[39;49m\u001b[43mreconstruct_from_config\u001b[49m\u001b[43m(\u001b[49m\n\u001b[1;32m   3115\u001b[0m \u001b[43m        \u001b[49m\u001b[43mconfig\u001b[49m\u001b[43m,\u001b[49m\u001b[43m \u001b[49m\u001b[43mcustom_objects\u001b[49m\n\u001b[1;32m   3116\u001b[0m \u001b[43m    \u001b[49m\u001b[43m)\u001b[49m\n\u001b[1;32m   3117\u001b[0m     model \u001b[38;5;241m=\u001b[39m \u001b[38;5;28mcls\u001b[39m(\n\u001b[1;32m   3118\u001b[0m         inputs\u001b[38;5;241m=\u001b[39minputs, outputs\u001b[38;5;241m=\u001b[39moutputs, name\u001b[38;5;241m=\u001b[39mconfig\u001b[38;5;241m.\u001b[39mget(\u001b[38;5;124m\"\u001b[39m\u001b[38;5;124mname\u001b[39m\u001b[38;5;124m\"\u001b[39m)\n\u001b[1;32m   3119\u001b[0m     )\n\u001b[1;32m   3120\u001b[0m     functional\u001b[38;5;241m.\u001b[39mconnect_ancillary_layers(model, layers)\n",
      "File \u001b[0;32m~/.local/lib/python3.8/site-packages/keras/engine/functional.py:1470\u001b[0m, in \u001b[0;36mreconstruct_from_config\u001b[0;34m(config, custom_objects, created_layers)\u001b[0m\n\u001b[1;32m   1468\u001b[0m \u001b[38;5;66;03m# First, we create all layers and enqueue nodes to be processed\u001b[39;00m\n\u001b[1;32m   1469\u001b[0m \u001b[38;5;28;01mfor\u001b[39;00m layer_data \u001b[38;5;129;01min\u001b[39;00m config[\u001b[38;5;124m\"\u001b[39m\u001b[38;5;124mlayers\u001b[39m\u001b[38;5;124m\"\u001b[39m]:\n\u001b[0;32m-> 1470\u001b[0m     \u001b[43mprocess_layer\u001b[49m\u001b[43m(\u001b[49m\u001b[43mlayer_data\u001b[49m\u001b[43m)\u001b[49m\n\u001b[1;32m   1471\u001b[0m \u001b[38;5;66;03m# Then we process nodes in order of layer depth.\u001b[39;00m\n\u001b[1;32m   1472\u001b[0m \u001b[38;5;66;03m# Nodes that cannot yet be processed (if the inbound node\u001b[39;00m\n\u001b[1;32m   1473\u001b[0m \u001b[38;5;66;03m# does not yet exist) are re-enqueued, and the process\u001b[39;00m\n\u001b[1;32m   1474\u001b[0m \u001b[38;5;66;03m# is repeated until all nodes are processed.\u001b[39;00m\n\u001b[1;32m   1475\u001b[0m \u001b[38;5;28;01mwhile\u001b[39;00m unprocessed_nodes:\n",
      "File \u001b[0;32m~/.local/lib/python3.8/site-packages/keras/engine/functional.py:1451\u001b[0m, in \u001b[0;36mreconstruct_from_config.<locals>.process_layer\u001b[0;34m(layer_data)\u001b[0m\n\u001b[1;32m   1447\u001b[0m \u001b[38;5;28;01melse\u001b[39;00m:\n\u001b[1;32m   1448\u001b[0m     \u001b[38;5;66;03m# Instantiate layer.\u001b[39;00m\n\u001b[1;32m   1449\u001b[0m     \u001b[38;5;28;01mfrom\u001b[39;00m \u001b[38;5;21;01mkeras\u001b[39;00m\u001b[38;5;21;01m.\u001b[39;00m\u001b[38;5;21;01mlayers\u001b[39;00m \u001b[38;5;28;01mimport\u001b[39;00m deserialize \u001b[38;5;28;01mas\u001b[39;00m deserialize_layer\n\u001b[0;32m-> 1451\u001b[0m     layer \u001b[38;5;241m=\u001b[39m \u001b[43mdeserialize_layer\u001b[49m\u001b[43m(\u001b[49m\u001b[43mlayer_data\u001b[49m\u001b[43m,\u001b[49m\u001b[43m \u001b[49m\u001b[43mcustom_objects\u001b[49m\u001b[38;5;241;43m=\u001b[39;49m\u001b[43mcustom_objects\u001b[49m\u001b[43m)\u001b[49m\n\u001b[1;32m   1452\u001b[0m     created_layers[layer_name] \u001b[38;5;241m=\u001b[39m layer\n\u001b[1;32m   1454\u001b[0m node_count_by_layer[layer] \u001b[38;5;241m=\u001b[39m \u001b[38;5;28mint\u001b[39m(_should_skip_first_node(layer))\n",
      "File \u001b[0;32m~/.local/lib/python3.8/site-packages/keras/layers/serialization.py:252\u001b[0m, in \u001b[0;36mdeserialize\u001b[0;34m(config, custom_objects)\u001b[0m\n\u001b[1;32m    215\u001b[0m \u001b[38;5;124;03m\"\"\"Instantiates a layer from a config dictionary.\u001b[39;00m\n\u001b[1;32m    216\u001b[0m \n\u001b[1;32m    217\u001b[0m \u001b[38;5;124;03mArgs:\u001b[39;00m\n\u001b[0;32m   (...)\u001b[0m\n\u001b[1;32m    249\u001b[0m \u001b[38;5;124;03m```\u001b[39;00m\n\u001b[1;32m    250\u001b[0m \u001b[38;5;124;03m\"\"\"\u001b[39;00m\n\u001b[1;32m    251\u001b[0m populate_deserializable_objects()\n\u001b[0;32m--> 252\u001b[0m \u001b[38;5;28;01mreturn\u001b[39;00m \u001b[43mserialization\u001b[49m\u001b[38;5;241;43m.\u001b[39;49m\u001b[43mdeserialize_keras_object\u001b[49m\u001b[43m(\u001b[49m\n\u001b[1;32m    253\u001b[0m \u001b[43m    \u001b[49m\u001b[43mconfig\u001b[49m\u001b[43m,\u001b[49m\n\u001b[1;32m    254\u001b[0m \u001b[43m    \u001b[49m\u001b[43mmodule_objects\u001b[49m\u001b[38;5;241;43m=\u001b[39;49m\u001b[43mLOCAL\u001b[49m\u001b[38;5;241;43m.\u001b[39;49m\u001b[43mALL_OBJECTS\u001b[49m\u001b[43m,\u001b[49m\n\u001b[1;32m    255\u001b[0m \u001b[43m    \u001b[49m\u001b[43mcustom_objects\u001b[49m\u001b[38;5;241;43m=\u001b[39;49m\u001b[43mcustom_objects\u001b[49m\u001b[43m,\u001b[49m\n\u001b[1;32m    256\u001b[0m \u001b[43m    \u001b[49m\u001b[43mprintable_module_name\u001b[49m\u001b[38;5;241;43m=\u001b[39;49m\u001b[38;5;124;43m\"\u001b[39;49m\u001b[38;5;124;43mlayer\u001b[39;49m\u001b[38;5;124;43m\"\u001b[39;49m\u001b[43m,\u001b[49m\n\u001b[1;32m    257\u001b[0m \u001b[43m\u001b[49m\u001b[43m)\u001b[49m\n",
      "File \u001b[0;32m~/.local/lib/python3.8/site-packages/keras/saving/legacy/serialization.py:500\u001b[0m, in \u001b[0;36mdeserialize_keras_object\u001b[0;34m(identifier, module_objects, custom_objects, printable_module_name)\u001b[0m\n\u001b[1;32m    497\u001b[0m \u001b[38;5;28;01mif\u001b[39;00m \u001b[38;5;28misinstance\u001b[39m(identifier, \u001b[38;5;28mdict\u001b[39m):\n\u001b[1;32m    498\u001b[0m     \u001b[38;5;66;03m# In this case we are dealing with a Keras config dictionary.\u001b[39;00m\n\u001b[1;32m    499\u001b[0m     config \u001b[38;5;241m=\u001b[39m identifier\n\u001b[0;32m--> 500\u001b[0m     (\u001b[38;5;28mcls\u001b[39m, cls_config) \u001b[38;5;241m=\u001b[39m \u001b[43mclass_and_config_for_serialized_keras_object\u001b[49m\u001b[43m(\u001b[49m\n\u001b[1;32m    501\u001b[0m \u001b[43m        \u001b[49m\u001b[43mconfig\u001b[49m\u001b[43m,\u001b[49m\u001b[43m \u001b[49m\u001b[43mmodule_objects\u001b[49m\u001b[43m,\u001b[49m\u001b[43m \u001b[49m\u001b[43mcustom_objects\u001b[49m\u001b[43m,\u001b[49m\u001b[43m \u001b[49m\u001b[43mprintable_module_name\u001b[49m\n\u001b[1;32m    502\u001b[0m \u001b[43m    \u001b[49m\u001b[43m)\u001b[49m\n\u001b[1;32m    504\u001b[0m     \u001b[38;5;66;03m# If this object has already been loaded (i.e. it's shared between\u001b[39;00m\n\u001b[1;32m    505\u001b[0m     \u001b[38;5;66;03m# multiple objects), return the already-loaded object.\u001b[39;00m\n\u001b[1;32m    506\u001b[0m     shared_object_id \u001b[38;5;241m=\u001b[39m config\u001b[38;5;241m.\u001b[39mget(SHARED_OBJECT_KEY)\n",
      "File \u001b[0;32m~/.local/lib/python3.8/site-packages/keras/saving/legacy/serialization.py:385\u001b[0m, in \u001b[0;36mclass_and_config_for_serialized_keras_object\u001b[0;34m(config, module_objects, custom_objects, printable_module_name)\u001b[0m\n\u001b[1;32m    381\u001b[0m \u001b[38;5;28mcls\u001b[39m \u001b[38;5;241m=\u001b[39m object_registration\u001b[38;5;241m.\u001b[39mget_registered_object(\n\u001b[1;32m    382\u001b[0m     class_name, custom_objects, module_objects\n\u001b[1;32m    383\u001b[0m )\n\u001b[1;32m    384\u001b[0m \u001b[38;5;28;01mif\u001b[39;00m \u001b[38;5;28mcls\u001b[39m \u001b[38;5;129;01mis\u001b[39;00m \u001b[38;5;28;01mNone\u001b[39;00m:\n\u001b[0;32m--> 385\u001b[0m     \u001b[38;5;28;01mraise\u001b[39;00m \u001b[38;5;167;01mValueError\u001b[39;00m(\n\u001b[1;32m    386\u001b[0m         \u001b[38;5;124mf\u001b[39m\u001b[38;5;124m\"\u001b[39m\u001b[38;5;124mUnknown \u001b[39m\u001b[38;5;132;01m{\u001b[39;00mprintable_module_name\u001b[38;5;132;01m}\u001b[39;00m\u001b[38;5;124m: \u001b[39m\u001b[38;5;124m'\u001b[39m\u001b[38;5;132;01m{\u001b[39;00mclass_name\u001b[38;5;132;01m}\u001b[39;00m\u001b[38;5;124m'\u001b[39m\u001b[38;5;124m. \u001b[39m\u001b[38;5;124m\"\u001b[39m\n\u001b[1;32m    387\u001b[0m         \u001b[38;5;124m\"\u001b[39m\u001b[38;5;124mPlease ensure you are using a `keras.utils.custom_object_scope` \u001b[39m\u001b[38;5;124m\"\u001b[39m\n\u001b[1;32m    388\u001b[0m         \u001b[38;5;124m\"\u001b[39m\u001b[38;5;124mand that this object is included in the scope. See \u001b[39m\u001b[38;5;124m\"\u001b[39m\n\u001b[1;32m    389\u001b[0m         \u001b[38;5;124m\"\u001b[39m\u001b[38;5;124mhttps://www.tensorflow.org/guide/keras/save_and_serialize\u001b[39m\u001b[38;5;124m\"\u001b[39m\n\u001b[1;32m    390\u001b[0m         \u001b[38;5;124m\"\u001b[39m\u001b[38;5;124m#registering_the_custom_object for details.\u001b[39m\u001b[38;5;124m\"\u001b[39m\n\u001b[1;32m    391\u001b[0m     )\n\u001b[1;32m    393\u001b[0m cls_config \u001b[38;5;241m=\u001b[39m config[\u001b[38;5;124m\"\u001b[39m\u001b[38;5;124mconfig\u001b[39m\u001b[38;5;124m\"\u001b[39m]\n\u001b[1;32m    394\u001b[0m \u001b[38;5;66;03m# Check if `cls_config` is a list. If it is a list, return the class and the\u001b[39;00m\n\u001b[1;32m    395\u001b[0m \u001b[38;5;66;03m# associated class configs for recursively deserialization. This case will\u001b[39;00m\n\u001b[1;32m    396\u001b[0m \u001b[38;5;66;03m# happen on the old version of sequential model (e.g. `keras_version` ==\u001b[39;00m\n\u001b[1;32m    397\u001b[0m \u001b[38;5;66;03m# \"2.0.6\"), which is serialized in a different structure, for example\u001b[39;00m\n\u001b[1;32m    398\u001b[0m \u001b[38;5;66;03m# \"{'class_name': 'Sequential',\u001b[39;00m\n\u001b[1;32m    399\u001b[0m \u001b[38;5;66;03m#   'config': [{'class_name': 'Embedding', 'config': ...}, {}, ...]}\".\u001b[39;00m\n",
      "\u001b[0;31mValueError\u001b[0m: Unknown layer: 'FullGatedConv2D'. Please ensure you are using a `keras.utils.custom_object_scope` and that this object is included in the scope. See https://www.tensorflow.org/guide/keras/save_and_serialize#registering_the_custom_object for details."
     ]
    }
   ],
   "source": [
    "ner=joblib.load('c1model.pkl')"
   ]
  },
  {
   "cell_type": "code",
   "execution_count": null,
   "id": "e03140a5",
   "metadata": {},
   "outputs": [],
   "source": []
  },
  {
   "cell_type": "code",
   "execution_count": null,
   "id": "fe49570b",
   "metadata": {},
   "outputs": [],
   "source": []
  },
  {
   "cell_type": "code",
   "execution_count": 227,
   "id": "4535072b",
   "metadata": {},
   "outputs": [],
   "source": [
    "import pickle\n"
   ]
  },
  {
   "cell_type": "code",
   "execution_count": 228,
   "id": "970fb72c",
   "metadata": {},
   "outputs": [],
   "source": [
    "f=\"c1model.sav\""
   ]
  },
  {
   "cell_type": "code",
   "execution_count": 229,
   "id": "f4d49c19",
   "metadata": {},
   "outputs": [
    {
     "name": "stdout",
     "output_type": "stream",
     "text": [
      "Keras weights file (<HDF5 file \"variables.h5\" (mode r+)>) saving:\n",
      "...layers\n",
      "......batch_normalization\n",
      ".........vars\n",
      "............0\n",
      "............1\n",
      "............2\n",
      "............3\n",
      "............4\n",
      "............5\n",
      "............6\n",
      "......batch_normalization_1\n",
      ".........vars\n",
      "............0\n",
      "............1\n",
      "............2\n",
      "............3\n",
      "............4\n",
      "............5\n",
      "............6\n",
      "......batch_normalization_2\n",
      ".........vars\n",
      "............0\n",
      "............1\n",
      "............2\n",
      "............3\n",
      "............4\n",
      "............5\n",
      "............6\n",
      "......batch_normalization_3\n",
      ".........vars\n",
      "............0\n",
      "............1\n",
      "............2\n",
      "............3\n",
      "............4\n",
      "............5\n",
      "............6\n",
      "......batch_normalization_4\n",
      ".........vars\n",
      "............0\n",
      "............1\n",
      "............2\n",
      "............3\n",
      "............4\n",
      "............5\n",
      "............6\n",
      "......batch_normalization_5\n",
      ".........vars\n",
      "............0\n",
      "............1\n",
      "............2\n",
      "............3\n",
      "............4\n",
      "............5\n",
      "............6\n",
      "......bidirectional\n",
      ".........backward_layer\n",
      "............cell\n",
      "...............vars\n",
      "..................0\n",
      "..................1\n",
      "..................2\n",
      "............vars\n",
      ".........forward_layer\n",
      "............cell\n",
      "...............vars\n",
      "..................0\n",
      "..................1\n",
      "..................2\n",
      "............vars\n",
      ".........layer\n",
      "............cell\n",
      "...............vars\n",
      "............vars\n",
      ".........vars\n",
      "......bidirectional_1\n",
      ".........backward_layer\n",
      "............cell\n",
      "...............vars\n",
      "..................0\n",
      "..................1\n",
      "..................2\n",
      "............vars\n",
      ".........forward_layer\n",
      "............cell\n",
      "...............vars\n",
      "..................0\n",
      "..................1\n",
      "..................2\n",
      "............vars\n",
      ".........layer\n",
      "............cell\n",
      "...............vars\n",
      "............vars\n",
      ".........vars\n",
      "......conv2d\n",
      ".........vars\n",
      "............0\n",
      "............1\n",
      "......conv2d_1\n",
      ".........vars\n",
      "............0\n",
      "............1\n",
      "......conv2d_2\n",
      ".........vars\n",
      "............0\n",
      "............1\n",
      "......conv2d_3\n",
      ".........vars\n",
      "............0\n",
      "............1\n",
      "......conv2d_4\n",
      ".........vars\n",
      "............0\n",
      "............1\n",
      "......conv2d_5\n",
      ".........vars\n",
      "............0\n",
      "............1\n",
      "......dense\n",
      ".........vars\n",
      "............0\n",
      "............1\n",
      "......dense_1\n",
      ".........vars\n",
      "............0\n",
      "............1\n",
      "......dropout\n",
      ".........vars\n",
      "......dropout_1\n",
      ".........vars\n",
      "......dropout_2\n",
      ".........vars\n",
      "......full_gated_conv2d\n",
      ".........vars\n",
      "............0\n",
      "............1\n",
      "......full_gated_conv2d_1\n",
      ".........vars\n",
      "............0\n",
      "............1\n",
      "......full_gated_conv2d_2\n",
      ".........vars\n",
      "............0\n",
      "............1\n",
      "......full_gated_conv2d_3\n",
      ".........vars\n",
      "............0\n",
      "............1\n",
      "......full_gated_conv2d_4\n",
      ".........vars\n",
      "............0\n",
      "............1\n",
      "......input_layer\n",
      ".........vars\n",
      "......p_re_lu\n",
      ".........vars\n",
      "............0\n",
      "......p_re_lu_1\n",
      ".........vars\n",
      "............0\n",
      "......p_re_lu_2\n",
      ".........vars\n",
      "............0\n",
      "......p_re_lu_3\n",
      ".........vars\n",
      "............0\n",
      "......p_re_lu_4\n",
      ".........vars\n",
      "............0\n",
      "......p_re_lu_5\n",
      ".........vars\n",
      "............0\n",
      "......reshape\n",
      ".........vars\n",
      "...metrics\n",
      "......mean\n",
      ".........vars\n",
      "............0\n",
      "............1\n",
      "...optimizer\n",
      "......vars\n",
      ".........0\n",
      ".........1\n",
      ".........10\n",
      ".........11\n",
      ".........12\n",
      ".........13\n",
      ".........14\n",
      ".........15\n",
      ".........16\n",
      ".........17\n",
      ".........18\n",
      ".........19\n",
      ".........2\n",
      ".........20\n",
      ".........21\n",
      ".........22\n",
      ".........23\n",
      ".........24\n",
      ".........25\n",
      ".........26\n",
      ".........27\n",
      ".........28\n",
      ".........29\n",
      ".........3\n",
      ".........30\n",
      ".........31\n",
      ".........32\n",
      ".........33\n",
      ".........34\n",
      ".........35\n",
      ".........36\n",
      ".........37\n",
      ".........38\n",
      ".........39\n",
      ".........4\n",
      ".........40\n",
      ".........41\n",
      ".........42\n",
      ".........43\n",
      ".........44\n",
      ".........45\n",
      ".........46\n",
      ".........47\n",
      ".........48\n",
      ".........49\n",
      ".........5\n",
      ".........50\n",
      ".........51\n",
      ".........52\n",
      ".........53\n",
      ".........54\n",
      ".........55\n",
      ".........56\n",
      ".........6\n",
      ".........7\n",
      ".........8\n",
      ".........9\n",
      "...vars\n",
      "Keras model archive saving:\n",
      "File Name                                             Modified             Size\n",
      "metadata.json                                  2023-04-14 16:04:18           64\n",
      "variables.h5                                   2023-04-14 16:04:18      2695880\n",
      "config.json                                    2023-04-14 16:04:18        18567\n"
     ]
    }
   ],
   "source": [
    "pickle.dump(model,open(f,'wb'))"
   ]
  },
  {
   "cell_type": "code",
   "execution_count": null,
   "id": "7854b4ce",
   "metadata": {},
   "outputs": [],
   "source": []
  },
  {
   "cell_type": "code",
   "execution_count": 236,
   "id": "3923f52c",
   "metadata": {},
   "outputs": [
    {
     "ename": "TypeError",
     "evalue": "a bytes-like object is required, not 'str'",
     "output_type": "error",
     "traceback": [
      "\u001b[0;31m---------------------------------------------------------------------------\u001b[0m",
      "\u001b[0;31mTypeError\u001b[0m                                 Traceback (most recent call last)",
      "Input \u001b[0;32mIn [236]\u001b[0m, in \u001b[0;36m<cell line: 1>\u001b[0;34m()\u001b[0m\n\u001b[0;32m----> 1\u001b[0m lm\u001b[38;5;241m=\u001b[39m\u001b[43mpickle\u001b[49m\u001b[38;5;241;43m.\u001b[39;49m\u001b[43mloads\u001b[49m\u001b[43m(\u001b[49m\u001b[43mf\u001b[49m\u001b[43m)\u001b[49m\n",
      "\u001b[0;31mTypeError\u001b[0m: a bytes-like object is required, not 'str'"
     ]
    }
   ],
   "source": [
    "lm=pickle.loads(f)"
   ]
  },
  {
   "cell_type": "code",
   "execution_count": 234,
   "id": "f4afae2e",
   "metadata": {},
   "outputs": [
    {
     "ename": "NameError",
     "evalue": "name 'lm' is not defined",
     "output_type": "error",
     "traceback": [
      "\u001b[0;31m---------------------------------------------------------------------------\u001b[0m",
      "\u001b[0;31mNameError\u001b[0m                                 Traceback (most recent call last)",
      "Input \u001b[0;32mIn [234]\u001b[0m, in \u001b[0;36m<cell line: 1>\u001b[0;34m()\u001b[0m\n\u001b[0;32m----> 1\u001b[0m \u001b[43mlm\u001b[49m\u001b[38;5;241m.\u001b[39mpredict(curr_img1)\n",
      "\u001b[0;31mNameError\u001b[0m: name 'lm' is not defined"
     ]
    }
   ],
   "source": [
    "lm.predict(curr_img1)"
   ]
  },
  {
   "cell_type": "code",
   "execution_count": null,
   "id": "13559896",
   "metadata": {},
   "outputs": [],
   "source": []
  },
  {
   "cell_type": "code",
   "execution_count": null,
   "id": "97f79b74",
   "metadata": {},
   "outputs": [],
   "source": []
  },
  {
   "cell_type": "code",
   "execution_count": 220,
   "id": "02aa9790",
   "metadata": {},
   "outputs": [],
   "source": [
    "path=\"..//output//wights\""
   ]
  },
  {
   "cell_type": "code",
   "execution_count": 221,
   "id": "f43a5e57",
   "metadata": {},
   "outputs": [
    {
     "ename": "AttributeError",
     "evalue": "'HTRModel' object has no attribute 'save_weights'",
     "output_type": "error",
     "traceback": [
      "\u001b[0;31m---------------------------------------------------------------------------\u001b[0m",
      "\u001b[0;31mAttributeError\u001b[0m                            Traceback (most recent call last)",
      "Input \u001b[0;32mIn [221]\u001b[0m, in \u001b[0;36m<cell line: 1>\u001b[0;34m()\u001b[0m\n\u001b[0;32m----> 1\u001b[0m \u001b[43mmodel\u001b[49m\u001b[38;5;241;43m.\u001b[39;49m\u001b[43msave_weights\u001b[49m(path)\n",
      "\u001b[0;31mAttributeError\u001b[0m: 'HTRModel' object has no attribute 'save_weights'"
     ]
    }
   ],
   "source": [
    "model.save_weights(path)"
   ]
  },
  {
   "cell_type": "code",
   "execution_count": null,
   "id": "6eebe162",
   "metadata": {},
   "outputs": [],
   "source": []
  },
  {
   "cell_type": "code",
   "execution_count": null,
   "id": "6498775b",
   "metadata": {},
   "outputs": [],
   "source": []
  },
  {
   "cell_type": "code",
   "execution_count": 233,
   "id": "2770d364",
   "metadata": {},
   "outputs": [
    {
     "data": {
      "text/plain": [
       "(1, 128, 32)"
      ]
     },
     "execution_count": 233,
     "metadata": {},
     "output_type": "execute_result"
    }
   ],
   "source": [
    "curr_img1.shape"
   ]
  },
  {
   "cell_type": "code",
   "execution_count": 61,
   "id": "673ed047",
   "metadata": {},
   "outputs": [],
   "source": [
    "curr_img1 = np.expand_dims(curr_img, 0)"
   ]
  },
  {
   "cell_type": "code",
   "execution_count": 62,
   "id": "20ccbec9",
   "metadata": {},
   "outputs": [
    {
     "data": {
      "text/plain": [
       "([array([[56, 61, 62, 21,  3, 23]])], [array([0.32158688], dtype=float32)])"
      ]
     },
     "execution_count": 62,
     "metadata": {},
     "output_type": "execute_result"
    }
   ],
   "source": [
    "model.predict(curr_img1)"
   ]
  },
  {
   "cell_type": "code",
   "execution_count": 63,
   "id": "4a61f842",
   "metadata": {},
   "outputs": [
    {
     "name": "stdout",
     "output_type": "stream",
     "text": [
      "स\n",
      "ि\n",
      "ी\n",
      "क\n",
      "ं\n",
      "ग\n"
     ]
    }
   ],
   "source": [
    "print(charl[56])\n",
    "print(charl[61])\n",
    "print(charl[62])\n",
    "print(charl[21])\n",
    "print(charl[3])\n",
    "print(charl[23])"
   ]
  },
  {
   "cell_type": "code",
   "execution_count": 64,
   "id": "141eb53b",
   "metadata": {},
   "outputs": [
    {
     "data": {
      "text/plain": [
       "<matplotlib.image.AxesImage at 0x7f81bf4e85b0>"
      ]
     },
     "execution_count": 64,
     "metadata": {},
     "output_type": "execute_result"
    },
    {
     "data": {
      "image/png": "[encoded data removed]",
      "text/plain": [
       "<Figure size 432x288 with 1 Axes>"
      ]
     },
     "metadata": {
      "needs_background": "light"
     },
     "output_type": "display_data"
    }
   ],
   "source": [
    "plt.imshow(curr_img)"
   ]
  },
  {
   "cell_type": "code",
   "execution_count": 26,
   "id": "a91dc951",
   "metadata": {},
   "outputs": [
    {
     "name": "stdout",
     "output_type": "stream",
     "text": [
      "ह\n",
      "ा\n",
      "ं\n",
      "ग\n",
      "क\n",
      "ा\n",
      "ं\n",
      "ग\n"
     ]
    }
   ],
   "source": [
    "print(charl[57])\n",
    "print(charl[60])\n",
    "print(charl[3])\n",
    "print(charl[23])\n",
    "print(charl[21])\n",
    "print(charl[60])\n",
    "print(charl[3])\n",
    "print(charl[23])"
   ]
  },
  {
   "cell_type": "code",
   "execution_count": 117,
   "id": "535e27ab",
   "metadata": {},
   "outputs": [
    {
     "ename": "ValueError",
     "evalue": "could not broadcast input array from shape (6,) into shape (27,)",
     "output_type": "error",
     "traceback": [
      "\u001b[0;31m---------------------------------------------------------------------------\u001b[0m",
      "\u001b[0;31mValueError\u001b[0m                                Traceback (most recent call last)",
      "Input \u001b[0;32mIn [117]\u001b[0m, in \u001b[0;36m<cell line: 1>\u001b[0;34m()\u001b[0m\n\u001b[0;32m----> 1\u001b[0m xt\u001b[38;5;241m=\u001b[39m\u001b[43mtest_datagen\u001b[49m\u001b[43m[\u001b[49m\u001b[38;5;241;43m0\u001b[39;49m\u001b[43m]\u001b[49m[\u001b[38;5;241m0\u001b[39m]\n\u001b[1;32m      2\u001b[0m yt\u001b[38;5;241m=\u001b[39mtest_datagen[\u001b[38;5;241m0\u001b[39m][\u001b[38;5;241m1\u001b[39m]\n",
      "Input \u001b[0;32mIn [115]\u001b[0m, in \u001b[0;36mDataGen1.__getitem__\u001b[0;34m(self, i)\u001b[0m\n\u001b[1;32m     45\u001b[0m     \u001b[38;5;66;03m#curr_img = tf.image.resize(curr_img, (self.img_size[0], self.img_size[1]), method=\"nearest\")\u001b[39;00m\n\u001b[1;32m     46\u001b[0m     \u001b[38;5;66;03m#curr_img = curr_img.numpy().reshape((self.img_size[0], self.img_size[1],1))\u001b[39;00m\n\u001b[1;32m     47\u001b[0m     batch_images[ii, :, :,\u001b[38;5;241m0\u001b[39m] \u001b[38;5;241m=\u001b[39m curr_img \n\u001b[0;32m---> 48\u001b[0m     batch_labels[ii,:] \u001b[38;5;241m=\u001b[39m curr_label\n\u001b[1;32m     50\u001b[0m \u001b[38;5;28;01mif\u001b[39;00m \u001b[38;5;28mself\u001b[39m\u001b[38;5;241m.\u001b[39mmode \u001b[38;5;241m==\u001b[39m \u001b[38;5;124m\"\u001b[39m\u001b[38;5;124mTRAIN\u001b[39m\u001b[38;5;124m\"\u001b[39m:\n\u001b[1;32m     51\u001b[0m   \u001b[38;5;28;01mreturn\u001b[39;00m batch_images, batch_labels\n",
      "\u001b[0;31mValueError\u001b[0m: could not broadcast input array from shape (6,) into shape (27,)"
     ]
    }
   ],
   "source": [
    "xt=test_datagen[0][0]\n",
    "yt=test_datagen[0][1]"
   ]
  },
  {
   "cell_type": "code",
   "execution_count": 84,
   "id": "46062c13",
   "metadata": {},
   "outputs": [
    {
     "name": "stdout",
     "output_type": "stream",
     "text": [
      "Model Predict\n",
      "1/1 [==============================] - 2s 2s/step\n",
      "CTC Decode\n",
      "1/1 [==============================] - 84s 84s/step\n"
     ]
    }
   ],
   "source": [
    "predicts, _ = model.predict(x=xt,\n",
    "                            ctc_decode=True,\n",
    "                            verbose=1)"
   ]
  },
  {
   "cell_type": "code",
   "execution_count": 96,
   "id": "31bfff8e",
   "metadata": {},
   "outputs": [
    {
     "data": {
      "text/plain": [
       "1"
      ]
     },
     "execution_count": 96,
     "metadata": {},
     "output_type": "execute_result"
    }
   ],
   "source": [
    "len(predicts[0])"
   ]
  },
  {
   "cell_type": "code",
   "execution_count": 100,
   "id": "a7f9ef1a",
   "metadata": {},
   "outputs": [
    {
     "data": {
      "text/plain": [
       "[26, 61, 50, 74, 21, 60]"
      ]
     },
     "execution_count": 100,
     "metadata": {},
     "output_type": "execute_result"
    }
   ],
   "source": [
    "predicts[1][0]"
   ]
  },
  {
   "cell_type": "code",
   "execution_count": 101,
   "id": "9e88242f",
   "metadata": {},
   "outputs": [],
   "source": [
    "def convert(predicts):\n",
    "    a=[]\n",
    "    b=[]\n",
    "    for i in range(len(predicts)):\n",
    "        b=[]\n",
    "        for j in range(len(predicts[i][0])):\n",
    "            b.append(charl[predicts[i][0][j]])\n",
    "        a.append(b)\n",
    "    return a"
   ]
  },
  {
   "cell_type": "code",
   "execution_count": 132,
   "id": "af1d19d5",
   "metadata": {},
   "outputs": [],
   "source": [
    "def convert1(predicts):\n",
    "    a=[]\n",
    "    b=[]\n",
    "    for i in range(len(predicts)):\n",
    "        b=[]\n",
    "        for j in range(len(predicts[i])):\n",
    "            b.append(charl[int(predicts[i][j])])\n",
    "        a.append(b)\n",
    "    return a"
   ]
  },
  {
   "cell_type": "code",
   "execution_count": 122,
   "id": "754b41fa",
   "metadata": {},
   "outputs": [],
   "source": [
    "def trim(yt):\n",
    "    yt1=[]\n",
    "    for i in range(len(yt)):\n",
    "        k=0\n",
    "        for j in range(26,0,-1):\n",
    "            if yt[i][j]!=0:\n",
    "                yt1.append(yt[i][0:j+1])\n",
    "                k=1\n",
    "                break\n",
    "        if k==0:\n",
    "            yt1.append([0])\n",
    "    return yt1"
   ]
  },
  {
   "cell_type": "code",
   "execution_count": 123,
   "id": "302c3f95",
   "metadata": {},
   "outputs": [],
   "source": [
    "yt1=trim(yt)"
   ]
  },
  {
   "cell_type": "code",
   "execution_count": 126,
   "id": "c4c9021a",
   "metadata": {},
   "outputs": [
    {
     "data": {
      "text/plain": [
       "6"
      ]
     },
     "execution_count": 126,
     "metadata": {},
     "output_type": "execute_result"
    }
   ],
   "source": [
    "len(yt1[0])"
   ]
  },
  {
   "cell_type": "code",
   "execution_count": 125,
   "id": "c47b0cb3",
   "metadata": {},
   "outputs": [
    {
     "data": {
      "text/plain": [
       "27"
      ]
     },
     "execution_count": 125,
     "metadata": {},
     "output_type": "execute_result"
    }
   ],
   "source": [
    "len(yt[0])"
   ]
  },
  {
   "cell_type": "code",
   "execution_count": 131,
   "id": "a0fee033",
   "metadata": {},
   "outputs": [
    {
     "data": {
      "text/plain": [
       "60.0"
      ]
     },
     "execution_count": 131,
     "metadata": {},
     "output_type": "execute_result"
    }
   ],
   "source": [
    "yt1[0][1]"
   ]
  },
  {
   "cell_type": "code",
   "execution_count": 102,
   "id": "b7b28b98",
   "metadata": {},
   "outputs": [],
   "source": [
    "predicts1=convert(predicts)"
   ]
  },
  {
   "cell_type": "code",
   "execution_count": 133,
   "id": "caf6fecc",
   "metadata": {},
   "outputs": [],
   "source": [
    "gt=convert1(yt1)"
   ]
  },
  {
   "cell_type": "code",
   "execution_count": 139,
   "id": "013ec780",
   "metadata": {},
   "outputs": [],
   "source": [
    "from data import evaluation"
   ]
  },
  {
   "cell_type": "code",
   "execution_count": 145,
   "id": "3c3cd9e0",
   "metadata": {},
   "outputs": [],
   "source": [
    "\n",
    "import string\n",
    "import unicodedata\n",
    "import editdistance\n",
    "import numpy as np\n",
    "\n",
    "\n",
    "def ocr_metrics(predicts, ground_truth, norm_accentuation=False, norm_punctuation=False):\n",
    "    \"\"\"Calculate Character Error Rate (CER), Word Error Rate (WER) and Sequence Error Rate (SER)\"\"\"\n",
    "\n",
    "    if len(predicts) == 0 or len(ground_truth) == 0:\n",
    "        return (1, 1, 1)\n",
    "\n",
    "    cer, wer, ser = [], [], []\n",
    "\n",
    "    for (pd, gt) in zip(predicts, ground_truth):\n",
    "        '''pd, gt = pd.lower(), gt.lower()\n",
    "\n",
    "        if norm_accentuation:\n",
    "            pd = unicodedata.normalize(\"NFKD\", pd).encode(\"ASCII\", \"ignore\").decode(\"ASCII\")\n",
    "            gt = unicodedata.normalize(\"NFKD\", gt).encode(\"ASCII\", \"ignore\").decode(\"ASCII\")\n",
    "\n",
    "        if norm_punctuation:\n",
    "            pd = pd.translate(str.maketrans(\"\", \"\", string.punctuation))\n",
    "            gt = gt.translate(str.maketrans(\"\", \"\", string.punctuation))\n",
    "\t'''\n",
    "        pd_cer, gt_cer = list(pd), list(gt)\n",
    "        dist = editdistance.eval(pd_cer, gt_cer)\n",
    "        cer.append(dist / (max(len(pd_cer), len(gt_cer))))\n",
    "\n",
    "        pd_wer, gt_wer = pd, gt\n",
    "        dist = editdistance.eval(pd_wer, gt_wer)\n",
    "        wer.append(dist / (max(len(pd_wer), len(gt_wer))))\n",
    "        '''\n",
    "        pd_ser, gt_ser = [pd], [gt]\n",
    "        dist = editdistance.eval(pd_ser, gt_ser)\n",
    "        ser.append(dist / (max(len(pd_ser), len(gt_ser))))\n",
    "        '''\n",
    "    metrics = [cer, wer]\n",
    "    metrics = np.mean(metrics, axis=1)\n",
    "\n",
    "    return metrics"
   ]
  },
  {
   "cell_type": "code",
   "execution_count": 146,
   "id": "33e23217",
   "metadata": {},
   "outputs": [
    {
     "name": "stdout",
     "output_type": "stream",
     "text": [
      "Calculate Character Error Rate 0.914447951099767, Word Error Rate 0.914447951099767 \n"
     ]
    }
   ],
   "source": [
    "evaluate = ocr_metrics(predicts=predicts1,\n",
    "                                  ground_truth=gt,)\n",
    " \n",
    "print(\"Calculate Character Error Rate {}, Word Error Rate {} \".format(evaluate[0],evaluate[1]))"
   ]
  },
  {
   "cell_type": "code",
   "execution_count": 104,
   "id": "95e140a1",
   "metadata": {},
   "outputs": [
    {
     "data": {
      "text/plain": [
       "['व', 'न', 'क', 'ि', 'ा']"
      ]
     },
     "execution_count": 104,
     "metadata": {},
     "output_type": "execute_result"
    }
   ],
   "source": [
    "predicts1[0]"
   ]
  },
  {
   "cell_type": "code",
   "execution_count": 82,
   "id": "78136bef",
   "metadata": {},
   "outputs": [
    {
     "data": {
      "text/plain": [
       "array([[56., 60., 46., ...,  0.,  0.,  0.],\n",
       "       [21., 68., 44., ...,  0.,  0.,  0.],\n",
       "       [ 6., 50., 72., ...,  0.,  0.,  0.],\n",
       "       ...,\n",
       "       [22., 62.,  3., ...,  0.,  0.,  0.],\n",
       "       [26., 61., 50., ...,  0.,  0.,  0.],\n",
       "       [57., 63.,  8., ...,  0.,  0.,  0.]])"
      ]
     },
     "execution_count": 82,
     "metadata": {},
     "output_type": "execute_result"
    }
   ],
   "source": [
    "test_datagen[0][1]"
   ]
  },
  {
   "cell_type": "code",
   "execution_count": 217,
   "id": "f350f7b7",
   "metadata": {},
   "outputs": [
    {
     "data": {
      "text/plain": [
       "<matplotlib.image.AxesImage at 0x7f82e030c2b0>"
      ]
     },
     "execution_count": 217,
     "metadata": {},
     "output_type": "execute_result"
    },
    {
     "data": {
      "image/png": "[encoded data removed]",
      "text/plain": [
       "<Figure size 432x288 with 1 Axes>"
      ]
     },
     "metadata": {
      "needs_background": "light"
     },
     "output_type": "display_data"
    }
   ],
   "source": [
    "plt.imshow(curr_img)"
   ]
  },
  {
   "cell_type": "code",
   "execution_count": 218,
   "id": "f3f72d1d",
   "metadata": {},
   "outputs": [
    {
     "data": {
      "text/plain": [
       "<matplotlib.image.AxesImage at 0x7f81b5091220>"
      ]
     },
     "execution_count": 218,
     "metadata": {},
     "output_type": "execute_result"
    },
    {
     "data": {
      "image/png": "[encoded data removed]",
      "text/plain": [
       "<Figure size 432x288 with 1 Axes>"
      ]
     },
     "metadata": {
      "needs_background": "light"
     },
     "output_type": "display_data"
    }
   ],
   "source": [
    "plt.imshow(thresh1)"
   ]
  },
  {
   "cell_type": "code",
   "execution_count": 219,
   "id": "f59f3779",
   "metadata": {},
   "outputs": [
    {
     "data": {
      "text/plain": [
       "<matplotlib.image.AxesImage at 0x7f82e0326e50>"
      ]
     },
     "execution_count": 219,
     "metadata": {},
     "output_type": "execute_result"
    },
    {
     "data": {
      "image/png": "[encoded data removed]",
      "text/plain": [
       "<Figure size 432x288 with 1 Axes>"
      ]
     },
     "metadata": {
      "needs_background": "light"
     },
     "output_type": "display_data"
    }
   ],
   "source": [
    "plt.imshow(thresh2)"
   ]
  },
  {
   "cell_type": "code",
   "execution_count": 49,
   "id": "fd0ecfc3",
   "metadata": {},
   "outputs": [
    {
     "data": {
      "text/plain": [
       "array([[218, 223, 220, ..., 224, 228, 218],\n",
       "       [221, 222, 220, ..., 224, 226, 223],\n",
       "       [223, 225, 226, ..., 221, 227, 225],\n",
       "       ...,\n",
       "       [220, 220, 220, ..., 220, 220, 220],\n",
       "       [220, 220, 220, ..., 220, 220, 220],\n",
       "       [220, 220, 220, ..., 220, 220, 220]], dtype=uint8)"
      ]
     },
     "execution_count": 49,
     "metadata": {},
     "output_type": "execute_result"
    }
   ],
   "source": [
    "curr_img"
   ]
  },
  {
   "cell_type": "code",
   "execution_count": 210,
   "id": "e82a0660",
   "metadata": {},
   "outputs": [],
   "source": [
    "curr_data = test_data[56].split()\n",
    "curr_img_path = curr_data[0]\n",
    "\n",
    "\n",
    "curr_img_path = \"/\".join(curr_img_path.split(\"/\")[2:])\n",
    "curr_img_path = os.path.join(IMAGES_PATH, curr_img_path)\n",
    "\n",
    "curr_img = Image.open(curr_img_path)\n",
    "#curr_img = tf.image.resize(curr_img, (self.img_size[0], self.img_size[1]), method=\"nearest\")\n",
    "#curr_img = skew_c(curr_img_path)\n",
    "curr_img = ImageOps.grayscale(curr_img)\n",
    "\n",
    "curr_img = img_to_array(curr_img)\n",
    "img_shape = curr_img.shape\n",
    "#curr_img = tf.image.resize(curr_img, (IMG_SIZE[0], IMG_SIZE[1]), method=\"nearest\")\n",
    "#curr_img = curr_img.numpy().reshape((IMG_SIZE[0], IMG_SIZE[1],1))\n",
    "curr_img = pp1.preprocess(curr_img_path, IMG_SIZE)"
   ]
  },
  {
   "cell_type": "code",
   "execution_count": 216,
   "id": "d6fffc1e",
   "metadata": {},
   "outputs": [],
   "source": [
    "thresh1 = cv2.adaptiveThreshold(curr_img, 255, cv2.ADAPTIVE_THRESH_MEAN_C,cv2.THRESH_BINARY, 199, 5)\n",
    "thresh2 = cv2.adaptiveThreshold(curr_img, 255, cv2.ADAPTIVE_THRESH_GAUSSIAN_C,cv2.THRESH_BINARY, 199, 5)"
   ]
  },
  {
   "cell_type": "code",
   "execution_count": 212,
   "id": "e6b41874",
   "metadata": {},
   "outputs": [],
   "source": [
    "import cv2"
   ]
  },
  {
   "cell_type": "code",
   "execution_count": null,
   "id": "4d38494d",
   "metadata": {},
   "outputs": [],
   "source": []
  },
  {
   "cell_type": "code",
   "execution_count": null,
   "id": "7e688e75",
   "metadata": {},
   "outputs": [],
   "source": []
  },
  {
   "cell_type": "code",
   "execution_count": null,
   "id": "b6964ed6",
   "metadata": {},
   "outputs": [],
   "source": []
  },
  {
   "cell_type": "code",
   "execution_count": null,
   "id": "0ab4d1fc",
   "metadata": {},
   "outputs": [],
   "source": []
  },
  {
   "cell_type": "markdown",
   "id": "c29b4459",
   "metadata": {},
   "source": [
    "# charlist generation\n"
   ]
  },
  {
   "cell_type": "code",
   "execution_count": 197,
   "id": "61f282e5",
   "metadata": {},
   "outputs": [],
   "source": [
    "chart=[]"
   ]
  },
  {
   "cell_type": "code",
   "execution_count": 198,
   "id": "79b06e50",
   "metadata": {},
   "outputs": [],
   "source": [
    "for i in range(len(charl)):\n",
    "    chart.append(charl[i])"
   ]
  },
  {
   "cell_type": "code",
   "execution_count": 199,
   "id": "6784ab7f",
   "metadata": {},
   "outputs": [
    {
     "data": {
      "text/plain": [
       "' '"
      ]
     },
     "execution_count": 199,
     "metadata": {},
     "output_type": "execute_result"
    }
   ],
   "source": [
    "chart[0]"
   ]
  },
  {
   "cell_type": "code",
   "execution_count": 200,
   "id": "c53f350f",
   "metadata": {},
   "outputs": [],
   "source": [
    "for i in range(len(vocab)):\n",
    "    for j in range(len(vocab[i])):\n",
    "        if vocab[i][j] not in chart and vocab[i][j] != '\\n':\n",
    "            chart.append(vocab[i][j])"
   ]
  },
  {
   "cell_type": "code",
   "execution_count": 201,
   "id": "09ba3665",
   "metadata": {},
   "outputs": [
    {
     "data": {
      "text/plain": [
       "113"
      ]
     },
     "execution_count": 201,
     "metadata": {},
     "output_type": "execute_result"
    }
   ],
   "source": [
    "len(chart)"
   ]
  },
  {
   "cell_type": "code",
   "execution_count": 194,
   "id": "3a3cd3e4",
   "metadata": {},
   "outputs": [
    {
     "data": {
      "text/plain": [
       "109"
      ]
     },
     "execution_count": 194,
     "metadata": {},
     "output_type": "execute_result"
    }
   ],
   "source": [
    "len(charl)"
   ]
  },
  {
   "cell_type": "code",
   "execution_count": 196,
   "id": "b37fb541",
   "metadata": {},
   "outputs": [
    {
     "data": {
      "text/plain": [
       "[' ',\n",
       " '-',\n",
       " 'ँ',\n",
       " 'ं',\n",
       " 'ः',\n",
       " 'अ',\n",
       " 'आ',\n",
       " 'इ',\n",
       " 'ई',\n",
       " 'उ',\n",
       " 'ऊ',\n",
       " 'ऋ',\n",
       " 'ऌ',\n",
       " 'ऍ',\n",
       " 'ऎ',\n",
       " 'ए',\n",
       " 'ऐ',\n",
       " 'ऑ',\n",
       " 'ऒ',\n",
       " 'ओ',\n",
       " 'औ',\n",
       " 'क',\n",
       " 'ख',\n",
       " 'ग',\n",
       " 'घ',\n",
       " 'ङ',\n",
       " 'च',\n",
       " 'छ',\n",
       " 'ज',\n",
       " 'झ',\n",
       " 'ञ',\n",
       " 'ट',\n",
       " 'ठ',\n",
       " 'ड',\n",
       " 'ढ',\n",
       " 'ण',\n",
       " 'त',\n",
       " 'थ',\n",
       " 'द',\n",
       " 'ध',\n",
       " 'न',\n",
       " 'ऩ',\n",
       " 'प',\n",
       " 'फ',\n",
       " 'ब',\n",
       " 'भ',\n",
       " 'म',\n",
       " 'य',\n",
       " 'र',\n",
       " 'ऱ',\n",
       " 'ल',\n",
       " 'ळ',\n",
       " 'ऴ',\n",
       " 'व',\n",
       " 'श',\n",
       " 'ष',\n",
       " 'स',\n",
       " 'ह',\n",
       " '़',\n",
       " 'ऽ',\n",
       " 'ा',\n",
       " 'ि',\n",
       " 'ी',\n",
       " 'ु',\n",
       " 'ू',\n",
       " 'ृ',\n",
       " 'ॄ',\n",
       " 'ॅ',\n",
       " 'े',\n",
       " 'ै',\n",
       " 'ॉ',\n",
       " 'ॊ',\n",
       " 'ो',\n",
       " 'ौ',\n",
       " '्',\n",
       " 'ॐ',\n",
       " '॑',\n",
       " '॒',\n",
       " '॓',\n",
       " '॔',\n",
       " 'क़',\n",
       " 'ख़',\n",
       " 'ग़',\n",
       " 'ज़',\n",
       " 'ड़',\n",
       " 'ढ़',\n",
       " 'फ़',\n",
       " 'य़',\n",
       " 'ॠ',\n",
       " 'ॢ',\n",
       " '।',\n",
       " '॥',\n",
       " '०',\n",
       " '१',\n",
       " '२',\n",
       " '३',\n",
       " '४',\n",
       " '५',\n",
       " '६',\n",
       " '७',\n",
       " '८',\n",
       " '९',\n",
       " '॰',\n",
       " 'ॱ',\n",
       " 'ॲ',\n",
       " 'ॻ',\n",
       " 'ॼ',\n",
       " 'ॽ',\n",
       " 'ॾ',\n",
       " '\\n',\n",
       " 'ॆ',\n",
       " 'ॿ',\n",
       " 'ॡ',\n",
       " 'ऄ',\n",
       " ' ',\n",
       " '-',\n",
       " 'ँ',\n",
       " 'ं',\n",
       " 'ः',\n",
       " 'अ',\n",
       " 'आ',\n",
       " 'इ',\n",
       " 'ई',\n",
       " 'उ',\n",
       " 'ऊ',\n",
       " 'ऋ',\n",
       " 'ऌ',\n",
       " 'ऍ',\n",
       " 'ऎ',\n",
       " 'ए',\n",
       " 'ऐ',\n",
       " 'ऑ',\n",
       " 'ऒ',\n",
       " 'ओ',\n",
       " 'औ',\n",
       " 'क',\n",
       " 'ख',\n",
       " 'ग',\n",
       " 'घ',\n",
       " 'ङ',\n",
       " 'च',\n",
       " 'छ',\n",
       " 'ज',\n",
       " 'झ',\n",
       " 'ञ',\n",
       " 'ट',\n",
       " 'ठ',\n",
       " 'ड',\n",
       " 'ढ',\n",
       " 'ण',\n",
       " 'त',\n",
       " 'थ',\n",
       " 'द',\n",
       " 'ध',\n",
       " 'न',\n",
       " 'ऩ',\n",
       " 'प',\n",
       " 'फ',\n",
       " 'ब',\n",
       " 'भ',\n",
       " 'म',\n",
       " 'य',\n",
       " 'र',\n",
       " 'ऱ',\n",
       " 'ल',\n",
       " 'ळ',\n",
       " 'ऴ',\n",
       " 'व',\n",
       " 'श',\n",
       " 'ष',\n",
       " 'स',\n",
       " 'ह',\n",
       " '़',\n",
       " 'ऽ',\n",
       " 'ा',\n",
       " 'ि',\n",
       " 'ी',\n",
       " 'ु',\n",
       " 'ू',\n",
       " 'ृ',\n",
       " 'ॄ',\n",
       " 'ॅ',\n",
       " 'े',\n",
       " 'ै',\n",
       " 'ॉ',\n",
       " 'ॊ',\n",
       " 'ो',\n",
       " 'ौ',\n",
       " '्',\n",
       " 'ॐ',\n",
       " '॑',\n",
       " '॒',\n",
       " '॓',\n",
       " '॔',\n",
       " 'क़',\n",
       " 'ख़',\n",
       " 'ग़',\n",
       " 'ज़',\n",
       " 'ड़',\n",
       " 'ढ़',\n",
       " 'फ़',\n",
       " 'य़',\n",
       " 'ॠ',\n",
       " 'ॢ',\n",
       " '।',\n",
       " '॥',\n",
       " '०',\n",
       " '१',\n",
       " '२',\n",
       " '३',\n",
       " '४',\n",
       " '५',\n",
       " '६',\n",
       " '७',\n",
       " '८',\n",
       " '९',\n",
       " '॰',\n",
       " 'ॱ',\n",
       " 'ॲ',\n",
       " 'ॻ',\n",
       " 'ॼ',\n",
       " 'ॽ',\n",
       " 'ॾ']"
      ]
     },
     "execution_count": 196,
     "metadata": {},
     "output_type": "execute_result"
    }
   ],
   "source": [
    "chart"
   ]
  },
  {
   "cell_type": "code",
   "execution_count": 209,
   "id": "a86dcd67",
   "metadata": {},
   "outputs": [
    {
     "data": {
      "text/plain": [
       "['ॆ', 'ॿ', 'ॡ', 'ऄ']"
      ]
     },
     "execution_count": 209,
     "metadata": {},
     "output_type": "execute_result"
    }
   ],
   "source": [
    "chart[109:]"
   ]
  },
  {
   "cell_type": "code",
   "execution_count": null,
   "id": "5a22a820",
   "metadata": {},
   "outputs": [],
   "source": [
    "ch"
   ]
  },
  {
   "cell_type": "code",
   "execution_count": null,
   "id": "44aa7a0f",
   "metadata": {},
   "outputs": [],
   "source": []
  },
  {
   "cell_type": "code",
   "execution_count": 205,
   "id": "7c51f46b",
   "metadata": {},
   "outputs": [
    {
     "data": {
      "text/plain": [
       "'HindiSeg/val/3/67/22.jpg 3870\\n'"
      ]
     },
     "execution_count": 205,
     "metadata": {},
     "output_type": "execute_result"
    }
   ],
   "source": [
    "test_data[56]"
   ]
  },
  {
   "cell_type": "code",
   "execution_count": 206,
   "id": "d9b070be",
   "metadata": {},
   "outputs": [],
   "source": [
    "d=idx_to_vocab[3870]"
   ]
  },
  {
   "cell_type": "code",
   "execution_count": 207,
   "id": "ed178748",
   "metadata": {},
   "outputs": [
    {
     "data": {
      "text/plain": [
       "'प्रत्यक्षदर्शी'"
      ]
     },
     "execution_count": 207,
     "metadata": {},
     "output_type": "execute_result"
    }
   ],
   "source": [
    "d"
   ]
  },
  {
   "cell_type": "code",
   "execution_count": 208,
   "id": "32360db3",
   "metadata": {},
   "outputs": [
    {
     "name": "stdout",
     "output_type": "stream",
     "text": [
      "प\n",
      "्\n",
      "र\n",
      "त\n",
      "्\n",
      "य\n",
      "क\n",
      "्\n",
      "ष\n",
      "द\n",
      "र\n",
      "्\n",
      "श\n",
      "ी\n"
     ]
    }
   ],
   "source": [
    "\n",
    "for i in d:\n",
    "    "
   ]
  },
  {
   "cell_type": "code",
   "execution_count": null,
   "id": "fb4cc6ec",
   "metadata": {},
   "outputs": [],
   "source": []
  },
  {
   "cell_type": "code",
   "execution_count": null,
   "id": "e979413d",
   "metadata": {},
   "outputs": [],
   "source": []
  },
  {
   "cell_type": "code",
   "execution_count": null,
   "id": "3df3eaea",
   "metadata": {},
   "outputs": [],
   "source": []
  },
  {
   "cell_type": "code",
   "execution_count": 170,
   "id": "3635781c",
   "metadata": {},
   "outputs": [],
   "source": [
    "from data import preproc1 as pp1"
   ]
  },
  {
   "cell_type": "code",
   "execution_count": 171,
   "id": "c45d826e",
   "metadata": {},
   "outputs": [],
   "source": [
    "from keras.models import Sequential"
   ]
  },
  {
   "cell_type": "code",
   "execution_count": null,
   "id": "a47619f4",
   "metadata": {},
   "outputs": [],
   "source": [
    "\n",
    "model=Sequential()\n",
    "model.add(Conv2D(filters=16, kernel_size=(3, 3), strides=(2, 2), padding=\"same\", kernel_initializer=\"he_uniform\",input_shape=(1024, 128, 1)))\n",
    "model.add(PReLU(shared_axes=[1, 2]))\n",
    "model.add(BatchNormalization(renorm=True))\n",
    "model.add(FullGatedConv2D(filters=16, kernel_size=(3, 3), padding=\"same\"))\n",
    "model.add(Conv2D(filters=32, kernel_size=(3, 3), strides=(1, 1), padding=\"same\", kernel_initializer=\"he_uniform\"))\n",
    "model.add(PReLU(shared_axes=[1, 2]))\n",
    "model.add(BatchNormalization(renorm=True))\n",
    "model.add(FullGatedConv2D(filters=32, kernel_size=(3, 3), padding=\"same\"))\n",
    "model.add(Conv2D(filters=40, kernel_size=(2, 4), strides=(2, 4), padding=\"same\", kernel_initializer=\"he_uniform\"))\n",
    "model.add(PReLU(shared_axes=[1, 2]))\n",
    "model.add(BatchNormalization(renorm=True))\n",
    "model.add(FullGatedConv2D(filters=40, kernel_size=(3, 3), padding=\"same\", kernel_constraint=MaxNorm(4, [0, 1, 2])))\n",
    "model.add(Dropout(rate=0.2))\n",
    "model.add(Conv2D(filters=48, kernel_size=(3, 3), strides=(1, 1), padding=\"same\", kernel_initializer=\"he_uniform\"))\n",
    "model.add(PReLU(shared_axes=[1, 2]))\n",
    "model.add(BatchNormalization(renorm=True))\n",
    "model.add(FullGatedConv2D(filters=48, kernel_size=(3, 3), padding=\"same\", kernel_constraint=MaxNorm(4, [0, 1, 2])))\n",
    "model.add(Dropout(rate=0.2))\n",
    "model.add(Conv2D(filters=56, kernel_size=(2, 4), strides=(2, 4), padding=\"same\", kernel_initializer=\"he_uniform\"))\n",
    "model.add(PReLU(shared_axes=[1, 2]))\n",
    "model.add(BatchNormalization(renorm=True))\n",
    "model.add(FullGatedConv2D(filters=56, kernel_size=(3, 3), padding=\"same\", kernel_constraint=MaxNorm(4, [0, 1, 2])))\n",
    "model.add(Dropout(rate=0.2))\n",
    "model.add(Conv2D(filters=64, kernel_size=(3, 3), strides=(1, 1), padding=\"same\", kernel_initializer=\"he_uniform\"))\n",
    "model.add(PReLU(shared_axes=[1, 2]))\n",
    "model.add(BatchNormalization(renorm=True))\n",
    "model.add(MaxPooling2D(pool_size=(1, 2), strides=(1, 2), padding=\"valid\"))\n",
    "shape = model.output_shape\n",
    "model.add(Reshape((shape[1], shape[2] * shape[3])))\n",
    "model.add(Bidirectional(GRU(units=128, return_sequences=True, dropout=0.5)))\n",
    "model.add(Dense(units=256))\n",
    "model.add(Bidirectional(GRU(units=128, return_sequences=True, dropout=0.5)))\n",
    "model.add( Dense(units=110+1, activation=\"softmax\"))\n",
    "\n",
    "\n"
   ]
  },
  {
   "cell_type": "code",
   "execution_count": null,
   "id": "2192d73d",
   "metadata": {},
   "outputs": [],
   "source": [
    "model.output_shape"
   ]
  },
  {
   "cell_type": "code",
   "execution_count": null,
   "id": "b1a651e7",
   "metadata": {},
   "outputs": [],
   "source": [
    "\n",
    "def flor(input_size, d_model):\n",
    "    \"\"\"\n",
    "    Gated Convolucional Recurrent Neural Network by Flor et al.\n",
    "    \"\"\"\n",
    "\n",
    "    input_data = Input(name=\"input\", shape=input_size)\n",
    "\n",
    "    cnn = Conv2D(filters=16, kernel_size=(3, 3), strides=(2, 2), padding=\"same\", kernel_initializer=\"he_uniform\")(input_data)\n",
    "    cnn = PReLU(shared_axes=[1, 2])(cnn)\n",
    "    cnn = BatchNormalization(renorm=True)(cnn)\n",
    "    cnn = FullGatedConv2D(filters=16, kernel_size=(3, 3), padding=\"same\")(cnn)\n",
    "\n",
    "    cnn = Conv2D(filters=32, kernel_size=(3, 3), strides=(1, 1), padding=\"same\", kernel_initializer=\"he_uniform\")(cnn)\n",
    "    cnn = PReLU(shared_axes=[1, 2])(cnn)\n",
    "    cnn = BatchNormalization(renorm=True)(cnn)\n",
    "    cnn = FullGatedConv2D(filters=32, kernel_size=(3, 3), padding=\"same\")(cnn)\n",
    "\n",
    "    cnn = Conv2D(filters=40, kernel_size=(2, 4), strides=(2, 4), padding=\"same\", kernel_initializer=\"he_uniform\")(cnn)\n",
    "    cnn = PReLU(shared_axes=[1, 2])(cnn)\n",
    "    cnn = BatchNormalization(renorm=True)(cnn)\n",
    "    cnn = FullGatedConv2D(filters=40, kernel_size=(3, 3), padding=\"same\", kernel_constraint=MaxNorm(4, [0, 1, 2]))(cnn)\n",
    "    cnn = Dropout(rate=0.2)(cnn)\n",
    "\n",
    "    cnn = Conv2D(filters=48, kernel_size=(3, 3), strides=(1, 1), padding=\"same\", kernel_initializer=\"he_uniform\")(cnn)\n",
    "    cnn = PReLU(shared_axes=[1, 2])(cnn)\n",
    "    cnn = BatchNormalization(renorm=True)(cnn)\n",
    "    cnn = FullGatedConv2D(filters=48, kernel_size=(3, 3), padding=\"same\", kernel_constraint=MaxNorm(4, [0, 1, 2]))(cnn)\n",
    "    cnn = Dropout(rate=0.2)(cnn)\n",
    "\n",
    "    cnn = Conv2D(filters=56, kernel_size=(2, 4), strides=(2, 4), padding=\"same\", kernel_initializer=\"he_uniform\")(cnn)\n",
    "    cnn = PReLU(shared_axes=[1, 2])(cnn)\n",
    "    cnn = BatchNormalization(renorm=True)(cnn)\n",
    "    cnn = FullGatedConv2D(filters=56, kernel_size=(3, 3), padding=\"same\", kernel_constraint=MaxNorm(4, [0, 1, 2]))(cnn)\n",
    "    cnn = Dropout(rate=0.2)(cnn)\n",
    "\n",
    "    cnn = Conv2D(filters=64, kernel_size=(3, 3), strides=(1, 1), padding=\"same\", kernel_initializer=\"he_uniform\")(cnn)\n",
    "    cnn = PReLU(shared_axes=[1, 2])(cnn)\n",
    "    cnn = BatchNormalization(renorm=True)(cnn)\n",
    "\n",
    "    cnn = MaxPooling2D(pool_size=(1, 2), strides=(1, 2), padding=\"valid\")(cnn)\n",
    "\n",
    "    shape = cnn.get_shape()\n",
    "    bgru = Reshape((shape[1], shape[2] * shape[3]))(cnn)\n",
    "\n",
    "    bgru = Bidirectional(GRU(units=128, return_sequences=True, dropout=0.5))(bgru)\n",
    "    bgru = Dense(units=256)(bgru)\n",
    "\n",
    "    bgru = Bidirectional(GRU(units=128, return_sequences=True, dropout=0.5))(bgru)\n",
    "    output_data = Dense(units=d_model+1, activation=\"softmax\")(bgru)\n",
    "\n",
    "    return (input_data, output_data)"
   ]
  },
  {
   "cell_type": "code",
   "execution_count": null,
   "id": "b49a3593",
   "metadata": {},
   "outputs": [],
   "source": [
    "model=flor(IMG_SIZE,110)"
   ]
  },
  {
   "cell_type": "code",
   "execution_count": null,
   "id": "f0821bbb",
   "metadata": {},
   "outputs": [],
   "source": [
    "model"
   ]
  },
  {
   "cell_type": "code",
   "execution_count": null,
   "id": "4c5e4a82",
   "metadata": {},
   "outputs": [],
   "source": [
    "model=sequential"
   ]
  },
  {
   "cell_type": "code",
   "execution_count": null,
   "id": "c5d10ff9",
   "metadata": {},
   "outputs": [],
   "source": [
    "model.compile(loss=ctc_loss_lambda_func)"
   ]
  },
  {
   "cell_type": "code",
   "execution_count": null,
   "id": "c17d881f",
   "metadata": {},
   "outputs": [],
   "source": [
    "model.fit(train_datagen, epochs=10, batch_size=8)"
   ]
  },
  {
   "cell_type": "code",
   "execution_count": null,
   "id": "9c529506",
   "metadata": {},
   "outputs": [],
   "source": [
    "#not needed\n",
    "ctc_l=tf.nn.ctc_loss(\n",
    "    tf.zeros((16,50),),\n",
    "    sequence_length,\n",
    "    preprocess_collapse_repeated=False,\n",
    "    ctc_merge_repeated=True,\n",
    "    ignore_longer_outputs_than_inputs=False,\n",
    "    time_major=True\n",
    ")"
   ]
  },
  {
   "cell_type": "code",
   "execution_count": null,
   "id": "cbe07968",
   "metadata": {},
   "outputs": [],
   "source": [
    "#not needed\n",
    "lossc=tf.nn.ctc_loss()"
   ]
  },
  {
   "cell_type": "code",
   "execution_count": null,
   "id": "cf895ebd",
   "metadata": {},
   "outputs": [],
   "source": []
  },
  {
   "cell_type": "code",
   "execution_count": null,
   "id": "19835df7",
   "metadata": {},
   "outputs": [],
   "source": []
  }
 ],
 "metadata": {
  "kernelspec": {
   "display_name": "Python 3 (ipykernel)",
   "language": "python",
   "name": "python3"
  },
  "language_info": {
   "codemirror_mode": {
    "name": "ipython",
    "version": 3
   },
   "file_extension": ".py",
   "mimetype": "text/x-python",
   "name": "python",
   "nbconvert_exporter": "python",
   "pygments_lexer": "ipython3",
   "version": "3.10.9"
  }
 },
 "nbformat": 4,
 "nbformat_minor": 5
}
